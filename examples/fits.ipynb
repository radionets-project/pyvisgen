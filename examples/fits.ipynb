{
 "cells": [
  {
   "cell_type": "code",
   "execution_count": 52,
   "id": "narrow-cassette",
   "metadata": {},
   "outputs": [],
   "source": [
    "from astropy.io import fits\n",
    "import numpy as np\n",
    "import pandas as pd"
   ]
  },
  {
   "cell_type": "markdown",
   "id": "italian-hormone",
   "metadata": {},
   "source": [
    "## Antenna Layout\n",
    "\n",
    "* fitsrec from numpy.record\n",
    "* \n",
    "\n",
    "Keys\n",
    "* ANNAME\n",
    "* STABXYZ\n",
    "* ORBPARM\n",
    "* NOSTA\n",
    "* MNTSTA\n",
    "* STAXOF\n",
    "* DIAMETER\n",
    "* BEAMFWHM (num_ant, 4)\n",
    "* POLTYA\n",
    "* POLAA\n",
    "* POLCALA\n",
    "* POLTYB\n",
    "* POLAB\n",
    "* POLCALB"
   ]
  },
  {
   "cell_type": "code",
   "execution_count": null,
   "id": "rising-tuner",
   "metadata": {},
   "outputs": [],
   "source": [
    "f = fits.open(\"../../test.uvf\")"
   ]
  },
  {
   "cell_type": "code",
   "execution_count": 326,
   "id": "similar-legend",
   "metadata": {},
   "outputs": [
    {
     "data": {
      "text/plain": [
       "XTENSION= 'BINTABLE'           / Extension type                                 \n",
       "BITPIX  =                    8 / Binary data                                    \n",
       "NAXIS   =                    2 / Table is a matrix                              \n",
       "NAXIS1  =                  116 / Width of table in bytes                        \n",
       "NAXIS2  =                    1 / Number of entries in table                     \n",
       "PCOUNT  =                    0 / Random parameter count                         \n",
       "GCOUNT  =                    1 / Group count                                    \n",
       "TFIELDS =                    6 / Number of fields in each row                   \n",
       "EXTNAME = 'AIPS FQ '           / AIPS table file                                \n",
       "EXTVER  =                    1 / Version number of table                        \n",
       "TFORM1  = '1J      '           / FORTRAN format of field  1                     \n",
       "TTYPE1  = 'FRQSEL          '   / Type (heading) of field  1                     \n",
       "TUNIT1  = '        '           / Physical units of field  1                     \n",
       "TFORM2  = '4D      '           / FORTRAN format of field  2                     \n",
       "TTYPE2  = 'IF FREQ         '   / Type (heading) of field  2                     \n",
       "TUNIT2  = 'HZ      '           / Physical units of field  2                     \n",
       "TFORM3  = '4E      '           / FORTRAN format of field  3                     \n",
       "TTYPE3  = 'CH WIDTH        '   / Type (heading) of field  3                     \n",
       "TUNIT3  = 'HZ      '           / Physical units of field  3                     \n",
       "TFORM4  = '4E      '           / FORTRAN format of field  4                     \n",
       "TTYPE4  = 'TOTAL BANDWIDTH '   / Type (heading) of field  4                     \n",
       "TUNIT4  = 'HZ      '           / Physical units of field  4                     \n",
       "TFORM5  = '4J      '           / FORTRAN format of field  5                     \n",
       "TTYPE5  = 'SIDEBAND        '   / Type (heading) of field  5                     \n",
       "TUNIT5  = '        '           / Physical units of field  5                     \n",
       "TFORM6  = '32A     '           / FORTRAN format of field  6                     \n",
       "TTYPE6  = 'RXCODE          '   / Type (heading) of field  6                     \n",
       "TUNIT6  = '        '           / Physical units of field  6                     \n",
       "NO_IF   =            4                                                          "
      ]
     },
     "execution_count": 326,
     "metadata": {},
     "output_type": "execute_result"
    }
   ],
   "source": [
    "f[2].header"
   ]
  },
  {
   "cell_type": "code",
   "execution_count": 325,
   "id": "legal-applicant",
   "metadata": {},
   "outputs": [
    {
     "data": {
      "text/plain": [
       "FITS_rec([(1, [0.00e+00, 8.00e+07, 1.44e+08, 2.08e+08], [64000000., 64000000., 64000000., 64000000.], [64000000., 64000000., 64000000., 64000000.], [1, 1, 1, 1], '')],\n",
       "         dtype=(numpy.record, [('FRQSEL', '>i4'), ('IF FREQ', '>f8', (4,)), ('CH WIDTH', '>f4', (4,)), ('TOTAL BANDWIDTH', '>f4', (4,)), ('SIDEBAND', '>i4', (4,)), ('RXCODE', 'S32')]))"
      ]
     },
     "execution_count": 325,
     "metadata": {},
     "output_type": "execute_result"
    }
   ],
   "source": [
    "f[2].data"
   ]
  },
  {
   "cell_type": "code",
   "execution_count": 327,
   "id": "biological-buffer",
   "metadata": {},
   "outputs": [
    {
     "data": {
      "text/plain": [
       "ColDefs(\n",
       "    name = 'FRQSEL'; format = '1J'\n",
       "    name = 'IF FREQ'; format = '4D'; unit = 'HZ'\n",
       "    name = 'CH WIDTH'; format = '4E'; unit = 'HZ'\n",
       "    name = 'TOTAL BANDWIDTH'; format = '4E'; unit = 'HZ'\n",
       "    name = 'SIDEBAND'; format = '4J'\n",
       "    name = 'RXCODE'; format = '32A'\n",
       ")"
      ]
     },
     "execution_count": 327,
     "metadata": {},
     "output_type": "execute_result"
    }
   ],
   "source": [
    "f[2].data.columns"
   ]
  },
  {
   "cell_type": "code",
   "execution_count": 310,
   "id": "endangered-scope",
   "metadata": {},
   "outputs": [],
   "source": [
    "def create_antenna_hdu(layout_txt):\n",
    "    array = pd.read_csv(layout_txt, sep=\" \")\n",
    "    \n",
    "    ANNAME = np.chararray(len(array), itemsize=8, unicode=True)\n",
    "    ANNAME[:] = array[\"station_name\"].values\n",
    "    col1 = fits.Column(name='ANNAME', format='8A', array=ANNAME)\n",
    "    \n",
    "    STABXYZ = np.array([array[\"X\"], array[\"Y\"], array[\"Z\"]], dtype=\">f8\").T\n",
    "    col2 = fits.Column(name='STABXYZ', format='3D', unit=\"METERS\", array=STABXYZ)\n",
    "\n",
    "    ORBPARM = np.array([], dtype=\">f8\")\n",
    "    col3 = fits.Column(name='ORBPARM', format='0D', unit=\" \", array=ORBPARM)\n",
    "\n",
    "    NOSTA = np.arange(len(array), dtype=\">i4\")\n",
    "    col4 = fits.Column(name='NOSTA', format='1J', unit=\" \", array=NOSTA)\n",
    "\n",
    "    MNTSTA = np.zeros(len(array), dtype=\">i4\")\n",
    "    col5 = fits.Column(name='MNTSTA', format='1J', unit=\" \", array=MNTSTA)\n",
    "\n",
    "    STAXOF = np.zeros(len(array), dtype=\">f4\")\n",
    "    col6 = fits.Column(name='STAXOF', format='1E', unit=\"METERS\", array=STAXOF)\n",
    "\n",
    "    DIAMETER = np.array(array[\"dish_dia\"].values, dtype=\">f4\")\n",
    "    col7 = fits.Column(name='DIAMETER', format='1E', unit=\"METERS\", array=DIAMETER)\n",
    "\n",
    "    BEAMFWHM = np.zeros((len(array), 4), dtype=\">f4\")\n",
    "    col8 = fits.Column(name='BEAMFWHM', format='4E', unit=\"DEGR/M\", array=BEAMFWHM)\n",
    "\n",
    "    POLTYA = np.chararray(len(array), itemsize=1, unicode=True)\n",
    "    POLTYA[:] = \"R\"\n",
    "    col9 = fits.Column(name='POLTYA', format='1A', unit=\" \", array=POLTYA)\n",
    "\n",
    "    POLAA = np.zeros(len(array), dtype=\">f4\")\n",
    "    col10 = fits.Column(name='POLAA', format='1E', unit=\"DEGREES\", array=POLAA)\n",
    "\n",
    "    POLCALA = np.zeros((len(array), 8), dtype=\">f4\")\n",
    "    col11 = fits.Column(name='POLCALA', format='8E', unit=\" \", array=POLCALA)\n",
    "\n",
    "    POLTYB = np.chararray(len(array), itemsize=1, unicode=True)\n",
    "    POLTYB[:] = \"L\"\n",
    "    col12 = fits.Column(name='POLTYB', format='1A', unit=\" \", array=POLTYB)\n",
    "\n",
    "    POLAB = np.zeros(len(array), dtype=\">f4\")\n",
    "    col13 = fits.Column(name='POLAB', format='1E', unit=\"DEGREES\", array=POLAB)\n",
    "\n",
    "    POLCALB = np.zeros((len(array), 8), dtype=\">f4\")\n",
    "    col14 = fits.Column(name='POLCALB', format='8E', unit=\" \", array=POLCALB)\n",
    "\n",
    "    coldefs_ant = fits.ColDefs([col1, col2, col3, col4, col5, col6, col7, col8, col9, col10, col11, col12, col13, col14])\n",
    "    hdu_ant = fits.BinTableHDU.from_columns(coldefs_ant)\n",
    "    \n",
    "    # add additional keywords\n",
    "    hdu_ant.header[\"EXTNAME\"] = (\"AIPS AN\", \"AIPS table file\")\n",
    "    hdu_ant.header[\"EXTVER\"] = (1, \"Version number of table\")\n",
    "    hdu_ant.header[\"ARRAYX\"] = (0, \"x coordinate of array center (meters)\")\n",
    "    hdu_ant.header[\"ARRAYY\"] = (0, \"y coordinate of array center (meters)\")\n",
    "    hdu_ant.header[\"ARRAYZ\"] = (0, \"z coordinate of array center (meters)\")\n",
    "    hdu_ant.header[\"GSTIA0\"] = (119.85, \"GST at 0h on reference date (degrees)\") # how to calculate??\n",
    "    hdu_ant.header[\"DEGPDY\"] = (360.98564497329994, \"Earth's rotation rate (degrees/day)\")\n",
    "    hdu_ant.header[\"FREQ\"] = (227297000000.0, \"Reference frequency (Hz)\") # read from simulations\n",
    "    hdu_ant.header[\"RDATE\"] = (\"2015-04-08T00:00:00.0\", \"Reference date\") # where do we find this?\n",
    "    hdu_ant.header[\"POLARX\"] = (0, \"x coordinate of North Pole (arc seconds)\") # missing, 0.10819000005722046 MOJAVE\n",
    "    hdu_ant.header[\"POLARY\"] = (0, \"y coordinate of North Pole (arc seconds)\") # missing 0.28815001249313354 MOJAVE\n",
    "    hdu_ant.header[\"UT1UTC\"] = (0, \"UT1 - UTC (sec)\") # missing\n",
    "    hdu_ant.header[\"DATUTC\"] = (0, \"time system - UTC (sec)\") # missing\n",
    "    hdu_ant.header[\"TIMSYS\"] = (\"UTC\", \"Time system\")\n",
    "    hdu_ant.header[\"ARRNAM\"] = (\"EHT\", \"Array name\") # read from layout file\n",
    "    hdu_ant.header[\"XYZHAND\"] = (\"RIGHT\", \"Handedness of station coordinates\")\n",
    "    hdu_ant.header[\"FRAME\"] = (\"????\", \"Coordinate frame\")\n",
    "    hdu_ant.header[\"NUMORB\"] = (0, \"Number orbital parameters in table (n orb)\")\n",
    "    hdu_ant.header[\"NOPCAL\"] = (2, \"Number of polarization calibration values / IF(n pcal)\")\n",
    "    hdu_ant.header[\"NO_IF\"] = (4, \"Number IFs (n IF)\")\n",
    "    hdu_ant.header[\"FREQID\"] = (-1, \"Frequency setup number\")\n",
    "    hdu_ant.header[\"IATUTC\"] = (33, \"No one knows.....\") # how to calculate??\n",
    "    hdu_ant.header[\"POLTYPE\"] = (\" \", \"Type of polarization calibration\")\n",
    "\n",
    "    # add comments\n",
    "    hdu_ant.header.comments[\"TTYPE1\"] = \"Antenna name\"\n",
    "    hdu_ant.header.comments[\"TTYPE2\"] = \"Antenna station coordinates (x, y, z)\"\n",
    "    hdu_ant.header.comments[\"TTYPE3\"] = \"Orbital parameters\"\n",
    "    hdu_ant.header.comments[\"TTYPE4\"] = \"Antenna number\"\n",
    "    hdu_ant.header.comments[\"TTYPE5\"] = \"Mount type\"\n",
    "    hdu_ant.header.comments[\"TTYPE6\"] = \"Axis offset\"\n",
    "    hdu_ant.header.comments[\"TTYPE7\"] = \"Antenna diameter\"\n",
    "    hdu_ant.header.comments[\"TTYPE8\"] = \"Antenna beam FWHM\"\n",
    "    hdu_ant.header.comments[\"TTYPE9\"] = \"R, L, feed A\"\n",
    "    hdu_ant.header.comments[\"TTYPE10\"] = \"Position angle feed A\"\n",
    "    hdu_ant.header.comments[\"TTYPE11\"] = \"Calibration parameters feed A\"\n",
    "    hdu_ant.header.comments[\"TTYPE12\"] = \"R, L, polarization 2\"\n",
    "    hdu_ant.header.comments[\"TTYPE13\"] = \"Position angle feed B\"\n",
    "    hdu_ant.header.comments[\"TTYPE14\"] = \"Calibration parameters feed B\"\n",
    "    \n",
    "    return hdu_ant"
   ]
  },
  {
   "cell_type": "code",
   "execution_count": 311,
   "id": "played-purchase",
   "metadata": {},
   "outputs": [
    {
     "data": {
      "text/plain": [
       "FITS_rec([('ALMA50', [ 2225037.1851, -5441199.162 , -2479303.4629]),\n",
       "          ('SMTO', [-1828796.2   , -5054406.8   ,  3427865.2   ]),\n",
       "          ('LMT', [ -768713.9637, -5988541.7982,  2063275.9472]),\n",
       "          ('Hawaii8', [-5464523.4   , -2493147.08  ,  2150611.75  ]),\n",
       "          ('PV', [ 5088967.9   ,  -301681.6   ,  3825015.8   ]),\n",
       "          ('PdBI', [ 4523998.4   ,   468045.24  ,  4460309.76  ]),\n",
       "          ('SPT', [       0.    ,        0.    , -6359587.3   ]),\n",
       "          ('GLT', [ 1500692.    , -1191735.    ,  6066409.    ])],\n",
       "         dtype=(numpy.record, [('ANNAME', 'S8'), ('STABXYZ', '<f8', (3,)), ('ORBPARM', '<f8', (0,)), ('NOSTA', '<i4'), ('MNTSTA', '<i4'), ('STAXOF', '<f4'), ('DIAMETER', '<f4'), ('BEAMFWHM', '<f4', (4,)), ('POLTYA', 'S1'), ('POLAA', '<f4'), ('POLCALA', '<f4', (8,)), ('POLTYB', 'S1'), ('POLAB', '<f4'), ('POLCALB', '<f4', (8,))]))"
      ]
     },
     "execution_count": 311,
     "metadata": {},
     "output_type": "execute_result"
    }
   ],
   "source": [
    "path = \"../vipy/layouts/eht.txt\"\n",
    "ant_hdu = create_antenna_hdu(path)\n",
    "ant_hdu.data"
   ]
  },
  {
   "cell_type": "code",
   "execution_count": 322,
   "id": "elementary-wages",
   "metadata": {},
   "outputs": [
    {
     "data": {
      "text/plain": [
       "array([0., 0., 0., 0., 0., 0., 0., 0.], dtype=float32)"
      ]
     },
     "execution_count": 322,
     "metadata": {},
     "output_type": "execute_result"
    }
   ],
   "source": [
    "ant_hdu.data[\"POLAB\"]"
   ]
  },
  {
   "cell_type": "code",
   "execution_count": 296,
   "id": "incoming-donna",
   "metadata": {},
   "outputs": [],
   "source": [
    "cel = fits.open(\"../../celestial-01-05.uvfits\")"
   ]
  },
  {
   "cell_type": "code",
   "execution_count": 319,
   "id": "recent-hours",
   "metadata": {},
   "outputs": [
    {
     "data": {
      "text/plain": [
       "FITS_rec([('ALMA50', [ 2225037.1851, -5441199.162 , -2479303.4629], 0., 1, 0, 0., 'R', 0., [0., 0., 0.], 'L', 90., [0., 0., 0.]),\n",
       "          ('SMTO', [-1828796.2   , -5054406.8   ,  3427865.2   ], 0., 2, 0, 0., 'R', 0., [0., 0., 0.], 'L', 90., [0., 0., 0.]),\n",
       "          ('LMT', [ -768713.9637, -5988541.7982,  2063275.9472], 0., 3, 0, 0., 'R', 0., [0., 0., 0.], 'L', 90., [0., 0., 0.]),\n",
       "          ('Hawaii8', [-5464523.4   , -2493147.08  ,  2150611.75  ], 0., 4, 0, 0., 'R', 0., [0., 0., 0.], 'L', 90., [0., 0., 0.]),\n",
       "          ('PV', [ 5088967.9   ,  -301681.6   ,  3825015.8   ], 0., 5, 0, 0., 'R', 0., [0., 0., 0.], 'L', 90., [0., 0., 0.]),\n",
       "          ('PdBI', [ 4523998.4   ,   468045.24  ,  4460309.76  ], 0., 6, 0, 0., 'R', 0., [0., 0., 0.], 'L', 90., [0., 0., 0.]),\n",
       "          ('SPT', [       0.    ,        0.    , -6359587.3   ], 0., 7, 0, 0., 'R', 0., [0., 0., 0.], 'L', 90., [0., 0., 0.]),\n",
       "          ('GLT', [ 1500692.    , -1191735.    ,  6066409.    ], 0., 8, 0, 0., 'R', 0., [0., 0., 0.], 'L', 90., [0., 0., 0.])],\n",
       "         dtype=(numpy.record, [('ANNAME', 'S8'), ('STABXYZ', '>f8', (3,)), ('ORBPARM', '>f4'), ('NOSTA', '>i4'), ('MNTSTA', '>i4'), ('STAXOF', '>f4'), ('POLTYA', 'S1'), ('POLAA', '>f4'), ('POLCALA', '>f4', (3,)), ('POLTYB', 'S1'), ('POLAB', '>f4'), ('POLCALB', '>f4', (3,))]))"
      ]
     },
     "execution_count": 319,
     "metadata": {},
     "output_type": "execute_result"
    }
   ],
   "source": [
    "cel[1].data"
   ]
  },
  {
   "cell_type": "code",
   "execution_count": 324,
   "id": "retired-majority",
   "metadata": {},
   "outputs": [
    {
     "data": {
      "text/plain": [
       "XTENSION= 'BINTABLE'           / Extension type                                 \n",
       "BITPIX  =                    8 / Binary data                                    \n",
       "NAXIS   =                    2 / Table is a matrix                              \n",
       "NAXIS1  =                  138 / Width of table in bytes                        \n",
       "NAXIS2  =                   10 / Number of entries in table                     \n",
       "PCOUNT  =                    0 / Random parameter count                         \n",
       "GCOUNT  =                    1 / Group count                                    \n",
       "TFIELDS =                   14 / Number of fields in each row                   \n",
       "EXTNAME = 'AIPS AN '           / AIPS table file                                \n",
       "EXTVER  =                    1 / Version number of table                        \n",
       "TFORM1  = '8A      '           / FORTRAN format of field  1                     \n",
       "TTYPE1  = 'ANNAME          '   / Type (heading) of field  1                     \n",
       "TUNIT1  = '        '           / Physical units of field  1                     \n",
       "TFORM2  = '3D      '           / FORTRAN format of field  2                     \n",
       "TTYPE2  = 'STABXYZ         '   / Type (heading) of field  2                     \n",
       "TUNIT2  = 'METERS  '           / Physical units of field  2                     \n",
       "TFORM3  = '0D      '           / FORTRAN format of field  3                     \n",
       "TTYPE3  = 'ORBPARM         '   / Type (heading) of field  3                     \n",
       "TUNIT3  = '        '           / Physical units of field  3                     \n",
       "TFORM4  = '1J      '           / FORTRAN format of field  4                     \n",
       "TTYPE4  = 'NOSTA           '   / Type (heading) of field  4                     \n",
       "TUNIT4  = '        '           / Physical units of field  4                     \n",
       "TFORM5  = '1J      '           / FORTRAN format of field  5                     \n",
       "TTYPE5  = 'MNTSTA          '   / Type (heading) of field  5                     \n",
       "TUNIT5  = '        '           / Physical units of field  5                     \n",
       "TFORM6  = '1E      '           / FORTRAN format of field  6                     \n",
       "TTYPE6  = 'STAXOF          '   / Type (heading) of field  6                     \n",
       "TUNIT6  = 'METERS  '           / Physical units of field  6                     \n",
       "TFORM7  = '1E      '           / FORTRAN format of field  7                     \n",
       "TTYPE7  = 'DIAMETER        '   / Type (heading) of field  7                     \n",
       "TUNIT7  = 'METERS  '           / Physical units of field  7                     \n",
       "TFORM8  = '4E      '           / FORTRAN format of field  8                     \n",
       "TTYPE8  = 'BEAMFWHM        '   / Type (heading) of field  8                     \n",
       "TUNIT8  = 'DEGR/M  '           / Physical units of field  8                     \n",
       "TFORM9  = '1A      '           / FORTRAN format of field  9                     \n",
       "TTYPE9  = 'POLTYA          '   / Type (heading) of field  9                     \n",
       "TUNIT9  = '        '           / Physical units of field  9                     \n",
       "TFORM10 = '1E      '           / FORTRAN format of field 10                     \n",
       "TTYPE10 = 'POLAA           '   / Type (heading) of field 10                     \n",
       "TUNIT10 = 'DEGREES '           / physical units of field 10                     \n",
       "TFORM11 = '8E      '           / FORTRAN format of field 11                     \n",
       "TTYPE11 = 'POLCALA         '   / Type (heading) of field 11                     \n",
       "TUNIT11 = '        '           / physical units of field 11                     \n",
       "TFORM12 = '1A      '           / FORTRAN format of field 12                     \n",
       "TTYPE12 = 'POLTYB          '   / Type (heading) of field 12                     \n",
       "TUNIT12 = '        '           / physical units of field 12                     \n",
       "TFORM13 = '1E      '           / FORTRAN format of field 13                     \n",
       "TTYPE13 = 'POLAB           '   / Type (heading) of field 13                     \n",
       "TUNIT13 = 'DEGREES '           / physical units of field 13                     \n",
       "TFORM14 = '8E      '           / FORTRAN format of field 14                     \n",
       "TTYPE14 = 'POLCALB         '   / Type (heading) of field 14                     \n",
       "TUNIT14 = '        '           / physical units of field 14                     \n",
       "ARRAYX  =   0.00000000000000000D+00                                             \n",
       "ARRAYY  =   0.00000000000000000D+00                                             \n",
       "ARRAYZ  =   0.00000000000000000D+00                                             \n",
       "GSTIA0  =   0.70313690090174006D+02                                             \n",
       "DEGPDY  =   0.36098564497329994D+03                                             \n",
       "FREQ    =   0.15207500000000000D+11                                             \n",
       "RDATE   = '2020-12-'                                                            \n",
       "POLARX  =   0.10819000005722046D+00                                             \n",
       "POLARY  =   0.28815001249313354D+00                                             \n",
       "UT1UTC  =  -0.17902199923992157D+00                                             \n",
       "DATUTC  =   0.00000000000000000D+00                                             \n",
       "TIMSYS  = 'UTC     '                                                            \n",
       "ARRNAM  = 'VLBA    '                                                            \n",
       "XYZHAND = 'RIGHT   '                                                            \n",
       "FRAME   = '?????   '                                                            \n",
       "NUMORB  =            0                                                          \n",
       "NOPCAL  =            2                                                          \n",
       "NO_IF   =            4                                                          \n",
       "FREQID  =           -1                                                          \n",
       "IATUTC  =   0.37000000000000000D+02                                             \n",
       "POLTYPE = '        '                                                            "
      ]
     },
     "execution_count": 324,
     "metadata": {},
     "output_type": "execute_result"
    }
   ],
   "source": [
    "f[3].header"
   ]
  },
  {
   "cell_type": "code",
   "execution_count": null,
   "id": "chemical-shoot",
   "metadata": {},
   "outputs": [],
   "source": []
  },
  {
   "cell_type": "code",
   "execution_count": null,
   "id": "manual-compact",
   "metadata": {},
   "outputs": [],
   "source": []
  },
  {
   "cell_type": "code",
   "execution_count": null,
   "id": "pediatric-distribution",
   "metadata": {},
   "outputs": [],
   "source": []
  },
  {
   "cell_type": "code",
   "execution_count": null,
   "id": "altered-basketball",
   "metadata": {},
   "outputs": [],
   "source": []
  },
  {
   "cell_type": "code",
   "execution_count": null,
   "id": "encouraging-papua",
   "metadata": {},
   "outputs": [],
   "source": []
  },
  {
   "cell_type": "code",
   "execution_count": null,
   "id": "constant-library",
   "metadata": {},
   "outputs": [],
   "source": []
  },
  {
   "cell_type": "code",
   "execution_count": null,
   "id": "reliable-usage",
   "metadata": {},
   "outputs": [],
   "source": []
  },
  {
   "cell_type": "code",
   "execution_count": null,
   "id": "instant-polls",
   "metadata": {},
   "outputs": [],
   "source": []
  }
 ],
 "metadata": {
  "kernelspec": {
   "display_name": "Python 3",
   "language": "python",
   "name": "python3"
  },
  "language_info": {
   "codemirror_mode": {
    "name": "ipython",
    "version": 3
   },
   "file_extension": ".py",
   "mimetype": "text/x-python",
   "name": "python",
   "nbconvert_exporter": "python",
   "pygments_lexer": "ipython3",
   "version": "3.9.1"
  }
 },
 "nbformat": 4,
 "nbformat_minor": 5
}
