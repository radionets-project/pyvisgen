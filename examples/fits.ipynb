{
 "cells": [
  {
   "cell_type": "code",
   "execution_count": 156,
   "id": "narrow-cassette",
   "metadata": {},
   "outputs": [],
   "source": [
    "from astropy.io import fits\n",
    "import numpy as np\n",
    "import pandas as pd\n",
    "from astropy import wcs\n",
    "import toml\n",
    "import astropy.units as un"
   ]
  },
  {
   "cell_type": "markdown",
   "id": "italian-hormone",
   "metadata": {},
   "source": [
    "## Antenna Layout\n",
    "\n",
    "* fitsrec from numpy.record\n",
    "* \n",
    "\n",
    "Keys\n",
    "* ANNAME\n",
    "* STABXYZ\n",
    "* ORBPARM\n",
    "* NOSTA\n",
    "* MNTSTA\n",
    "* STAXOF\n",
    "* DIAMETER\n",
    "* BEAMFWHM (num_ant, 4)\n",
    "* POLTYA\n",
    "* POLAA\n",
    "* POLCALA\n",
    "* POLTYB\n",
    "* POLAB\n",
    "* POLCALB"
   ]
  },
  {
   "cell_type": "code",
   "execution_count": 76,
   "id": "rising-tuner",
   "metadata": {},
   "outputs": [],
   "source": [
    "f = fits.open(\"../../test.uvf\")"
   ]
  },
  {
   "cell_type": "code",
   "execution_count": 123,
   "id": "similar-legend",
   "metadata": {},
   "outputs": [
    {
     "data": {
      "text/plain": [
       "array([0.420544  , 0.47112268, 0.9973959 , 1.0684606 , 1.1296296 ,\n",
       "       1.1902778 , 1.2468171 , 1.2939816 , 1.3334491 , 1.3758681 ],\n",
       "      dtype=float32)"
      ]
     },
     "execution_count": 123,
     "metadata": {},
     "output_type": "execute_result"
    }
   ],
   "source": [
    "f[1].data[\"TIME\"]"
   ]
  },
  {
   "cell_type": "code",
   "execution_count": 78,
   "id": "legal-applicant",
   "metadata": {
    "scrolled": true
   },
   "outputs": [
    {
     "data": {
      "text/plain": [
       "array([ 258.,  260.,  261., ..., 1800., 1801., 2057.], dtype=float32)"
      ]
     },
     "execution_count": 78,
     "metadata": {},
     "output_type": "execute_result"
    }
   ],
   "source": [
    "f[0].data[\"BASELINE\"]"
   ]
  },
  {
   "cell_type": "code",
   "execution_count": 79,
   "id": "biological-buffer",
   "metadata": {},
   "outputs": [
    {
     "data": {
      "text/plain": [
       "ColDefs(\n",
       "    name = 'UU--'; format = 'E'; bscale = 6.57570277823e-11; bzero = 0.0\n",
       "    name = 'VV--'; format = 'E'; bscale = 6.57570277823e-11; bzero = 0.0\n",
       "    name = 'WW--'; format = 'E'; bscale = 6.57570277823e-11; bzero = 0.0\n",
       "    name = 'BASELINE'; format = 'E'; bscale = 1.0; bzero = 0.0\n",
       "    name = 'DATE'; format = 'E'; bscale = 1.0; bzero = 2459184.5\n",
       "    name = '_DATE'; format = 'E'; bscale = 1.0; bzero = 0.0\n",
       "    name = 'INTTIM'; format = 'E'; bscale = 1.0; bzero = 0.0\n",
       "    name = 'DATA'; format = '48E'; bscale = 1.0; dim = (1, 1, 4, 1, 4, 3)\n",
       ")"
      ]
     },
     "execution_count": 79,
     "metadata": {},
     "output_type": "execute_result"
    }
   ],
   "source": [
    "f[0].data.columns"
   ]
  },
  {
   "cell_type": "code",
   "execution_count": 80,
   "id": "brilliant-arizona",
   "metadata": {},
   "outputs": [
    {
     "data": {
      "text/plain": [
       "(8418, 1, 1, 4, 1, 4, 3)"
      ]
     },
     "execution_count": 80,
     "metadata": {},
     "output_type": "execute_result"
    }
   ],
   "source": [
    "f[0].data[\"DATA\"].shape"
   ]
  },
  {
   "cell_type": "code",
   "execution_count": 81,
   "id": "satisfied-biodiversity",
   "metadata": {},
   "outputs": [],
   "source": [
    "from astropy.time import Time\n",
    "from vipy.simulation.utils import read_config"
   ]
  },
  {
   "cell_type": "code",
   "execution_count": 82,
   "id": "directed-highland",
   "metadata": {},
   "outputs": [
    {
     "data": {
      "text/plain": [
       "{'src_coord': <SkyCoord (ICRS): (ra, dec) in deg\n",
       "     (187.70593076, 12.39112324)>,\n",
       " 'fov_size': 0.00018382,\n",
       " 'corr_int_time': 10.0,\n",
       " 'scan_start': '2016:95:00:00:00',\n",
       " 'scan_duration': 300,\n",
       " 'scans': 72,\n",
       " 'channel': '227297:4096',\n",
       " 'interval_length': 1200}"
      ]
     },
     "execution_count": 82,
     "metadata": {},
     "output_type": "execute_result"
    }
   ],
   "source": [
    "conf = read_config(\"../config/default.toml\")\n",
    "conf"
   ]
  },
  {
   "cell_type": "code",
   "execution_count": null,
   "id": "significant-ending",
   "metadata": {},
   "outputs": [],
   "source": []
  },
  {
   "cell_type": "code",
   "execution_count": null,
   "id": "friendly-netherlands",
   "metadata": {},
   "outputs": [],
   "source": []
  },
  {
   "cell_type": "code",
   "execution_count": null,
   "id": "convinced-collaboration",
   "metadata": {},
   "outputs": [],
   "source": []
  },
  {
   "cell_type": "code",
   "execution_count": 176,
   "id": "threatened-birmingham",
   "metadata": {},
   "outputs": [],
   "source": [
    "def create_vis_hdu(data, conf, layout=\"EHT\", source_name=\"sim-source-0\"):\n",
    "    # for u,v ,w bscale is scaling factor between wavelengths and meters?\n",
    "    u = np.ones(10, dtype=\">f4\") # placeholder, get all u coords\n",
    "\n",
    "    v = np.ones(10, dtype=\">f4\") # placeholder, get all u coords\n",
    "\n",
    "    w = np.ones(10, dtype=\">f4\") # placeholder, get all u coords\n",
    "\n",
    "    DATE = np.ones(10, dtype=\">f4\") # placeholder, julian date of vis, central time in the integration period\n",
    "    # leave scale 1 and 0\n",
    "\n",
    "    # I think this is not really needed, but dunno, documentation is again insane\n",
    "    _DATE = np.ones(10, dtype=\">f4\") # placeholder, relative julian date for the observation day??, central time in the integration period\n",
    "    # leave scale 1 and 0\n",
    "\n",
    "    BASELINE = np.ones(10, dtype=\">f4\") # placeholder, calc baseline number\n",
    "    # leave scale 1 and 0\n",
    "\n",
    "    INTTIM = np.repeat(np.array(conf[\"corr_int_time\"], dtype=\">f4\"), len(u))\n",
    "    # leave scale 1 and 0\n",
    "    # visibility data\n",
    "    DATA = np.ones((10, 1, 1, 4, 1, 4, 3), dtype=\">f4\") # placeholder, get from sim\n",
    "    # in dim 4 = number of jones, 3 = real, imag, weight\n",
    "    \n",
    "    # wcs\n",
    "    ra = conf[\"src_coord\"].ra.value\n",
    "    dec = conf[\"src_coord\"].dec.value\n",
    "    freq, freq_d = freq, freq_d = (np.array(conf[\"channel\"].split(\":\")).astype(\"int\") * un.MHz).to(un.Hz).value\n",
    "    ws = wcs.WCS(naxis=7)\n",
    "    ws.wcs.crpix = [1, 1, 1, 1, 1, 1, 1]\n",
    "    ws.wcs.cdelt = np.array([1, 1, -1, freq_d, 1, 1, 1])\n",
    "    ws.wcs.crval = [1, 1, -1, freq, 1, ra, dec]\n",
    "    ws.wcs.ctype = [\"\",\"COMPLEX\", \"STOKES\", \"FREQ\", \"IF\", \"RA\", \"DEC\"]\n",
    "    h = ws.to_header()\n",
    "    \n",
    "    scale = 1/freq\n",
    "    u_scale = u\n",
    "    v_scale = v\n",
    "    w_scale = w\n",
    "    groupdata_vis = fits.GroupData(DATA,\n",
    "                                 bitpix=-32,\n",
    "                                 parnames=['UU---SIN', 'VV---SIN', 'WW---SIN','BASELINE', 'DATE', '_DATE', 'INTTIM'],\n",
    "                                 pardata=[u_scale, v_scale, w_scale, BASELINE, DATE, _DATE, INTTIM],\n",
    "                                )\n",
    "    \n",
    "    hdu_vis = fits.GroupsHDU(groupdata_vis, header=h)\n",
    "    \n",
    "    # add scales and zeors\n",
    "    parbscales = [scale, scale, scale, 1, 1, 1, 1]\n",
    "    parbzeros = [0, 0, 0, 0, 0, 0, 0]\n",
    "    \n",
    "    for i in range(len(parbscales)):\n",
    "        hdu_vis.header[\"PSCAL\" + str(i + 1)] = parbscales[i]\n",
    "        hdu_vis.header[\"PZERO\" + str(i + 1)] = parbzeros[i]\n",
    "    \n",
    "    # add comments\n",
    "    hdu_vis.header.comments[\"PTYPE1\"] = \"u baseline coordinate in light seconds\"\n",
    "    hdu_vis.header.comments[\"PTYPE2\"] = \"v baseline coordinate in light seconds\"\n",
    "    hdu_vis.header.comments[\"PTYPE3\"] = \"w baseline coordinate in light seconds\"\n",
    "    hdu_vis.header.comments[\"PTYPE4\"] = \"Baseline number\"\n",
    "    hdu_vis.header.comments[\"PTYPE5\"] = \"Julian date\"\n",
    "    hdu_vis.header.comments[\"PTYPE6\"] = \"Relative Julian date ?\"\n",
    "    hdu_vis.header.comments[\"PTYPE7\"] = \"Integration time\"\n",
    "    \n",
    "    date_obs = Time(conf[\"scan_start\"], format=\"yday\").to_value(format=\"iso\", subfmt=\"date\")\n",
    "    date_map = Time.now().to_value(format=\"iso\", subfmt=\"date\")\n",
    "    \n",
    "    # add additional keys\n",
    "    hdu_vis.header[\"EXTNAME\"] = (\"AIPS UV\", \"AIPS UV\")\n",
    "    hdu_vis.header[\"EXTVER\"] = (1, \"Version number of table\")\n",
    "    hdu_vis.header[\"OBJECT\"] = (source_name, \"Source name\")\n",
    "    hdu_vis.header[\"TELESCOP\"] = (layout, \"Telescope name\")\n",
    "    hdu_vis.header[\"INSTRUME\"] = (layout, \"Instrument name (receiver or ?)\")\n",
    "    hdu_vis.header[\"DATE-OBS\"] = (date_obs, \"Observation date\")\n",
    "    hdu_vis.header[\"DATE-MAP\"] = (date_map, \"File processing date\")\n",
    "    hdu_vis.header[\"BSCALE\"] = (1, \"Always 1\")\n",
    "    hdu_vis.header[\"BZERO\"] = (0, \"Always 0\")\n",
    "    hdu_vis.header[\"BUNIT\"] = (\"UNCALIB\", \"Units of flux\")\n",
    "    hdu_vis.header[\"EQUINOX\"] = (2000, \"Equinox of source coordinates and uvw\")\n",
    "    hdu_vis.header[\"ALTRPIX\"] = (1, \"Reference pixel for velocity\") # not quite sure\n",
    "    hdu_vis.header[\"OBSRA\"] = (ra, \"Antenna pointing Ra\")\n",
    "    hdu_vis.header[\"OBSDEC\"] = (dec, \"Antenna pointing Dec\")\n",
    "    \n",
    "    return hdu_vis"
   ]
  },
  {
   "cell_type": "code",
   "execution_count": 177,
   "id": "black-wisconsin",
   "metadata": {},
   "outputs": [],
   "source": [
    "def create_time_hdu(tba):\n",
    "    TIME = np.ones(10, dtype=\">f4\") # placeholder, read from sim conf \n",
    "    col1 = fits.Column(name='TIME', format='1E', unit=\"days\", array=TIME) # central time of scan in days\n",
    "\n",
    "    TIME_INTERVAL = np.ones(10, dtype=\">f4\") # placeholder, read from sim conf\n",
    "    col2 = fits.Column(name='TIME INTERVAL', format='1E', unit=\"days\", array=TIME_INTERVAL) # time interval of scan in days\n",
    "\n",
    "    SOURCE_ID = np.ones(10, dtype=\">i4\") # always the same source\n",
    "    col3 = fits.Column(name='SOURCE ID', format='1J', unit=\" \", array=SOURCE_ID) # len scans\n",
    "\n",
    "    SUBARRAY = np.ones(10, dtype=\">i4\") # always same array\n",
    "    col4 = fits.Column(name='SUBARRAY', format='1J', unit=\" \", array=SUBARRAY) # len scans\n",
    "\n",
    "    FREQ_ID = np.ones(10, dtype=\">i4\") # always same frequencies\n",
    "    col5 = fits.Column(name='FREQ ID', format='1J', unit=\" \", array=FREQ_ID) # len scans\n",
    "\n",
    "    START_VIS = np.array([1, 733, 1489, 2245, 3001, 3901, 4801, 5746, 6646, 7546], dtype=\">i4\") # read from baselines\n",
    "    col6 = fits.Column(name='START VIS', format='1J', unit=\" \", array=START_VIS)\n",
    "\n",
    "    END_VIS = np.array([ 732, 1488, 2244, 3000, 3900, 4800, 5745, 6645, 7545, 8418], dtype=\">i4\") # read from baselines)\n",
    "    col7 = fits.Column(name='END VIS', format='1J', unit=\" \", array=END_VIS)\n",
    "\n",
    "    coldefs_time = fits.ColDefs([col1, col2, col3, col4, col5, col6, col7])\n",
    "    hdu_time = fits.BinTableHDU.from_columns(coldefs_time)\n",
    "    \n",
    "    # add additional keywords \n",
    "    hdu_time.header[\"EXTNAME\"] = (\"AIPS NX\", \"AIPS NX\")\n",
    "    hdu_time.header[\"EXTVER\"] = (1, \"Version number of table\")\n",
    "    \n",
    "    # add comments\n",
    "    hdu_time.header.comments[\"TTYPE1\"] = \"Center time of interval\"\n",
    "    hdu_time.header.comments[\"TTYPE2\"] = \"Duration of interval\"\n",
    "    hdu_time.header.comments[\"TTYPE3\"] = \"Source number\"\n",
    "    hdu_time.header.comments[\"TTYPE4\"] = \"Subarray\"\n",
    "    hdu_time.header.comments[\"TTYPE5\"] = \"Frequency setup ID number\"\n",
    "    hdu_time.header.comments[\"TTYPE6\"] = \"First visibility number\"\n",
    "    hdu_time.header.comments[\"TTYPE7\"] = \"End visibility number\"\n",
    "    \n",
    "    return hdu_time"
   ]
  },
  {
   "cell_type": "code",
   "execution_count": 188,
   "id": "checked-mediterranean",
   "metadata": {},
   "outputs": [],
   "source": [
    "def create_frequency_hdu(conf):\n",
    "    freq, freq_d = freq, freq_d = (np.array(conf[\"channel\"].split(\":\")).astype(\"int\") * u.MHz).to(u.Hz).value\n",
    "    num_ifs = 1  # at the moment only 1 possible\n",
    "    \n",
    "    FRQSEL = np.array([1], dtype=\">i4\")\n",
    "    col1 = fits.Column(name='FRQSEL', format='1J', unit=\" \", array=FRQSEL)\n",
    "\n",
    "    IF_FREQ = np.array([[0.00e+00]], dtype=\">f8\") # start with 0, add ch_with per IF\n",
    "    col2 = fits.Column(name='IF FREQ', format=str(IF_FREQ.shape[-1])+'D', unit=\"Hz\", array=IF_FREQ)\n",
    "\n",
    "    CH_WIDTH = np.repeat(np.array([[freq_d]], dtype=\">f4\"), 4, axis=1)\n",
    "    col3 = fits.Column(name='CH WIDTH', format=str(CH_WIDTH.shape[-1])+'E', unit=\"Hz\", array=CH_WIDTH)\n",
    "\n",
    "    TOTAL_BANDWIDTH = np.repeat(np.array([[freq_d]], dtype=\">f4\"), 4, axis=1)\n",
    "    col4 = fits.Column(name='TOTAL BANDWIDTH', format=str(TOTAL_BANDWIDTH.shape[-1])+'E', unit=\"Hz\", array=TOTAL_BANDWIDTH)\n",
    "\n",
    "    SIDEBAND = np.zeros((1, IF_FREQ.shape[-1]))\n",
    "    SIDEBAND[IF_FREQ>=0] = 1\n",
    "    SIDEBAND[IF_FREQ<0] = -1\n",
    "    col5 = fits.Column(name='SIDEBAND', format=str(SIDEBAND.shape[-1])+'J', unit=\" \", array=SIDEBAND)\n",
    "\n",
    "    RXCODE = np.chararray(1, itemsize=32, unicode=True)\n",
    "    RXCODE[:] = \"\"\n",
    "    col6 = fits.Column(name='RXCODE', format='32A', unit=\" \", array=RXCODE)\n",
    "\n",
    "    coldefs_freq = fits.ColDefs([col1, col2, col3, col4, col5, col6])\n",
    "    hdu_freq = fits.BinTableHDU.from_columns(coldefs_freq)\n",
    "    \n",
    "    # add additional keywords \n",
    "    hdu_freq.header[\"EXTNAME\"] = (\"AIPS FQ\", \"AIPS FQ\")\n",
    "    hdu_freq.header[\"EXTVER\"] = (1, \"Version number of table\")\n",
    "    hdu_freq.header[\"NO_IF\"] = (IF_FREQ.shape[-1], \"Number IFs (n IF)\")\n",
    "    \n",
    "    # add comments\n",
    "    hdu_freq.header.comments[\"TTYPE1\"] = \"Frequency setup ID number\"\n",
    "    hdu_freq.header.comments[\"TTYPE2\"] = \"Frequency offset\"\n",
    "    hdu_freq.header.comments[\"TTYPE3\"] = \"Spectral channel separation\"\n",
    "    hdu_freq.header.comments[\"TTYPE4\"] = \"Total width of spectral window\"\n",
    "    hdu_freq.header.comments[\"TTYPE5\"] = \"Sideband\"\n",
    "    hdu_freq.header.comments[\"TTYPE6\"] = \"No one knows...\"\n",
    "    \n",
    "    return hdu_freq"
   ]
  },
  {
   "cell_type": "code",
   "execution_count": 189,
   "id": "endangered-scope",
   "metadata": {},
   "outputs": [],
   "source": [
    "def create_antenna_hdu(layout_txt, conf, layout=\"EHT\"):\n",
    "    array = pd.read_csv(layout_txt, sep=\" \")\n",
    "    \n",
    "    ANNAME = np.chararray(len(array), itemsize=8, unicode=True)\n",
    "    ANNAME[:] = array[\"station_name\"].values\n",
    "    col1 = fits.Column(name='ANNAME', format='8A', array=ANNAME)\n",
    "    \n",
    "    STABXYZ = np.array([array[\"X\"], array[\"Y\"], array[\"Z\"]], dtype=\">f8\").T\n",
    "    col2 = fits.Column(name='STABXYZ', format='3D', unit=\"METERS\", array=STABXYZ)\n",
    "\n",
    "    ORBPARM = np.array([], dtype=\">f8\")\n",
    "    col3 = fits.Column(name='ORBPARM', format='0D', unit=\" \", array=ORBPARM)\n",
    "\n",
    "    NOSTA = np.arange(len(array), dtype=\">i4\")\n",
    "    col4 = fits.Column(name='NOSTA', format='1J', unit=\" \", array=NOSTA)\n",
    "\n",
    "    MNTSTA = np.zeros(len(array), dtype=\">i4\")\n",
    "    col5 = fits.Column(name='MNTSTA', format='1J', unit=\" \", array=MNTSTA)\n",
    "\n",
    "    STAXOF = np.zeros(len(array), dtype=\">f4\")\n",
    "    col6 = fits.Column(name='STAXOF', format='1E', unit=\"METERS\", array=STAXOF)\n",
    "\n",
    "    DIAMETER = np.array(array[\"dish_dia\"].values, dtype=\">f4\")\n",
    "    col7 = fits.Column(name='DIAMETER', format='1E', unit=\"METERS\", array=DIAMETER)\n",
    "\n",
    "    BEAMFWHM = np.zeros((len(array), 4), dtype=\">f4\")\n",
    "    col8 = fits.Column(name='BEAMFWHM', format='4E', unit=\"DEGR/M\", array=BEAMFWHM)\n",
    "\n",
    "    POLTYA = np.chararray(len(array), itemsize=1, unicode=True)\n",
    "    POLTYA[:] = \"R\"\n",
    "    col9 = fits.Column(name='POLTYA', format='1A', unit=\" \", array=POLTYA)\n",
    "\n",
    "    POLAA = np.zeros(len(array), dtype=\">f4\")\n",
    "    col10 = fits.Column(name='POLAA', format='1E', unit=\"DEGREES\", array=POLAA)\n",
    "\n",
    "    POLCALA = np.zeros((len(array), 8), dtype=\">f4\")\n",
    "    col11 = fits.Column(name='POLCALA', format='8E', unit=\" \", array=POLCALA)\n",
    "\n",
    "    POLTYB = np.chararray(len(array), itemsize=1, unicode=True)\n",
    "    POLTYB[:] = \"L\"\n",
    "    col12 = fits.Column(name='POLTYB', format='1A', unit=\" \", array=POLTYB)\n",
    "\n",
    "    POLAB = np.zeros(len(array), dtype=\">f4\")\n",
    "    col13 = fits.Column(name='POLAB', format='1E', unit=\"DEGREES\", array=POLAB)\n",
    "\n",
    "    POLCALB = np.zeros((len(array), 8), dtype=\">f4\")\n",
    "    col14 = fits.Column(name='POLCALB', format='8E', unit=\" \", array=POLCALB)\n",
    "\n",
    "    coldefs_ant = fits.ColDefs([col1, col2, col3, col4, col5, col6, col7, col8, col9, col10, col11, col12, col13, col14])\n",
    "    hdu_ant = fits.BinTableHDU.from_columns(coldefs_ant)\n",
    "    \n",
    "    freq, freq_d = freq, freq_d = (np.array(conf[\"channel\"].split(\":\")).astype(\"int\") * un.MHz).to(un.Hz).value\n",
    "    ref_date = Time(conf[\"scan_start\"], format=\"yday\")\n",
    "    \n",
    "    # add additional keywords\n",
    "    hdu_ant.header[\"EXTNAME\"] = (\"AIPS AN\", \"AIPS table file\")\n",
    "    hdu_ant.header[\"EXTVER\"] = (1, \"Version number of table\")\n",
    "    hdu_ant.header[\"ARRAYX\"] = (0, \"x coordinate of array center (meters)\")\n",
    "    hdu_ant.header[\"ARRAYY\"] = (0, \"y coordinate of array center (meters)\")\n",
    "    hdu_ant.header[\"ARRAYZ\"] = (0, \"z coordinate of array center (meters)\")\n",
    "    hdu_ant.header[\"GSTIA0\"] = (ref_date.sidereal_time(\"apparent\", \"greenwich\").deg, \"GST at 0h on reference date (degrees)\") # how to calculate??\n",
    "    hdu_ant.header[\"DEGPDY\"] = (360.98564497329994, \"Earth's rotation rate (degrees/day)\")\n",
    "    hdu_ant.header[\"FREQ\"] = (freq, \"Reference frequency (Hz)\")\n",
    "    hdu_ant.header[\"RDATE\"] = (ref_date.to_value(format=\"iso\", subfmt=\"date_hms\"), \"Reference date\")\n",
    "    hdu_ant.header[\"POLARX\"] = (0.10819000005722046, \"x coordinate of North Pole (arc seconds)\")  # MOJAVE\n",
    "    hdu_ant.header[\"POLARY\"] = (0.28815001249313354, \"y coordinate of North Pole (arc seconds)\")  # MOJAVE\n",
    "    hdu_ant.header[\"UT1UTC\"] = (0, \"UT1 - UTC (sec)\") # missing\n",
    "    hdu_ant.header[\"DATUTC\"] = (0, \"time system - UTC (sec)\") # missing\n",
    "    hdu_ant.header[\"TIMSYS\"] = (\"UTC\", \"Time system\")\n",
    "    hdu_ant.header[\"ARRNAM\"] = (layout, \"Array name\") \n",
    "    hdu_ant.header[\"XYZHAND\"] = (\"RIGHT\", \"Handedness of station coordinates\")\n",
    "    hdu_ant.header[\"FRAME\"] = (\"????\", \"Coordinate frame\")\n",
    "    hdu_ant.header[\"NUMORB\"] = (0, \"Number orbital parameters in table (n orb)\")\n",
    "    hdu_ant.header[\"NOPCAL\"] = (2, \"Number of polarization calibration values / IF(n pcal)\")\n",
    "    hdu_ant.header[\"NO_IF\"] = (4, \"Number IFs (n IF)\")\n",
    "    hdu_ant.header[\"FREQID\"] = (-1, \"Frequency setup number\")\n",
    "    hdu_ant.header[\"IATUTC\"] = (0, \"No one knows.....\") # how to calculate?? international atomic time\n",
    "    hdu_ant.header[\"POLTYPE\"] = (\" \", \"Type of polarization calibration\")\n",
    "\n",
    "    # add comments\n",
    "    hdu_ant.header.comments[\"TTYPE1\"] = \"Antenna name\"\n",
    "    hdu_ant.header.comments[\"TTYPE2\"] = \"Antenna station coordinates (x, y, z)\"\n",
    "    hdu_ant.header.comments[\"TTYPE3\"] = \"Orbital parameters\"\n",
    "    hdu_ant.header.comments[\"TTYPE4\"] = \"Antenna number\"\n",
    "    hdu_ant.header.comments[\"TTYPE5\"] = \"Mount type\"\n",
    "    hdu_ant.header.comments[\"TTYPE6\"] = \"Axis offset\"\n",
    "    hdu_ant.header.comments[\"TTYPE7\"] = \"Antenna diameter\"\n",
    "    hdu_ant.header.comments[\"TTYPE8\"] = \"Antenna beam FWHM\"\n",
    "    hdu_ant.header.comments[\"TTYPE9\"] = \"R, L, feed A\"\n",
    "    hdu_ant.header.comments[\"TTYPE10\"] = \"Position angle feed A\"\n",
    "    hdu_ant.header.comments[\"TTYPE11\"] = \"Calibration parameters feed A\"\n",
    "    hdu_ant.header.comments[\"TTYPE12\"] = \"R, L, polarization 2\"\n",
    "    hdu_ant.header.comments[\"TTYPE13\"] = \"Position angle feed B\"\n",
    "    hdu_ant.header.comments[\"TTYPE14\"] = \"Calibration parameters feed B\"\n",
    "    \n",
    "    return hdu_ant"
   ]
  },
  {
   "cell_type": "code",
   "execution_count": 190,
   "id": "decent-friend",
   "metadata": {},
   "outputs": [],
   "source": [
    "def create_hdu_list(conf, path=\"../vipy/layouts/eht.txt\"):\n",
    "    vis_hdu = create_vis_hdu(None, conf)\n",
    "    time_hdu = create_time_hdu(None)\n",
    "    freq_hdu = create_frequency_hdu(conf)\n",
    "    ant_hdu = create_antenna_hdu(path, conf)\n",
    "    hdu_list = fits.HDUList([vis_hdu, time_hdu, freq_hdu, ant_hdu])\n",
    "    return hdu_list\n",
    "    "
   ]
  },
  {
   "cell_type": "code",
   "execution_count": 191,
   "id": "integrated-consumer",
   "metadata": {},
   "outputs": [
    {
     "name": "stderr",
     "output_type": "stream",
     "text": [
      "/home/kschmidt_local/.local/anaconda3/envs/vipy/lib/python3.9/site-packages/astropy/io/fits/fitsrec.py:699: UserWarning: Field 2 has a repeat count of 0 in its format code, indicating an empty field.\n",
      "  warnings.warn(\n"
     ]
    }
   ],
   "source": [
    "hdu_list = create_hdu_list(conf)"
   ]
  },
  {
   "cell_type": "code",
   "execution_count": null,
   "id": "adequate-lindsay",
   "metadata": {},
   "outputs": [],
   "source": []
  },
  {
   "cell_type": "code",
   "execution_count": null,
   "id": "contrary-wrestling",
   "metadata": {},
   "outputs": [],
   "source": []
  },
  {
   "cell_type": "code",
   "execution_count": 296,
   "id": "incoming-donna",
   "metadata": {},
   "outputs": [],
   "source": [
    "cel = fits.open(\"../../celestial-01-05.uvfits\")"
   ]
  },
  {
   "cell_type": "code",
   "execution_count": 520,
   "id": "recent-hours",
   "metadata": {},
   "outputs": [
    {
     "data": {
      "text/plain": [
       "SIMPLE  =                    T / file does conform to FITS standard             \n",
       "BITPIX  =                  -32 / number of bits per data pixel                  \n",
       "NAXIS   =                    7 / number of data axes                            \n",
       "NAXIS1  =                    0 / length of data axis 1                          \n",
       "NAXIS2  =                    3 / length of data axis 2                          \n",
       "NAXIS3  =                    4 / length of data axis 3                          \n",
       "NAXIS4  =                    1 / length of data axis 4                          \n",
       "NAXIS5  =                    1 / length of data axis 5                          \n",
       "NAXIS6  =                    1 / length of data axis 6                          \n",
       "NAXIS7  =                    1 / length of data axis 7                          \n",
       "EXTEND  =                    T / FITS dataset may contain extensions            \n",
       "GROUPS  =                    T / random group records are present               \n",
       "PCOUNT  =                   11 / number of random group parameters              \n",
       "GCOUNT  =                 7116 / number of random groups                        \n",
       "COMMENT   FITS (Flexible Image Transport System) format is defined in 'Astronomy\n",
       "COMMENT   and Astrophysics', volume 376, page 359; bibcode: 2001A&A...376..359H \n",
       "OBJECT  = 'TARGET_NAME'                                                         \n",
       "OBSRA   =          266.4168375                                                  \n",
       "OBSDEC  =   -29.00781055555555                                                  \n",
       "TELESCOP= 'ALMA    '                                                            \n",
       "INSTRUME= 'ALMA    '                                                            \n",
       "EPOCH   =                2000.                                                  \n",
       "BSCALE  =                   1.                                                  \n",
       "DATE-OBS= '2015-04-08T00:00:00.0'                                               \n",
       "PTYPE1  = 'UU---SIN'                                                            \n",
       "PSCAL1  = 4.39953013018209E-12                                                  \n",
       "PZERO1  =                  0.0                                                  \n",
       "PTYPE2  = 'VV---SIN'                                                            \n",
       "PSCAL2  = 4.39953013018209E-12                                                  \n",
       "PZERO2  =                  0.0                                                  \n",
       "PTYPE3  = 'WW---SIN'                                                            \n",
       "PSCAL3  = 4.39953013018209E-12                                                  \n",
       "PZERO3  =                  0.0                                                  \n",
       "PTYPE4  = 'BASELINE'                                                            \n",
       "PSCAL4  =                  1.0                                                  \n",
       "PZERO4  =                  0.0                                                  \n",
       "PTYPE5  = 'DATE    '                                                            \n",
       "PSCAL5  =                  1.0                                                  \n",
       "PZERO5  =                  0.0                                                  \n",
       "CRVAL2  =                  1.0                                                  \n",
       "CRPIX2  =                  1.0                                                  \n",
       "CDELT2  =                  1.0                                                  \n",
       "CTYPE2  = 'COMPLEX '                                                            \n",
       "CRVAL3  =                 -1.0                                                  \n",
       "CRPIX3  =                  1.0                                                  \n",
       "CDELT3  =                 -1.0                                                  \n",
       "CTYPE3  = 'STOKES  '                                                            \n",
       "CRVAL4  =       227297000000.0                                                  \n",
       "CRPIX4  =                  1.0                                                  \n",
       "CDELT4  =         4096000000.0                                                  \n",
       "CTYPE4  = 'FREQ    '                                                            \n",
       "CRVAL5  =                  1.0                                                  \n",
       "CRPIX5  =                  1.0                                                  \n",
       "CDELT5  =                  1.0                                                  \n",
       "CTYPE5  = 'IF      '                                                            \n",
       "CRVAL6  =          266.4168375                                                  \n",
       "CRPIX6  =                  1.0                                                  \n",
       "CDELT6  =                  1.0                                                  \n",
       "CTYPE6  = 'RA      '                                                            \n",
       "CRVAL7  =   -29.00781055555555                                                  \n",
       "CRPIX7  =                  1.0                                                  \n",
       "CDELT7  =                  1.0                                                  \n",
       "CTYPE7  = 'DEC     '                                                            \n",
       "MJD     =   0.1111111111111111                                                  \n",
       "PTYPE6  = 'DATE    '                                                            \n",
       "PSCAL6  =                  1.0                                                  \n",
       "PZERO6  =                  0.0                                                  \n",
       "PTYPE7  = 'INTTIM  '                                                            \n",
       "PSCAL7  =                  1.0                                                  \n",
       "PZERO7  =                  0.0                                                  \n",
       "BUNIT   = 'JY      '                                                            \n",
       "VELREF  =                    3                                                  \n",
       "ALTRPIX =                  1.0                                                  \n",
       "CROTA2  =                  0.0                                                  \n",
       "CRDELT3 =                 -1.0                                                  \n",
       "CROTA3  =                  0.0                                                  \n",
       "CROTA4  =                  0.0                                                  \n",
       "CROTA6  =                  0.0                                                  \n",
       "CROTA7  =                  0.0                                                  \n",
       "PTYPE8  = 'ELEV1   '                                                            \n",
       "PSCAL8  =                  1.0                                                  \n",
       "PZERO8  =                  0.0                                                  \n",
       "PTYPE9  = 'ELEV2   '                                                            \n",
       "PSCAL9  =                  1.0                                                  \n",
       "PZERO9  =                  0.0                                                  \n",
       "PTYPE10 = 'TAU1    '                                                            \n",
       "PSCAL10 =                  1.0                                                  \n",
       "PZERO10 =                  0.0                                                  \n",
       "PTYPE11 = 'TAU2    '                                                            \n",
       "PSCAL11 =                  1.0                                                  \n",
       "PZERO11 =                  0.0                                                  \n",
       "HISTORY AIPS WTSCAL =  1.0                                                      \n",
       "COMMENT written by the UV FITS writer of RBW.                                   "
      ]
     },
     "execution_count": 520,
     "metadata": {},
     "output_type": "execute_result"
    }
   ],
   "source": [
    "cel[0].header"
   ]
  },
  {
   "cell_type": "code",
   "execution_count": 506,
   "id": "beautiful-currency",
   "metadata": {},
   "outputs": [
    {
     "data": {
      "text/plain": [
       "ColDefs(\n",
       "    name = 'UU---SIN'; format = 'E'; bscale = 4.39953013018209e-12; bzero = 0.0\n",
       "    name = 'VV---SIN'; format = 'E'; bscale = 4.39953013018209e-12; bzero = 0.0\n",
       "    name = 'WW---SIN'; format = 'E'; bscale = 4.39953013018209e-12; bzero = 0.0\n",
       "    name = 'BASELINE'; format = 'E'; bscale = 1.0; bzero = 0.0\n",
       "    name = 'DATE'; format = 'E'; bscale = 1.0; bzero = 0.0\n",
       "    name = '_DATE'; format = 'E'; bscale = 1.0; bzero = 0.0\n",
       "    name = 'INTTIM'; format = 'E'; bscale = 1.0; bzero = 0.0\n",
       "    name = 'ELEV1'; format = 'E'; bscale = 1.0; bzero = 0.0\n",
       "    name = 'ELEV2'; format = 'E'; bscale = 1.0; bzero = 0.0\n",
       "    name = 'TAU1'; format = 'E'; bscale = 1.0; bzero = 0.0\n",
       "    name = 'TAU2'; format = 'E'; bscale = 1.0; bzero = 0.0\n",
       "    name = 'DATA'; format = '12E'; bscale = 1.0; dim = (1, 1, 1, 1, 4, 3)\n",
       ")"
      ]
     },
     "execution_count": 506,
     "metadata": {},
     "output_type": "execute_result"
    }
   ],
   "source": [
    "cel[0].data.columns"
   ]
  },
  {
   "cell_type": "code",
   "execution_count": 519,
   "id": "retired-majority",
   "metadata": {},
   "outputs": [
    {
     "data": {
      "text/plain": [
       "array([0., 0., 0., ..., 0., 0., 0.], dtype=float32)"
      ]
     },
     "execution_count": 519,
     "metadata": {},
     "output_type": "execute_result"
    }
   ],
   "source": [
    "cel[0].data[\"TAU2\"]"
   ]
  },
  {
   "cell_type": "code",
   "execution_count": null,
   "id": "chemical-shoot",
   "metadata": {},
   "outputs": [],
   "source": []
  },
  {
   "cell_type": "code",
   "execution_count": null,
   "id": "manual-compact",
   "metadata": {},
   "outputs": [],
   "source": []
  },
  {
   "cell_type": "code",
   "execution_count": null,
   "id": "pediatric-distribution",
   "metadata": {},
   "outputs": [],
   "source": []
  },
  {
   "cell_type": "code",
   "execution_count": null,
   "id": "altered-basketball",
   "metadata": {},
   "outputs": [],
   "source": []
  },
  {
   "cell_type": "code",
   "execution_count": null,
   "id": "encouraging-papua",
   "metadata": {},
   "outputs": [],
   "source": []
  },
  {
   "cell_type": "code",
   "execution_count": null,
   "id": "constant-library",
   "metadata": {},
   "outputs": [],
   "source": []
  },
  {
   "cell_type": "code",
   "execution_count": null,
   "id": "reliable-usage",
   "metadata": {},
   "outputs": [],
   "source": []
  },
  {
   "cell_type": "code",
   "execution_count": null,
   "id": "instant-polls",
   "metadata": {},
   "outputs": [],
   "source": []
  }
 ],
 "metadata": {
  "kernelspec": {
   "display_name": "Python 3",
   "language": "python",
   "name": "python3"
  },
  "language_info": {
   "codemirror_mode": {
    "name": "ipython",
    "version": 3
   },
   "file_extension": ".py",
   "mimetype": "text/x-python",
   "name": "python",
   "nbconvert_exporter": "python",
   "pygments_lexer": "ipython3",
   "version": "3.9.1"
  }
 },
 "nbformat": 4,
 "nbformat_minor": 5
}
