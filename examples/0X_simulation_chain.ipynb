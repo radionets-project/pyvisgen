{
 "cells": [
  {
   "cell_type": "code",
   "execution_count": 1,
   "id": "42e51422",
   "metadata": {},
   "outputs": [],
   "source": [
    "from pyvisgen.layouts.layouts import get_array_layout"
   ]
  },
  {
   "cell_type": "code",
   "execution_count": null,
   "id": "719cee21",
   "metadata": {},
   "outputs": [],
   "source": []
  },
  {
   "cell_type": "markdown",
   "id": "7135e0e8",
   "metadata": {},
   "source": [
    "### Define radio interferometer array layout\n",
    "\n",
    "Available layouts:\n",
    "* vla\n",
    "* vlba\n",
    "* eht"
   ]
  },
  {
   "cell_type": "code",
   "execution_count": 2,
   "id": "fb73812f",
   "metadata": {},
   "outputs": [],
   "source": [
    "array_layout = get_array_layout(\"vlba\") # in rc"
   ]
  },
  {
   "cell_type": "code",
   "execution_count": 3,
   "id": "a4f1f2bd",
   "metadata": {},
   "outputs": [
    {
     "data": {
      "text/plain": [
       "Stations(st_num=array([0, 1, 2, 3, 4, 5, 6, 7, 8, 9]), name=array(['MKO', 'OVRO', 'BR', 'NL', 'HC', 'KPN', 'PT', 'FD', 'LA', 'SC'],\n",
       "      dtype=object), x=array([-5464075.238656, -2409150.471188, -2112065.261576,  -130872.556729,\n",
       "        1446374.806874, -1995678.891541, -1640953.992891, -1324009.374466,\n",
       "       -1449752.637707,  2607848.664542]), y=array([-2495247.871441, -4478573.093114, -3705356.502894, -4762317.087045,\n",
       "       -4447939.68308 , -5037317.693848, -5014816.024485, -5332181.952906,\n",
       "       -4975298.573645, -5488069.500452]), z=array([2148297.485741, 3838617.326057, 4726813.649034, 4226850.993404,\n",
       "       4322306.19968 , 3357328.002045, 3575411.772132, 3231962.377936,\n",
       "       3709123.828301, 1932739.778597]), diam=array([25, 25, 25, 25, 25, 25, 25, 25, 25, 25]), el_low=array([15, 15, 15, 15, 15, 15, 15, 15, 15, 15]), el_high=array([85, 85, 85, 85, 85, 85, 85, 85, 85, 85]), sefd=array([  110, 11900,   560,  4900,  2900,  1600,  7300,  4744,  4744,\n",
       "        4744]), altitude=array([5030, 3185, 4640, 4205, 2850, 2550, 2800, 3210, 3210, 3210]))"
      ]
     },
     "execution_count": 3,
     "metadata": {},
     "output_type": "execute_result"
    }
   ],
   "source": [
    "array_layout"
   ]
  },
  {
   "cell_type": "code",
   "execution_count": 4,
   "id": "6cace9fb",
   "metadata": {},
   "outputs": [],
   "source": [
    "import torch\n",
    "from pyvisgen.utils.data import data_handler\n",
    "from pyvisgen.simulation.data_set import create_sampling_rc\n",
    "from pyvisgen.simulation.visibility import vis_loop\n",
    "from pyvisgen.utils.config import read_data_set_conf\n",
    "from pathlib import Path"
   ]
  },
  {
   "cell_type": "code",
   "execution_count": 5,
   "id": "e2d892fa",
   "metadata": {},
   "outputs": [],
   "source": [
    "config = \"test_conf.toml\"\n",
    "conf = read_data_set_conf(config)"
   ]
  },
  {
   "cell_type": "code",
   "execution_count": 6,
   "id": "fb870908",
   "metadata": {},
   "outputs": [],
   "source": [
    "data = data_handler(conf[\"in_path\"])\n",
    "samp_ops = create_sampling_rc(conf)"
   ]
  },
  {
   "cell_type": "code",
   "execution_count": 7,
   "id": "ff3e2b78",
   "metadata": {
    "scrolled": false
   },
   "outputs": [
    {
     "name": "stdout",
     "output_type": "stream",
     "text": [
      "(16245,)\n"
     ]
    }
   ],
   "source": [
    "SI = torch.tensor(data[0][0][0], dtype=torch.cdouble)\n",
    "vis_data = vis_loop(samp_ops, SI)"
   ]
  },
  {
   "cell_type": "code",
   "execution_count": null,
   "id": "bb6d8ab3",
   "metadata": {},
   "outputs": [],
   "source": []
  }
 ],
 "metadata": {
  "kernelspec": {
   "display_name": "Python 3 (ipykernel)",
   "language": "python",
   "name": "python3"
  },
  "language_info": {
   "codemirror_mode": {
    "name": "ipython",
    "version": 3
   },
   "file_extension": ".py",
   "mimetype": "text/x-python",
   "name": "python",
   "nbconvert_exporter": "python",
   "pygments_lexer": "ipython3",
   "version": "3.9.7"
  }
 },
 "nbformat": 4,
 "nbformat_minor": 5
}
