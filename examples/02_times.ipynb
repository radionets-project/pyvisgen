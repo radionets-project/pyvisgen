{
 "cells": [
  {
   "cell_type": "code",
   "execution_count": 1,
   "id": "384f9bbd",
   "metadata": {},
   "outputs": [],
   "source": [
    "from pyvisgen.simulation.utils import calc_ref_elev\n",
    "from datetime import datetime\n",
    "import pandas as pd\n",
    "import numpy as np\n",
    "import astropy.units as un\n",
    "from astropy.time import Time\n",
    "from astropy.coordinates import SkyCoord\n",
    "import matplotlib.pyplot as plt\n",
    "from pyvisgen.layouts.layouts import get_array_layout"
   ]
  },
  {
   "cell_type": "code",
   "execution_count": 2,
   "id": "f5d84015",
   "metadata": {},
   "outputs": [],
   "source": [
    "# try different observation dates\n",
    "scan_start = datetime.strptime(\"18-1-2021 6:0:1\", \"%d-%m-%Y %H:%M:%S\")"
   ]
  },
  {
   "cell_type": "code",
   "execution_count": 3,
   "id": "16b44ffe",
   "metadata": {},
   "outputs": [
    {
     "data": {
      "text/plain": [
       "(25,)"
      ]
     },
     "execution_count": 3,
     "metadata": {},
     "output_type": "execute_result"
    }
   ],
   "source": [
    "start_time = Time(scan_start.isoformat(), format=\"isot\")\n",
    "\n",
    "# try different intervals and integration times / units are seconds\n",
    "interval = 360\n",
    "num_scans = 1\n",
    "scan_duration = 360\n",
    "int_time = 15\n",
    "\n",
    "time_lst = [\n",
    "    start_time + interval * i * un.second + j * int_time * un.second\n",
    "    for i in range(num_scans)\n",
    "    for j in range(int(scan_duration / int_time) + 1)\n",
    "]\n",
    "time = Time(time_lst)\n",
    "time.shape"
   ]
  },
  {
   "cell_type": "code",
   "execution_count": 4,
   "id": "c748d88e",
   "metadata": {},
   "outputs": [
    {
     "data": {
      "text/plain": [
       "[<matplotlib.lines.Line2D at 0x7f017ec26e80>]"
      ]
     },
     "execution_count": 4,
     "metadata": {},
     "output_type": "execute_result"
    },
    {
     "data": {
      "image/png": "[encoded data removed]",
      "text/plain": [
       "<Figure size 864x576 with 1 Axes>"
      ]
     },
     "metadata": {
      "needs_background": "light"
     },
     "output_type": "display_data"
    }
   ],
   "source": [
    "# plot time steps\n",
    "plt.figure(figsize=(12,8))\n",
    "plt.plot(time.datetime, np.ones(time.shape), marker=\".\", linestyle=\"none\")"
   ]
  },
  {
   "cell_type": "code",
   "execution_count": 5,
   "id": "6588f902",
   "metadata": {},
   "outputs": [
    {
     "name": "stdout",
     "output_type": "stream",
     "text": [
      "[59.45441696 59.42492996 59.43560109 59.44401955 59.4355367  59.41870372\n",
      " 59.43547195 59.43044743 59.43735472 59.45068632 59.43911547 59.45855358\n",
      " 59.42215729 59.43549136 59.41492211 59.43553383 59.43512177 59.43560022\n",
      " 59.43613891 59.44134061 59.43403561 59.43552479 59.43557475 59.43555851\n",
      " 59.43554835 59.428052   59.43245418 59.44713497]\n"
     ]
    }
   ],
   "source": [
    "# try different source coordinates\n",
    "src_crd = SkyCoord(\n",
    "    ra=137,\n",
    "    dec=34,\n",
    "    unit=(un.deg, un.deg),\n",
    ")\n",
    "\n",
    "array_layout = get_array_layout(\"vla\")\n",
    "\n",
    "_, el_st_all = calc_ref_elev(src_crd, time, array_layout)\n",
    "print(el_st_all[0])\n",
    "\n",
    "# this is fixed for the telescopes\n",
    "el_min = 15\n",
    "el_max = 75\n",
    "\n",
    "valid = np.where((el_st_all >= el_min) & (el_st_all <= el_max), np.ones(el_st_all.shape), 0)\n",
    "telescopes = valid * (np.arange(28) + 1)"
   ]
  },
  {
   "cell_type": "code",
   "execution_count": 6,
   "id": "cc3eef79",
   "metadata": {},
   "outputs": [
    {
     "data": {
      "text/plain": [
       "array([70.8706793 , 70.93335042, 70.99602154, 71.05869265, 71.12136377,\n",
       "       71.18403488, 71.246706  , 71.30937712, 71.37204823, 71.43471935,\n",
       "       71.49739046, 71.56006158, 71.6227327 , 71.68540381, 71.74807493,\n",
       "       71.81074604, 71.87341716, 71.93608828, 71.99875939, 72.06143051,\n",
       "       72.12410162, 72.18677274, 72.24944386, 72.31211497, 72.37478609])"
      ]
     },
     "execution_count": 6,
     "metadata": {},
     "output_type": "execute_result"
    }
   ],
   "source": [
    "from astropy.coordinates import EarthLocation, AltAz, Angle\n",
    "ha_all = Angle(\n",
    "    [t.sidereal_time(\"apparent\", \"greenwich\") - src_crd.ra for t in time]\n",
    ")\n",
    "ha_all.deg"
   ]
  },
  {
   "cell_type": "code",
   "execution_count": 7,
   "id": "7dd1602e",
   "metadata": {},
   "outputs": [
    {
     "data": {
      "text/plain": [
       "array([[1., 1., 1., 1., 1., 1., 1., 1., 1., 1., 1., 1., 1., 1., 1., 1.,\n",
       "        1., 1., 1., 1., 1., 1., 1., 1., 1., 1., 1., 1.],\n",
       "       [1., 1., 1., 1., 1., 1., 1., 1., 1., 1., 1., 1., 1., 1., 1., 1.,\n",
       "        1., 1., 1., 1., 1., 1., 1., 1., 1., 1., 1., 1.],\n",
       "       [1., 1., 1., 1., 1., 1., 1., 1., 1., 1., 1., 1., 1., 1., 1., 1.,\n",
       "        1., 1., 1., 1., 1., 1., 1., 1., 1., 1., 1., 1.],\n",
       "       [1., 1., 1., 1., 1., 1., 1., 1., 1., 1., 1., 1., 1., 1., 1., 1.,\n",
       "        1., 1., 1., 1., 1., 1., 1., 1., 1., 1., 1., 1.],\n",
       "       [1., 1., 1., 1., 1., 1., 1., 1., 1., 1., 1., 1., 1., 1., 1., 1.,\n",
       "        1., 1., 1., 1., 1., 1., 1., 1., 1., 1., 1., 1.],\n",
       "       [1., 1., 1., 1., 1., 1., 1., 1., 1., 1., 1., 1., 1., 1., 1., 1.,\n",
       "        1., 1., 1., 1., 1., 1., 1., 1., 1., 1., 1., 1.],\n",
       "       [1., 1., 1., 1., 1., 1., 1., 1., 1., 1., 1., 1., 1., 1., 1., 1.,\n",
       "        1., 1., 1., 1., 1., 1., 1., 1., 1., 1., 1., 1.],\n",
       "       [1., 1., 1., 1., 1., 1., 1., 1., 1., 1., 1., 1., 1., 1., 1., 1.,\n",
       "        1., 1., 1., 1., 1., 1., 1., 1., 1., 1., 1., 1.],\n",
       "       [1., 1., 1., 1., 1., 1., 1., 1., 1., 1., 1., 1., 1., 1., 1., 1.,\n",
       "        1., 1., 1., 1., 1., 1., 1., 1., 1., 1., 1., 1.],\n",
       "       [1., 1., 1., 1., 1., 1., 1., 1., 1., 1., 1., 1., 1., 1., 1., 1.,\n",
       "        1., 1., 1., 1., 1., 1., 1., 1., 1., 1., 1., 1.],\n",
       "       [1., 1., 1., 1., 1., 1., 1., 1., 1., 1., 1., 1., 1., 1., 1., 1.,\n",
       "        1., 1., 1., 1., 1., 1., 1., 1., 1., 1., 1., 1.],\n",
       "       [1., 1., 1., 1., 1., 1., 1., 1., 1., 1., 1., 1., 1., 1., 1., 1.,\n",
       "        1., 1., 1., 1., 1., 1., 1., 1., 1., 1., 1., 1.],\n",
       "       [1., 1., 1., 1., 1., 1., 1., 1., 1., 1., 1., 1., 1., 1., 1., 1.,\n",
       "        1., 1., 1., 1., 1., 1., 1., 1., 1., 1., 1., 1.],\n",
       "       [1., 1., 1., 1., 1., 1., 1., 1., 1., 1., 1., 1., 1., 1., 1., 1.,\n",
       "        1., 1., 1., 1., 1., 1., 1., 1., 1., 1., 1., 1.],\n",
       "       [1., 1., 1., 1., 1., 1., 1., 1., 1., 1., 1., 1., 1., 1., 1., 1.,\n",
       "        1., 1., 1., 1., 1., 1., 1., 1., 1., 1., 1., 1.],\n",
       "       [1., 1., 1., 1., 1., 1., 1., 1., 1., 1., 1., 1., 1., 1., 1., 1.,\n",
       "        1., 1., 1., 1., 1., 1., 1., 1., 1., 1., 1., 1.],\n",
       "       [1., 1., 1., 1., 1., 1., 1., 1., 1., 1., 1., 1., 1., 1., 1., 1.,\n",
       "        1., 1., 1., 1., 1., 1., 1., 1., 1., 1., 1., 1.],\n",
       "       [1., 1., 1., 1., 1., 1., 1., 1., 1., 1., 1., 1., 1., 1., 1., 1.,\n",
       "        1., 1., 1., 1., 1., 1., 1., 1., 1., 1., 1., 1.],\n",
       "       [1., 1., 1., 1., 1., 1., 1., 1., 1., 1., 1., 1., 1., 1., 1., 1.,\n",
       "        1., 1., 1., 1., 1., 1., 1., 1., 1., 1., 1., 1.],\n",
       "       [1., 1., 1., 1., 1., 1., 1., 1., 1., 1., 1., 1., 1., 1., 1., 1.,\n",
       "        1., 1., 1., 1., 1., 1., 1., 1., 1., 1., 1., 1.],\n",
       "       [1., 1., 1., 1., 1., 1., 1., 1., 1., 1., 1., 1., 1., 1., 1., 1.,\n",
       "        1., 1., 1., 1., 1., 1., 1., 1., 1., 1., 1., 1.],\n",
       "       [1., 1., 1., 1., 1., 1., 1., 1., 1., 1., 1., 1., 1., 1., 1., 1.,\n",
       "        1., 1., 1., 1., 1., 1., 1., 1., 1., 1., 1., 1.],\n",
       "       [1., 1., 1., 1., 1., 1., 1., 1., 1., 1., 1., 1., 1., 1., 1., 1.,\n",
       "        1., 1., 1., 1., 1., 1., 1., 1., 1., 1., 1., 1.],\n",
       "       [1., 1., 1., 1., 1., 1., 1., 1., 1., 1., 1., 1., 1., 1., 1., 1.,\n",
       "        1., 1., 1., 1., 1., 1., 1., 1., 1., 1., 1., 1.],\n",
       "       [1., 1., 1., 1., 1., 1., 1., 1., 1., 1., 1., 1., 1., 1., 1., 1.,\n",
       "        1., 1., 1., 1., 1., 1., 1., 1., 1., 1., 1., 1.]])"
      ]
     },
     "execution_count": 7,
     "metadata": {},
     "output_type": "execute_result"
    }
   ],
   "source": [
    "valid"
   ]
  },
  {
   "cell_type": "code",
   "execution_count": 8,
   "id": "fc657749",
   "metadata": {},
   "outputs": [
    {
     "data": {
      "text/plain": [
       "(0.0, 29.0)"
      ]
     },
     "execution_count": 8,
     "metadata": {},
     "output_type": "execute_result"
    },
    {
     "data": {
      "image/png": "[encoded data removed]",
      "text/plain": [
       "<Figure size 864x576 with 1 Axes>"
      ]
     },
     "metadata": {
      "needs_background": "light"
     },
     "output_type": "display_data"
    }
   ],
   "source": [
    "plt.figure(figsize=(12,8))\n",
    "plt.plot(time.datetime, telescopes, color=\"darkorange\", marker=\".\", linestyle=\"none\")\n",
    "\n",
    "plt.ylabel(\"Telescope\")\n",
    "plt.xlabel(\"Time\")\n",
    "plt.ylim(0, 29)"
   ]
  },
  {
   "cell_type": "code",
   "execution_count": 9,
   "id": "a9907a67",
   "metadata": {},
   "outputs": [],
   "source": [
    "import geopandas\n",
    "import geoplot\n",
    "import geoplot.crs as gcrs"
   ]
  },
  {
   "cell_type": "code",
   "execution_count": 10,
   "id": "cdc8f9b4",
   "metadata": {},
   "outputs": [],
   "source": [
    "world = geopandas.read_file(\n",
    "    geopandas.datasets.get_path('naturalearth_lowres')\n",
    ")"
   ]
  },
  {
   "cell_type": "code",
   "execution_count": 11,
   "id": "df5c6d32",
   "metadata": {},
   "outputs": [],
   "source": [
    "world[\"gdp_pp\"] = world[\"gdp_md_est\"] / world[\"pop_est\"]"
   ]
  },
  {
   "cell_type": "code",
   "execution_count": 12,
   "id": "9f70660c",
   "metadata": {},
   "outputs": [],
   "source": [
    "from shapely.geometry import Point\n",
    "\n",
    "d = {'col1': ['ant1', 'ant2', 'ant3', 'ant4', 'ant5', 'ant6', 'ant7', 'ant8', 'ant9', 'ant10'],\n",
    "     'geometry': [\n",
    "    Point(array_layout.x[0], array_layout.y[0], array_layout.z[0]),\n",
    "    Point(array_layout.x[1], array_layout.y[1], array_layout.z[1]),\n",
    "    Point(array_layout.x[2], array_layout.y[2], array_layout.z[2]),\n",
    "    Point(array_layout.x[3], array_layout.y[3], array_layout.z[3]),\n",
    "    Point(array_layout.x[4], array_layout.y[4], array_layout.z[4]),\n",
    "    Point(array_layout.x[5], array_layout.y[5], array_layout.z[5]),\n",
    "    Point(array_layout.x[6], array_layout.y[6], array_layout.z[6]),\n",
    "    Point(array_layout.x[7], array_layout.y[7], array_layout.z[7]),\n",
    "    Point(array_layout.x[8], array_layout.y[8], array_layout.z[8]),\n",
    "    Point(array_layout.x[9], array_layout.y[9], array_layout.z[9]),\n",
    "]}\n",
    "gdf = geopandas.GeoDataFrame(d, crs=4328)"
   ]
  },
  {
   "cell_type": "code",
   "execution_count": 13,
   "id": "51ef9600",
   "metadata": {},
   "outputs": [
    {
     "name": "stderr",
     "output_type": "stream",
     "text": [
      "/tmp/ipykernel_3069209/1818496961.py:5: DeprecationWarning: The outline_patch property is deprecated. Use GeoAxes.spines['geo'] or the default Axes properties instead.\n",
      "  ax.outline_patch.set_visible(True)\n"
     ]
    },
    {
     "data": {
      "image/png": "[encoded data removed]",
      "text/plain": [
       "<Figure size 576x288 with 1 Axes>"
      ]
     },
     "metadata": {
      "needs_background": "light"
     },
     "output_type": "display_data"
    }
   ],
   "source": [
    "ax = geoplot.polyplot(\n",
    "    world, projection=geoplot.crs.Orthographic(central_longitude=360-ha_all.deg[0], central_latitude=37), figsize=(8, 4)\n",
    ")\n",
    "geoplot.pointplot(gdf.to_crs(\"epsg:4326\"), projection=geoplot.crs.Orthographic(central_longitude=360-137, central_latitude=37), ax=ax)\n",
    "ax.outline_patch.set_visible(True)\n",
    "ax.set_global()"
   ]
  },
  {
   "cell_type": "code",
   "execution_count": null,
   "id": "64d7ea96",
   "metadata": {},
   "outputs": [],
   "source": []
  },
  {
   "cell_type": "code",
   "execution_count": null,
   "id": "dbe6c876",
   "metadata": {},
   "outputs": [],
   "source": []
  },
  {
   "cell_type": "code",
   "execution_count": null,
   "id": "a6faad99",
   "metadata": {},
   "outputs": [],
   "source": []
  },
  {
   "cell_type": "code",
   "execution_count": null,
   "id": "98fa3f95",
   "metadata": {},
   "outputs": [],
   "source": []
  }
 ],
 "metadata": {
  "kernelspec": {
   "display_name": "Python 3 (ipykernel)",
   "language": "python",
   "name": "python3"
  },
  "language_info": {
   "codemirror_mode": {
    "name": "ipython",
    "version": 3
   },
   "file_extension": ".py",
   "mimetype": "text/x-python",
   "name": "python",
   "nbconvert_exporter": "python",
   "pygments_lexer": "ipython3",
   "version": "3.9.7"
  }
 },
 "nbformat": 4,
 "nbformat_minor": 5
}
