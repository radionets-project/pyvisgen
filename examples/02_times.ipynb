{
 "cells": [
  {
   "cell_type": "code",
   "execution_count": 1,
   "id": "384f9bbd",
   "metadata": {},
   "outputs": [],
   "source": [
    "from pyvisgen.simulation.utils import calc_ref_elev\n",
    "from datetime import datetime\n",
    "import pandas as pd\n",
    "import numpy as np\n",
    "import astropy.units as un\n",
    "from astropy.time import Time\n",
    "from astropy.coordinates import SkyCoord\n",
    "import matplotlib.pyplot as plt\n",
    "from pyvisgen.layouts.layouts import get_array_layout"
   ]
  },
  {
   "cell_type": "code",
   "execution_count": 105,
   "id": "f5d84015",
   "metadata": {},
   "outputs": [],
   "source": [
    "# try different observation dates\n",
    "scan_start = datetime.strptime(\"22-6-2021 12:0:1\", \"%d-%m-%Y %H:%M:%S\")"
   ]
  },
  {
   "cell_type": "code",
   "execution_count": 106,
   "id": "16b44ffe",
   "metadata": {},
   "outputs": [
    {
     "data": {
      "text/plain": [
       "(25,)"
      ]
     },
     "execution_count": 106,
     "metadata": {},
     "output_type": "execute_result"
    }
   ],
   "source": [
    "start_time = Time(scan_start.isoformat(), format=\"isot\")\n",
    "\n",
    "# try different intervals and integration times / units are seconds\n",
    "interval = 360\n",
    "num_scans = 1\n",
    "scan_duration = 360\n",
    "int_time = 15\n",
    "\n",
    "time_lst = [\n",
    "    start_time + interval * i * un.second + j * int_time * un.second\n",
    "    for i in range(num_scans)\n",
    "    for j in range(int(scan_duration / int_time) + 1)\n",
    "]\n",
    "time = Time(time_lst)\n",
    "time.shape"
   ]
  },
  {
   "cell_type": "code",
   "execution_count": 107,
   "id": "c748d88e",
   "metadata": {},
   "outputs": [
    {
     "data": {
      "text/plain": [
       "[<matplotlib.lines.Line2D at 0x7f86fa0ddd50>]"
      ]
     },
     "execution_count": 107,
     "metadata": {},
     "output_type": "execute_result"
    },
    {
     "data": {
      "image/png": "[encoded data removed]",
      "text/plain": [
       "<Figure size 864x576 with 1 Axes>"
      ]
     },
     "metadata": {
      "needs_background": "light"
     },
     "output_type": "display_data"
    }
   ],
   "source": [
    "# plot time steps\n",
    "plt.figure(figsize=(12,8))\n",
    "plt.plot(time.datetime, np.ones(time.shape), marker=\".\", linestyle=\"none\")"
   ]
  },
  {
   "cell_type": "code",
   "execution_count": 132,
   "id": "6588f902",
   "metadata": {},
   "outputs": [
    {
     "name": "stdout",
     "output_type": "stream",
     "text": [
      "[-13.61528899  17.90028096  25.44538921  35.78458166  48.28331698\n",
      "  17.48271589  21.1844745   20.92628442  23.30978294  36.33956713]\n"
     ]
    }
   ],
   "source": [
    "# try different source coordinates\n",
    "src_crd = SkyCoord(\n",
    "    ra=80,\n",
    "    dec=50,\n",
    "    unit=(un.deg, un.deg),\n",
    ")\n",
    "\n",
    "array_layout = get_array_layout(\"vlba\")\n",
    "\n",
    "_, el_st_all = calc_ref_elev(src_crd, time, array_layout)\n",
    "print(el_st_all[0])\n",
    "\n",
    "# this is fixed for the telescopes\n",
    "el_min = 15\n",
    "el_max = 75\n",
    "\n",
    "valid = np.where((el_st_all >= el_min) & (el_st_all <= el_max), np.ones(el_st_all.shape), 0)\n",
    "telescopes = valid * (np.arange(10) + 1)"
   ]
  },
  {
   "cell_type": "code",
   "execution_count": 133,
   "id": "7dd1602e",
   "metadata": {},
   "outputs": [
    {
     "data": {
      "text/plain": [
       "array([[0., 1., 1., 1., 1., 1., 1., 1., 1., 1.],\n",
       "       [0., 1., 1., 1., 1., 1., 1., 1., 1., 1.],\n",
       "       [0., 1., 1., 1., 1., 1., 1., 1., 1., 1.],\n",
       "       [0., 1., 1., 1., 1., 1., 1., 1., 1., 1.],\n",
       "       [0., 1., 1., 1., 1., 1., 1., 1., 1., 1.],\n",
       "       [0., 1., 1., 1., 1., 1., 1., 1., 1., 1.],\n",
       "       [0., 1., 1., 1., 1., 1., 1., 1., 1., 1.],\n",
       "       [0., 1., 1., 1., 1., 1., 1., 1., 1., 1.],\n",
       "       [0., 1., 1., 1., 1., 1., 1., 1., 1., 1.],\n",
       "       [0., 1., 1., 1., 1., 1., 1., 1., 1., 1.],\n",
       "       [0., 1., 1., 1., 1., 1., 1., 1., 1., 1.],\n",
       "       [0., 1., 1., 1., 1., 1., 1., 1., 1., 1.],\n",
       "       [0., 1., 1., 1., 1., 1., 1., 1., 1., 1.],\n",
       "       [0., 1., 1., 1., 1., 1., 1., 1., 1., 1.],\n",
       "       [0., 1., 1., 1., 1., 1., 1., 1., 1., 1.],\n",
       "       [0., 1., 1., 1., 1., 1., 1., 1., 1., 1.],\n",
       "       [0., 1., 1., 1., 1., 1., 1., 1., 1., 1.],\n",
       "       [0., 1., 1., 1., 1., 1., 1., 1., 1., 1.],\n",
       "       [0., 1., 1., 1., 1., 1., 1., 1., 1., 1.],\n",
       "       [0., 1., 1., 1., 1., 1., 1., 1., 1., 1.],\n",
       "       [0., 1., 1., 1., 1., 1., 1., 1., 1., 1.],\n",
       "       [0., 1., 1., 1., 1., 1., 1., 1., 1., 1.],\n",
       "       [0., 1., 1., 1., 1., 1., 1., 1., 1., 1.],\n",
       "       [0., 1., 1., 1., 1., 1., 1., 1., 1., 1.],\n",
       "       [0., 1., 1., 1., 1., 1., 1., 1., 1., 1.]])"
      ]
     },
     "execution_count": 133,
     "metadata": {},
     "output_type": "execute_result"
    }
   ],
   "source": [
    "valid"
   ]
  },
  {
   "cell_type": "code",
   "execution_count": 134,
   "id": "fc657749",
   "metadata": {},
   "outputs": [
    {
     "data": {
      "text/plain": [
       "(0.0, 11.0)"
      ]
     },
     "execution_count": 134,
     "metadata": {},
     "output_type": "execute_result"
    },
    {
     "data": {
      "image/png": "[encoded data removed]",
      "text/plain": [
       "<Figure size 864x576 with 1 Axes>"
      ]
     },
     "metadata": {
      "needs_background": "light"
     },
     "output_type": "display_data"
    }
   ],
   "source": [
    "plt.figure(figsize=(12,8))\n",
    "plt.plot(time.datetime, telescopes, color=\"darkorange\", marker=\".\", linestyle=\"none\")\n",
    "\n",
    "plt.ylabel(\"Telescope\")\n",
    "plt.xlabel(\"Time\")\n",
    "plt.ylim(0, 11)"
   ]
  },
  {
   "cell_type": "code",
   "execution_count": null,
   "id": "a9907a67",
   "metadata": {},
   "outputs": [],
   "source": []
  },
  {
   "cell_type": "code",
   "execution_count": null,
   "id": "51ef9600",
   "metadata": {},
   "outputs": [],
   "source": []
  }
 ],
 "metadata": {
  "kernelspec": {
   "display_name": "Python 3 (ipykernel)",
   "language": "python",
   "name": "python3"
  },
  "language_info": {
   "codemirror_mode": {
    "name": "ipython",
    "version": 3
   },
   "file_extension": ".py",
   "mimetype": "text/x-python",
   "name": "python",
   "nbconvert_exporter": "python",
   "pygments_lexer": "ipython3",
   "version": "3.10.4"
  }
 },
 "nbformat": 4,
 "nbformat_minor": 5
}
