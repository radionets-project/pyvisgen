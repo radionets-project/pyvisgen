{
 "cells": [
  {
   "cell_type": "markdown",
   "id": "important-excess",
   "metadata": {},
   "source": [
    "# Complete Simulation Chain for Visibility Calculation"
   ]
  },
  {
   "cell_type": "markdown",
   "id": "final-genetics",
   "metadata": {},
   "source": [
    "## Read in Config"
   ]
  },
  {
   "cell_type": "code",
   "execution_count": 1,
   "id": "allied-portugal",
   "metadata": {},
   "outputs": [],
   "source": [
    "import vipy.simulation.utils as ut\n",
    "import vipy.layouts.layouts as layouts\n",
    "import astropy.constants as const\n",
    "from astropy import units as un\n",
    "import time as t"
   ]
  },
  {
   "cell_type": "code",
   "execution_count": 2,
   "id": "neutral-degree",
   "metadata": {},
   "outputs": [],
   "source": [
    "# rc = ut.read_config('/net/nfshome/home/sfroese/vipy/config/default.toml')\n",
    "rc = ut.read_config(\"../config/test.toml\")\n",
    "array_layout = layouts.get_array_layout('eht')\n",
    "\n",
    "src_crd = rc['src_coord']\n",
    "wave1 = const.c/((float(rc['channel'].split(':')[0])-float(rc['channel'].split(':')[1]))*10**6/un.second)/un.meter\n",
    "wave2 = const.c/((float(rc['channel'].split(':')[0])+float(rc['channel'].split(':')[1]))*10**6/un.second)/un.meter"
   ]
  },
  {
   "cell_type": "markdown",
   "id": "narrative-sudan",
   "metadata": {},
   "source": [
    "## Generate (l,m)-plane / FOV"
   ]
  },
  {
   "cell_type": "code",
   "execution_count": 3,
   "id": "boring-impossible",
   "metadata": {},
   "outputs": [],
   "source": [
    "import vipy.simulation.scan as scan"
   ]
  },
  {
   "cell_type": "code",
   "execution_count": 4,
   "id": "unlimited-kelly",
   "metadata": {},
   "outputs": [],
   "source": [
    "grid = scan.create_bgrid(rc['fov_size'], 256, src_crd)\n",
    "lm = scan.lm(grid, src_crd)"
   ]
  },
  {
   "cell_type": "markdown",
   "id": "valid-genome",
   "metadata": {},
   "source": [
    "## Calculate Start and Stop times for every measurement"
   ]
  },
  {
   "cell_type": "code",
   "execution_count": 15,
   "id": "handled-atlanta",
   "metadata": {},
   "outputs": [
    {
     "name": "stdout",
     "output_type": "stream",
     "text": [
      "['2016:095:00:00:00.000' '2016:095:00:00:10.000' '2016:095:00:20:00.000'\n",
      " '2016:095:00:20:10.000' '2016:095:00:40:00.000' '2016:095:00:40:10.000'\n",
      " '2016:095:01:00:00.000' '2016:095:01:00:10.000' '2016:095:01:20:00.000'\n",
      " '2016:095:01:20:10.000' '2016:095:01:20:20.000']\n"
     ]
    }
   ],
   "source": [
    "time = ut.calc_time_steps(rc)\n",
    "print(time)"
   ]
  },
  {
   "cell_type": "markdown",
   "id": "naval-shareware",
   "metadata": {},
   "source": [
    "## Calculate Baselines for one measurement"
   ]
  },
  {
   "cell_type": "code",
   "execution_count": 24,
   "id": "intensive-albania",
   "metadata": {},
   "outputs": [
    {
     "data": {
      "text/plain": [
       "86"
      ]
     },
     "execution_count": 24,
     "metadata": {},
     "output_type": "execute_result"
    }
   ],
   "source": [
    "baselines = scan.get_baselines(src_crd, time[:], array_layout)\n",
    "len(baselines.u[baselines.valid == True])"
   ]
  },
  {
   "cell_type": "code",
   "execution_count": 57,
   "id": "constant-nicholas",
   "metadata": {},
   "outputs": [
    {
     "name": "stdout",
     "output_type": "stream",
     "text": [
      "308\n"
     ]
    },
    {
     "data": {
      "text/plain": [
       "(10, 28)"
      ]
     },
     "execution_count": 57,
     "metadata": {},
     "output_type": "execute_result"
    }
   ],
   "source": [
    "print(len(baselines.valid))\n",
    "valid = baselines.valid.reshape(-1, 28)\n",
    "mask = np.array([(np.array(valid[i]).astype(bool)) & (np.array(valid[i+1]).astype(bool)) for i in range(valid.shape[0] - 1)])\n",
    "mask.shape"
   ]
  },
  {
   "cell_type": "code",
   "execution_count": 64,
   "id": "excess-creativity",
   "metadata": {},
   "outputs": [
    {
     "data": {
      "text/plain": [
       "(11, 28)"
      ]
     },
     "execution_count": 64,
     "metadata": {},
     "output_type": "execute_result"
    }
   ],
   "source": [
    "bas_st1 = baselines.st1.reshape(-1, 28)\n",
    "bas_st2 = baselines.st2.reshape(-1, 28)\n",
    "bas_st1.shape"
   ]
  },
  {
   "cell_type": "code",
   "execution_count": 78,
   "id": "small-sydney",
   "metadata": {},
   "outputs": [
    {
     "name": "stdout",
     "output_type": "stream",
     "text": [
      "True\n",
      "True\n",
      "True\n"
     ]
    }
   ],
   "source": [
    "st1_start = bas_st1[:-1][mask]\n",
    "st1_stop = bas_st1[1:][mask]\n",
    "print(st1_stop.shape == st1_start.shape)\n",
    "\n",
    "st2_start = bas_st2[:-1][mask]\n",
    "st2_stop = bas_st2[1:][mask]\n",
    "print(st2_stop.shape == st2_start.shape)\n",
    "\n",
    "print(st1_start.shape == st2_start.shape)"
   ]
  },
  {
   "cell_type": "code",
   "execution_count": 80,
   "id": "native-northeast",
   "metadata": {},
   "outputs": [
    {
     "data": {
      "text/plain": [
       "array([Station(st_num=5, name='PdBI', x=4523998.4, y=468045.24, z=4460309.76, diam=7.0, el_low=15, el_high=85, sefd=1600, altitude=2550),\n",
       "       Station(st_num=7, name='GLT', x=1500692.0, y=-1191735.0, z=6066409.0, diam=12.0, el_low=15, el_high=85, sefd=4744, altitude=3210),\n",
       "       Station(st_num=5, name='PdBI', x=4523998.4, y=468045.24, z=4460309.76, diam=7.0, el_low=15, el_high=85, sefd=1600, altitude=2550),\n",
       "       Station(st_num=4, name='PV', x=5088967.9, y=-301681.6, z=3825015.8, diam=30.0, el_low=15, el_high=85, sefd=2900, altitude=2850),\n",
       "       Station(st_num=7, name='GLT', x=1500692.0, y=-1191735.0, z=6066409.0, diam=12.0, el_low=15, el_high=85, sefd=4744, altitude=3210),\n",
       "       Station(st_num=7, name='GLT', x=1500692.0, y=-1191735.0, z=6066409.0, diam=12.0, el_low=15, el_high=85, sefd=4744, altitude=3210),\n",
       "       Station(st_num=5, name='PdBI', x=4523998.4, y=468045.24, z=4460309.76, diam=7.0, el_low=15, el_high=85, sefd=1600, altitude=2550),\n",
       "       Station(st_num=7, name='GLT', x=1500692.0, y=-1191735.0, z=6066409.0, diam=12.0, el_low=15, el_high=85, sefd=4744, altitude=3210),\n",
       "       Station(st_num=5, name='PdBI', x=4523998.4, y=468045.24, z=4460309.76, diam=7.0, el_low=15, el_high=85, sefd=1600, altitude=2550),\n",
       "       Station(st_num=4, name='PV', x=5088967.9, y=-301681.6, z=3825015.8, diam=30.0, el_low=15, el_high=85, sefd=2900, altitude=2850),\n",
       "       Station(st_num=7, name='GLT', x=1500692.0, y=-1191735.0, z=6066409.0, diam=12.0, el_low=15, el_high=85, sefd=4744, altitude=3210),\n",
       "       Station(st_num=7, name='GLT', x=1500692.0, y=-1191735.0, z=6066409.0, diam=12.0, el_low=15, el_high=85, sefd=4744, altitude=3210),\n",
       "       Station(st_num=5, name='PdBI', x=4523998.4, y=468045.24, z=4460309.76, diam=7.0, el_low=15, el_high=85, sefd=1600, altitude=2550),\n",
       "       Station(st_num=7, name='GLT', x=1500692.0, y=-1191735.0, z=6066409.0, diam=12.0, el_low=15, el_high=85, sefd=4744, altitude=3210),\n",
       "       Station(st_num=5, name='PdBI', x=4523998.4, y=468045.24, z=4460309.76, diam=7.0, el_low=15, el_high=85, sefd=1600, altitude=2550),\n",
       "       Station(st_num=4, name='PV', x=5088967.9, y=-301681.6, z=3825015.8, diam=30.0, el_low=15, el_high=85, sefd=2900, altitude=2850),\n",
       "       Station(st_num=7, name='GLT', x=1500692.0, y=-1191735.0, z=6066409.0, diam=12.0, el_low=15, el_high=85, sefd=4744, altitude=3210),\n",
       "       Station(st_num=7, name='GLT', x=1500692.0, y=-1191735.0, z=6066409.0, diam=12.0, el_low=15, el_high=85, sefd=4744, altitude=3210),\n",
       "       Station(st_num=5, name='PdBI', x=4523998.4, y=468045.24, z=4460309.76, diam=7.0, el_low=15, el_high=85, sefd=1600, altitude=2550),\n",
       "       Station(st_num=7, name='GLT', x=1500692.0, y=-1191735.0, z=6066409.0, diam=12.0, el_low=15, el_high=85, sefd=4744, altitude=3210),\n",
       "       Station(st_num=5, name='PdBI', x=4523998.4, y=468045.24, z=4460309.76, diam=7.0, el_low=15, el_high=85, sefd=1600, altitude=2550),\n",
       "       Station(st_num=4, name='PV', x=5088967.9, y=-301681.6, z=3825015.8, diam=30.0, el_low=15, el_high=85, sefd=2900, altitude=2850),\n",
       "       Station(st_num=7, name='GLT', x=1500692.0, y=-1191735.0, z=6066409.0, diam=12.0, el_low=15, el_high=85, sefd=4744, altitude=3210),\n",
       "       Station(st_num=7, name='GLT', x=1500692.0, y=-1191735.0, z=6066409.0, diam=12.0, el_low=15, el_high=85, sefd=4744, altitude=3210),\n",
       "       Station(st_num=5, name='PdBI', x=4523998.4, y=468045.24, z=4460309.76, diam=7.0, el_low=15, el_high=85, sefd=1600, altitude=2550),\n",
       "       Station(st_num=7, name='GLT', x=1500692.0, y=-1191735.0, z=6066409.0, diam=12.0, el_low=15, el_high=85, sefd=4744, altitude=3210),\n",
       "       Station(st_num=5, name='PdBI', x=4523998.4, y=468045.24, z=4460309.76, diam=7.0, el_low=15, el_high=85, sefd=1600, altitude=2550),\n",
       "       Station(st_num=4, name='PV', x=5088967.9, y=-301681.6, z=3825015.8, diam=30.0, el_low=15, el_high=85, sefd=2900, altitude=2850),\n",
       "       Station(st_num=7, name='GLT', x=1500692.0, y=-1191735.0, z=6066409.0, diam=12.0, el_low=15, el_high=85, sefd=4744, altitude=3210),\n",
       "       Station(st_num=7, name='GLT', x=1500692.0, y=-1191735.0, z=6066409.0, diam=12.0, el_low=15, el_high=85, sefd=4744, altitude=3210),\n",
       "       Station(st_num=5, name='PdBI', x=4523998.4, y=468045.24, z=4460309.76, diam=7.0, el_low=15, el_high=85, sefd=1600, altitude=2550),\n",
       "       Station(st_num=7, name='GLT', x=1500692.0, y=-1191735.0, z=6066409.0, diam=12.0, el_low=15, el_high=85, sefd=4744, altitude=3210),\n",
       "       Station(st_num=5, name='PdBI', x=4523998.4, y=468045.24, z=4460309.76, diam=7.0, el_low=15, el_high=85, sefd=1600, altitude=2550),\n",
       "       Station(st_num=4, name='PV', x=5088967.9, y=-301681.6, z=3825015.8, diam=30.0, el_low=15, el_high=85, sefd=2900, altitude=2850),\n",
       "       Station(st_num=7, name='GLT', x=1500692.0, y=-1191735.0, z=6066409.0, diam=12.0, el_low=15, el_high=85, sefd=4744, altitude=3210),\n",
       "       Station(st_num=7, name='GLT', x=1500692.0, y=-1191735.0, z=6066409.0, diam=12.0, el_low=15, el_high=85, sefd=4744, altitude=3210),\n",
       "       Station(st_num=5, name='PdBI', x=4523998.4, y=468045.24, z=4460309.76, diam=7.0, el_low=15, el_high=85, sefd=1600, altitude=2550),\n",
       "       Station(st_num=7, name='GLT', x=1500692.0, y=-1191735.0, z=6066409.0, diam=12.0, el_low=15, el_high=85, sefd=4744, altitude=3210),\n",
       "       Station(st_num=7, name='GLT', x=1500692.0, y=-1191735.0, z=6066409.0, diam=12.0, el_low=15, el_high=85, sefd=4744, altitude=3210),\n",
       "       Station(st_num=5, name='PdBI', x=4523998.4, y=468045.24, z=4460309.76, diam=7.0, el_low=15, el_high=85, sefd=1600, altitude=2550),\n",
       "       Station(st_num=4, name='PV', x=5088967.9, y=-301681.6, z=3825015.8, diam=30.0, el_low=15, el_high=85, sefd=2900, altitude=2850),\n",
       "       Station(st_num=2, name='LMT', x=-768713.9637, y=-5988541.7982, z=2063275.9472, diam=50.0, el_low=15, el_high=85, sefd=560, altitude=4640),\n",
       "       Station(st_num=7, name='GLT', x=1500692.0, y=-1191735.0, z=6066409.0, diam=12.0, el_low=15, el_high=85, sefd=4744, altitude=3210),\n",
       "       Station(st_num=7, name='GLT', x=1500692.0, y=-1191735.0, z=6066409.0, diam=12.0, el_low=15, el_high=85, sefd=4744, altitude=3210),\n",
       "       Station(st_num=5, name='PdBI', x=4523998.4, y=468045.24, z=4460309.76, diam=7.0, el_low=15, el_high=85, sefd=1600, altitude=2550),\n",
       "       Station(st_num=4, name='PV', x=5088967.9, y=-301681.6, z=3825015.8, diam=30.0, el_low=15, el_high=85, sefd=2900, altitude=2850),\n",
       "       Station(st_num=5, name='PdBI', x=4523998.4, y=468045.24, z=4460309.76, diam=7.0, el_low=15, el_high=85, sefd=1600, altitude=2550),\n",
       "       Station(st_num=7, name='GLT', x=1500692.0, y=-1191735.0, z=6066409.0, diam=12.0, el_low=15, el_high=85, sefd=4744, altitude=3210),\n",
       "       Station(st_num=7, name='GLT', x=1500692.0, y=-1191735.0, z=6066409.0, diam=12.0, el_low=15, el_high=85, sefd=4744, altitude=3210),\n",
       "       Station(st_num=5, name='PdBI', x=4523998.4, y=468045.24, z=4460309.76, diam=7.0, el_low=15, el_high=85, sefd=1600, altitude=2550),\n",
       "       Station(st_num=4, name='PV', x=5088967.9, y=-301681.6, z=3825015.8, diam=30.0, el_low=15, el_high=85, sefd=2900, altitude=2850),\n",
       "       Station(st_num=2, name='LMT', x=-768713.9637, y=-5988541.7982, z=2063275.9472, diam=50.0, el_low=15, el_high=85, sefd=560, altitude=4640),\n",
       "       Station(st_num=7, name='GLT', x=1500692.0, y=-1191735.0, z=6066409.0, diam=12.0, el_low=15, el_high=85, sefd=4744, altitude=3210),\n",
       "       Station(st_num=7, name='GLT', x=1500692.0, y=-1191735.0, z=6066409.0, diam=12.0, el_low=15, el_high=85, sefd=4744, altitude=3210),\n",
       "       Station(st_num=5, name='PdBI', x=4523998.4, y=468045.24, z=4460309.76, diam=7.0, el_low=15, el_high=85, sefd=1600, altitude=2550),\n",
       "       Station(st_num=4, name='PV', x=5088967.9, y=-301681.6, z=3825015.8, diam=30.0, el_low=15, el_high=85, sefd=2900, altitude=2850),\n",
       "       Station(st_num=5, name='PdBI', x=4523998.4, y=468045.24, z=4460309.76, diam=7.0, el_low=15, el_high=85, sefd=1600, altitude=2550),\n",
       "       Station(st_num=7, name='GLT', x=1500692.0, y=-1191735.0, z=6066409.0, diam=12.0, el_low=15, el_high=85, sefd=4744, altitude=3210),\n",
       "       Station(st_num=7, name='GLT', x=1500692.0, y=-1191735.0, z=6066409.0, diam=12.0, el_low=15, el_high=85, sefd=4744, altitude=3210),\n",
       "       Station(st_num=5, name='PdBI', x=4523998.4, y=468045.24, z=4460309.76, diam=7.0, el_low=15, el_high=85, sefd=1600, altitude=2550),\n",
       "       Station(st_num=4, name='PV', x=5088967.9, y=-301681.6, z=3825015.8, diam=30.0, el_low=15, el_high=85, sefd=2900, altitude=2850),\n",
       "       Station(st_num=2, name='LMT', x=-768713.9637, y=-5988541.7982, z=2063275.9472, diam=50.0, el_low=15, el_high=85, sefd=560, altitude=4640),\n",
       "       Station(st_num=7, name='GLT', x=1500692.0, y=-1191735.0, z=6066409.0, diam=12.0, el_low=15, el_high=85, sefd=4744, altitude=3210),\n",
       "       Station(st_num=7, name='GLT', x=1500692.0, y=-1191735.0, z=6066409.0, diam=12.0, el_low=15, el_high=85, sefd=4744, altitude=3210),\n",
       "       Station(st_num=5, name='PdBI', x=4523998.4, y=468045.24, z=4460309.76, diam=7.0, el_low=15, el_high=85, sefd=1600, altitude=2550),\n",
       "       Station(st_num=4, name='PV', x=5088967.9, y=-301681.6, z=3825015.8, diam=30.0, el_low=15, el_high=85, sefd=2900, altitude=2850),\n",
       "       Station(st_num=5, name='PdBI', x=4523998.4, y=468045.24, z=4460309.76, diam=7.0, el_low=15, el_high=85, sefd=1600, altitude=2550),\n",
       "       Station(st_num=7, name='GLT', x=1500692.0, y=-1191735.0, z=6066409.0, diam=12.0, el_low=15, el_high=85, sefd=4744, altitude=3210),\n",
       "       Station(st_num=7, name='GLT', x=1500692.0, y=-1191735.0, z=6066409.0, diam=12.0, el_low=15, el_high=85, sefd=4744, altitude=3210),\n",
       "       Station(st_num=5, name='PdBI', x=4523998.4, y=468045.24, z=4460309.76, diam=7.0, el_low=15, el_high=85, sefd=1600, altitude=2550),\n",
       "       Station(st_num=4, name='PV', x=5088967.9, y=-301681.6, z=3825015.8, diam=30.0, el_low=15, el_high=85, sefd=2900, altitude=2850),\n",
       "       Station(st_num=2, name='LMT', x=-768713.9637, y=-5988541.7982, z=2063275.9472, diam=50.0, el_low=15, el_high=85, sefd=560, altitude=4640),\n",
       "       Station(st_num=7, name='GLT', x=1500692.0, y=-1191735.0, z=6066409.0, diam=12.0, el_low=15, el_high=85, sefd=4744, altitude=3210),\n",
       "       Station(st_num=7, name='GLT', x=1500692.0, y=-1191735.0, z=6066409.0, diam=12.0, el_low=15, el_high=85, sefd=4744, altitude=3210),\n",
       "       Station(st_num=5, name='PdBI', x=4523998.4, y=468045.24, z=4460309.76, diam=7.0, el_low=15, el_high=85, sefd=1600, altitude=2550),\n",
       "       Station(st_num=4, name='PV', x=5088967.9, y=-301681.6, z=3825015.8, diam=30.0, el_low=15, el_high=85, sefd=2900, altitude=2850)],\n",
       "      dtype=object)"
      ]
     },
     "execution_count": 80,
     "metadata": {},
     "output_type": "execute_result"
    }
   ],
   "source": [
    "st2_start"
   ]
  },
  {
   "cell_type": "markdown",
   "id": "alpine-counter",
   "metadata": {},
   "source": [
    "## Calculate Mueller/Jones matrices"
   ]
  },
  {
   "cell_type": "code",
   "execution_count": 7,
   "id": "royal-victoria",
   "metadata": {},
   "outputs": [],
   "source": [
    "import numpy as np\n",
    "import torch"
   ]
  },
  {
   "cell_type": "code",
   "execution_count": 8,
   "id": "adjustable-interference",
   "metadata": {},
   "outputs": [
    {
     "name": "stderr",
     "output_type": "stream",
     "text": [
      "/home/kschmidt_local/.local/anaconda3/envs/vipy/lib/python3.9/site-packages/astropy/units/quantity.py:477: RuntimeWarning: invalid value encountered in true_divide\n",
      "  result = super().__array_ufunc__(function, method, *arrays, **kwargs)\n",
      "/home/kschmidt_local/radio_nets/vipy/vipy/simulation/scan.py:319: UserWarning: To copy construct from a tensor, it is recommended to use sourceTensor.clone().detach() or sourceTensor.clone().detach().requires_grad_(True), rather than torch.tensor(sourceTensor).\n",
      "  K = torch.tensor(getK(baselines, lm, wave))\n"
     ]
    },
    {
     "name": "stdout",
     "output_type": "stream",
     "text": [
      "CPU times: user 9.49 s, sys: 3.04 s, total: 12.5 s\n",
      "Wall time: 2.18 s\n"
     ]
    }
   ],
   "source": [
    "%%time\n",
    "start = t.time()\n",
    "torch.set_num_threads(8)\n",
    "JJ_f1 = scan.getJones(lm, baselines, wave1, time, src_crd, array_layout)\n",
    "JJ_f2 = scan.getJones(lm, baselines, wave2, time, src_crd, array_layout)"
   ]
  },
  {
   "cell_type": "markdown",
   "id": "robust-jacksonville",
   "metadata": {},
   "source": [
    "## Open Source Image and compute Stokes vector"
   ]
  },
  {
   "cell_type": "code",
   "execution_count": 9,
   "id": "connected-affiliate",
   "metadata": {},
   "outputs": [],
   "source": [
    "from astropy.io import fits\n",
    "import matplotlib.pyplot as plt\n",
    "import torch"
   ]
  },
  {
   "cell_type": "code",
   "execution_count": 10,
   "id": "prescribed-member",
   "metadata": {},
   "outputs": [],
   "source": [
    "hdul = fits.open('celestial-03-05.fits')\n",
    "img = hdul[0].data.astype(np.float32)\n",
    "img = torch.tensor(img)\n",
    "\n",
    "I = torch.zeros((img.shape[0],img.shape[1],4), dtype=torch.cdouble)\n",
    "I[...,0] = img\n",
    "I[...,1] = img*torch.sqrt(torch.tensor(0.5))\n",
    "I[...,2] = img*torch.sqrt(torch.tensor(0.5))\n",
    "# plt.imshow((I[...,1]+I[...,2]).real)\n",
    "# plt.colorbar()"
   ]
  },
  {
   "cell_type": "markdown",
   "id": "moved-globe",
   "metadata": {},
   "source": [
    "## Integration"
   ]
  },
  {
   "cell_type": "code",
   "execution_count": 11,
   "id": "twelve-earth",
   "metadata": {},
   "outputs": [
    {
     "name": "stdout",
     "output_type": "stream",
     "text": [
      "0.0001830982550547064\n",
      "6.770906209945679\n",
      "CPU times: user 3.12 s, sys: 1.16 s, total: 4.29 s\n",
      "Wall time: 622 ms\n"
     ]
    }
   ],
   "source": [
    "%%time\n",
    "delta_t = rc['corr_int_time']\n",
    "delta_f = float(rc['channel'].split(':')[1])*10**6\n",
    "delta_l = np.abs(lm[255,0,0]-lm[0,0,0])\n",
    "delta_m = np.abs(lm[0,255,0]-lm[0,0,0])\n",
    "print(delta_l)\n",
    "\n",
    "integral = scan.integrate(JJ_f1, JJ_f2, I, 2, delta_t, delta_f, delta_l, delta_m)\n",
    "integral.shape\n",
    "end = t.time()\n",
    "print(end - start)"
   ]
  },
  {
   "cell_type": "code",
   "execution_count": 12,
   "id": "infinite-working",
   "metadata": {},
   "outputs": [
    {
     "data": {
      "text/plain": [
       "torch.Size([84, 4])"
      ]
     },
     "execution_count": 12,
     "metadata": {},
     "output_type": "execute_result"
    }
   ],
   "source": [
    "integral.shape"
   ]
  },
  {
   "cell_type": "markdown",
   "id": "loose-footage",
   "metadata": {},
   "source": [
    "## All scan loop"
   ]
  },
  {
   "cell_type": "code",
   "execution_count": 13,
   "id": "italic-proportion",
   "metadata": {},
   "outputs": [],
   "source": [
    "from tqdm import tqdm"
   ]
  },
  {
   "cell_type": "code",
   "execution_count": 14,
   "id": "steady-amplifier",
   "metadata": {},
   "outputs": [],
   "source": [
    "torch.set_num_threads(12)"
   ]
  },
  {
   "cell_type": "code",
   "execution_count": 15,
   "id": "serial-connectivity",
   "metadata": {},
   "outputs": [],
   "source": [
    "hdul = fits.open('celestial-03-05.fits')\n",
    "img = hdul[0].data.astype(np.float32)\n",
    "img = torch.tensor(img)\n",
    "\n",
    "I = torch.zeros((img.shape[0],img.shape[1],4), dtype=torch.cdouble)\n",
    "I[...,0] = img\n",
    "I[...,1] = img*torch.sqrt(torch.tensor(0.5))\n",
    "I[...,2] = img*torch.sqrt(torch.tensor(0.5))"
   ]
  },
  {
   "cell_type": "code",
   "execution_count": 16,
   "id": "moderate-jacob",
   "metadata": {},
   "outputs": [
    {
     "name": "stderr",
     "output_type": "stream",
     "text": [
      "\r",
      "  0%|          | 0/5 [00:00<?, ?it/s]"
     ]
    },
    {
     "name": "stdout",
     "output_type": "stream",
     "text": [
      "['2016:095:00:00:00.000' '2016:095:00:00:10.000' '2016:095:00:20:00.000']\n",
      "18\n"
     ]
    },
    {
     "name": "stderr",
     "output_type": "stream",
     "text": [
      "/home/kschmidt_local/.local/anaconda3/envs/vipy/lib/python3.9/site-packages/astropy/units/quantity.py:477: RuntimeWarning: invalid value encountered in true_divide\n",
      "  result = super().__array_ufunc__(function, method, *arrays, **kwargs)\n",
      "/home/kschmidt_local/radio_nets/vipy/vipy/simulation/scan.py:319: UserWarning: To copy construct from a tensor, it is recommended to use sourceTensor.clone().detach() or sourceTensor.clone().detach().requires_grad_(True), rather than torch.tensor(sourceTensor).\n",
      "  K = torch.tensor(getK(baselines, lm, wave))\n"
     ]
    },
    {
     "name": "stdout",
     "output_type": "stream",
     "text": [
      "torch.Size([256, 256, 18, 4, 4])\n",
      "0.0001830982550547064\n"
     ]
    },
    {
     "name": "stderr",
     "output_type": "stream",
     "text": [
      "\r",
      " 20%|██        | 1/5 [00:00<00:03,  1.19it/s]"
     ]
    },
    {
     "name": "stdout",
     "output_type": "stream",
     "text": [
      "torch.Size([17, 4])\n",
      "['2016:095:00:20:00.000' '2016:095:00:20:10.000' '2016:095:00:40:00.000']\n",
      "18\n",
      "torch.Size([256, 256, 18, 4, 4])\n",
      "0.0001830982550547064\n"
     ]
    },
    {
     "name": "stderr",
     "output_type": "stream",
     "text": [
      "\r",
      " 40%|████      | 2/5 [00:01<00:02,  1.22it/s]"
     ]
    },
    {
     "name": "stdout",
     "output_type": "stream",
     "text": [
      "torch.Size([17, 4])\n",
      "['2016:095:00:40:00.000' '2016:095:00:40:10.000' '2016:095:01:00:00.000']\n",
      "22\n",
      "torch.Size([256, 256, 22, 4, 4])\n",
      "0.0001830982550547064\n"
     ]
    },
    {
     "name": "stderr",
     "output_type": "stream",
     "text": [
      "\r",
      " 60%|██████    | 3/5 [00:02<00:01,  1.14it/s]"
     ]
    },
    {
     "name": "stdout",
     "output_type": "stream",
     "text": [
      "torch.Size([21, 4])\n",
      "['2016:095:01:00:00.000' '2016:095:01:00:10.000' '2016:095:01:20:00.000']\n",
      "30\n",
      "torch.Size([256, 256, 30, 4, 4])\n",
      "0.0001830982550547064\n"
     ]
    },
    {
     "name": "stderr",
     "output_type": "stream",
     "text": [
      "\r",
      " 80%|████████  | 4/5 [00:03<00:01,  1.02s/it]"
     ]
    },
    {
     "name": "stdout",
     "output_type": "stream",
     "text": [
      "torch.Size([29, 4])\n",
      "['2016:095:01:20:00.000' '2016:095:01:20:10.000' '2016:095:01:20:20.000']\n",
      "30\n",
      "torch.Size([256, 256, 30, 4, 4])\n",
      "0.0001830982550547064\n"
     ]
    },
    {
     "name": "stderr",
     "output_type": "stream",
     "text": [
      "100%|██████████| 5/5 [00:05<00:00,  1.01s/it]"
     ]
    },
    {
     "name": "stdout",
     "output_type": "stream",
     "text": [
      "torch.Size([29, 4])\n"
     ]
    },
    {
     "name": "stderr",
     "output_type": "stream",
     "text": [
      "\n"
     ]
    }
   ],
   "source": [
    "integral2 = np.array([])\n",
    "for i in tqdm(range(5)):\n",
    "    t = time[i*2:(i+1)*2+1]\n",
    "    print(t)\n",
    "    baselines = scan.get_baselines(src_crd, t, array_layout)\n",
    "    print(len(baselines.u[baselines.valid==True]))\n",
    "    \n",
    "    JJ_f1 = scan.getJones(lm, baselines, wave1, time, src_crd, array_layout)\n",
    "    if JJ_f1.shape[0] == 1:\n",
    "        continue\n",
    "    JJ_f2 = scan.getJones(lm, baselines, wave2, time, src_crd, array_layout)\n",
    "    print(JJ_f1.shape)\n",
    "\n",
    "    delta_t = rc['corr_int_time']\n",
    "    delta_f = float(rc['channel'].split(':')[1])*10**6\n",
    "    delta_l = np.abs(lm[255,0,0]-lm[0,0,0])\n",
    "    delta_m = np.abs(lm[0,255,0]-lm[0,0,0])\n",
    "    print(delta_l)\n",
    "\n",
    "    integral2 = np.append(integral2,scan.integrate(JJ_f1, JJ_f2, I, 1, delta_t, delta_f, delta_l, delta_m))\n",
    "    print(scan.integrate(JJ_f1, JJ_f2, I, 1, delta_t, delta_f, delta_l, delta_m).shape)\n"
   ]
  },
  {
   "cell_type": "code",
   "execution_count": 17,
   "id": "material-amendment",
   "metadata": {},
   "outputs": [
    {
     "data": {
      "text/plain": [
       "(113, 4)"
      ]
     },
     "execution_count": 17,
     "metadata": {},
     "output_type": "execute_result"
    }
   ],
   "source": [
    "integral2 = integral2.reshape(-1, 4)\n",
    "integral2.shape"
   ]
  },
  {
   "cell_type": "code",
   "execution_count": 18,
   "id": "successful-acting",
   "metadata": {},
   "outputs": [
    {
     "data": {
      "text/plain": [
       "tensor([[[4.2461e-07+0.j, 3.0025e-07+0.j, 3.0025e-07+0.j, 0.0000e+00+0.j],\n",
       "         [2.1231e-07+0.j, 1.5012e-07+0.j, 1.5012e-07+0.j, 0.0000e+00+0.j],\n",
       "         [6.3692e-07+0.j, 4.5037e-07+0.j, 4.5037e-07+0.j, 0.0000e+00+0.j],\n",
       "         ...,\n",
       "         [1.0615e-06+0.j, 7.5061e-07+0.j, 7.5061e-07+0.j, 0.0000e+00+0.j],\n",
       "         [1.0615e-06+0.j, 7.5061e-07+0.j, 7.5061e-07+0.j, 0.0000e+00+0.j],\n",
       "         [1.0615e-06+0.j, 7.5061e-07+0.j, 7.5061e-07+0.j, 0.0000e+00+0.j]],\n",
       "\n",
       "        [[6.3692e-07+0.j, 4.5037e-07+0.j, 4.5037e-07+0.j, 0.0000e+00+0.j],\n",
       "         [6.3692e-07+0.j, 4.5037e-07+0.j, 4.5037e-07+0.j, 0.0000e+00+0.j],\n",
       "         [8.4922e-07+0.j, 6.0049e-07+0.j, 6.0049e-07+0.j, 0.0000e+00+0.j],\n",
       "         ...,\n",
       "         [8.4922e-07+0.j, 6.0049e-07+0.j, 6.0049e-07+0.j, 0.0000e+00+0.j],\n",
       "         [3.1846e-06+0.j, 2.2518e-06+0.j, 2.2518e-06+0.j, 0.0000e+00+0.j],\n",
       "         [8.4922e-06+0.j, 6.0049e-06+0.j, 6.0049e-06+0.j, 0.0000e+00+0.j]],\n",
       "\n",
       "        [[4.2461e-07+0.j, 3.0025e-07+0.j, 3.0025e-07+0.j, 0.0000e+00+0.j],\n",
       "         [6.3692e-07+0.j, 4.5037e-07+0.j, 4.5037e-07+0.j, 0.0000e+00+0.j],\n",
       "         [4.2461e-07+0.j, 3.0025e-07+0.j, 3.0025e-07+0.j, 0.0000e+00+0.j],\n",
       "         ...,\n",
       "         [1.4861e-06+0.j, 1.0509e-06+0.j, 1.0509e-06+0.j, 0.0000e+00+0.j],\n",
       "         [3.8215e-06+0.j, 2.7022e-06+0.j, 2.7022e-06+0.j, 0.0000e+00+0.j],\n",
       "         [7.8553e-06+0.j, 5.5545e-06+0.j, 5.5545e-06+0.j, 0.0000e+00+0.j]],\n",
       "\n",
       "        ...,\n",
       "\n",
       "        [[0.0000e+00+0.j, 0.0000e+00+0.j, 0.0000e+00+0.j, 0.0000e+00+0.j],\n",
       "         [0.0000e+00+0.j, 0.0000e+00+0.j, 0.0000e+00+0.j, 0.0000e+00+0.j],\n",
       "         [0.0000e+00+0.j, 0.0000e+00+0.j, 0.0000e+00+0.j, 0.0000e+00+0.j],\n",
       "         ...,\n",
       "         [1.0615e-06+0.j, 7.5061e-07+0.j, 7.5061e-07+0.j, 0.0000e+00+0.j],\n",
       "         [0.0000e+00+0.j, 0.0000e+00+0.j, 0.0000e+00+0.j, 0.0000e+00+0.j],\n",
       "         [2.1231e-07+0.j, 1.5012e-07+0.j, 1.5012e-07+0.j, 0.0000e+00+0.j]],\n",
       "\n",
       "        [[0.0000e+00+0.j, 0.0000e+00+0.j, 0.0000e+00+0.j, 0.0000e+00+0.j],\n",
       "         [2.1231e-07+0.j, 1.5012e-07+0.j, 1.5012e-07+0.j, 0.0000e+00+0.j],\n",
       "         [2.1231e-07+0.j, 1.5012e-07+0.j, 1.5012e-07+0.j, 0.0000e+00+0.j],\n",
       "         ...,\n",
       "         [8.4922e-07+0.j, 6.0049e-07+0.j, 6.0049e-07+0.j, 0.0000e+00+0.j],\n",
       "         [0.0000e+00+0.j, 0.0000e+00+0.j, 0.0000e+00+0.j, 0.0000e+00+0.j],\n",
       "         [0.0000e+00+0.j, 0.0000e+00+0.j, 0.0000e+00+0.j, 0.0000e+00+0.j]],\n",
       "\n",
       "        [[0.0000e+00+0.j, 0.0000e+00+0.j, 0.0000e+00+0.j, 0.0000e+00+0.j],\n",
       "         [6.5815e-06+0.j, 4.6538e-06+0.j, 4.6538e-06+0.j, 0.0000e+00+0.j],\n",
       "         [4.8830e-06+0.j, 3.4528e-06+0.j, 3.4528e-06+0.j, 0.0000e+00+0.j],\n",
       "         ...,\n",
       "         [0.0000e+00+0.j, 0.0000e+00+0.j, 0.0000e+00+0.j, 0.0000e+00+0.j],\n",
       "         [0.0000e+00+0.j, 0.0000e+00+0.j, 0.0000e+00+0.j, 0.0000e+00+0.j],\n",
       "         [0.0000e+00+0.j, 0.0000e+00+0.j, 0.0000e+00+0.j, 0.0000e+00+0.j]]],\n",
       "       dtype=torch.complex128)"
      ]
     },
     "execution_count": 18,
     "metadata": {},
     "output_type": "execute_result"
    }
   ],
   "source": [
    "I"
   ]
  },
  {
   "cell_type": "code",
   "execution_count": null,
   "id": "numerous-mistake",
   "metadata": {},
   "outputs": [],
   "source": []
  }
 ],
 "metadata": {
  "kernelspec": {
   "display_name": "Python 3",
   "language": "python",
   "name": "python3"
  },
  "language_info": {
   "codemirror_mode": {
    "name": "ipython",
    "version": 3
   },
   "file_extension": ".py",
   "mimetype": "text/x-python",
   "name": "python",
   "nbconvert_exporter": "python",
   "pygments_lexer": "ipython3",
   "version": "3.9.1"
  }
 },
 "nbformat": 4,
 "nbformat_minor": 5
}
