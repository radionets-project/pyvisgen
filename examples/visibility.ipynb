{
 "cells": [
  {
   "cell_type": "markdown",
   "id": "important-excess",
   "metadata": {},
   "source": [
    "# Complete Simulation Chain for Visibility Calculation"
   ]
  },
  {
   "cell_type": "markdown",
   "id": "final-genetics",
   "metadata": {},
   "source": [
    "## Read in Config"
   ]
  },
  {
   "cell_type": "code",
   "execution_count": 1,
   "id": "allied-portugal",
   "metadata": {},
   "outputs": [],
   "source": [
    "import vipy.simulation.utils as ut\n",
    "import vipy.layouts.layouts as layouts\n",
    "import astropy.constants as const\n",
    "from astropy import units as un\n",
    "import time as t\n",
    "import numpy as np"
   ]
  },
  {
   "cell_type": "code",
   "execution_count": 2,
   "id": "neutral-degree",
   "metadata": {},
   "outputs": [],
   "source": [
    "# rc = ut.read_config('/net/nfshome/home/sfroese/vipy/config/default.toml')\n",
    "rc = ut.read_config(\"../config/test.toml\")\n",
    "array_layout = layouts.get_array_layout('eht')\n",
    "\n",
    "src_crd = rc['src_coord']\n",
    "wave1 = const.c/((float(rc['channel'].split(':')[0])-float(rc['channel'].split(':')[1]))*10**6/un.second)/un.meter\n",
    "wave2 = const.c/((float(rc['channel'].split(':')[0])+float(rc['channel'].split(':')[1]))*10**6/un.second)/un.meter"
   ]
  },
  {
   "cell_type": "markdown",
   "id": "narrative-sudan",
   "metadata": {},
   "source": [
    "## Generate (l,m)-plane / FOV"
   ]
  },
  {
   "cell_type": "code",
   "execution_count": 3,
   "id": "boring-impossible",
   "metadata": {},
   "outputs": [],
   "source": [
    "import vipy.simulation.scan as scan"
   ]
  },
  {
   "cell_type": "code",
   "execution_count": 4,
   "id": "unlimited-kelly",
   "metadata": {},
   "outputs": [],
   "source": [
    "grid = scan.create_bgrid(rc['fov_size'], 256, src_crd)\n",
    "lm = scan.lm(grid, src_crd)"
   ]
  },
  {
   "cell_type": "markdown",
   "id": "valid-genome",
   "metadata": {},
   "source": [
    "## Calculate Start and Stop times for every measurement"
   ]
  },
  {
   "cell_type": "code",
   "execution_count": 5,
   "id": "handled-atlanta",
   "metadata": {},
   "outputs": [
    {
     "name": "stdout",
     "output_type": "stream",
     "text": [
      "['2016:095:00:00:00.000' '2016:095:00:00:10.000' '2016:095:00:00:20.000'\n",
      " '2016:095:00:00:30.000' '2016:095:00:00:40.000' '2016:095:00:00:50.000'\n",
      " '2016:095:00:20:00.000' '2016:095:00:20:10.000' '2016:095:00:20:20.000'\n",
      " '2016:095:00:20:30.000' '2016:095:00:20:40.000' '2016:095:00:20:50.000'\n",
      " '2016:095:00:40:00.000' '2016:095:00:40:10.000' '2016:095:00:40:20.000'\n",
      " '2016:095:00:40:30.000' '2016:095:00:40:40.000' '2016:095:00:40:50.000'\n",
      " '2016:095:01:00:00.000' '2016:095:01:00:10.000' '2016:095:01:00:20.000'\n",
      " '2016:095:01:00:30.000' '2016:095:01:00:40.000' '2016:095:01:00:50.000'\n",
      " '2016:095:01:20:00.000' '2016:095:01:20:10.000' '2016:095:01:20:20.000'\n",
      " '2016:095:01:20:30.000' '2016:095:01:20:40.000' '2016:095:01:20:50.000'\n",
      " '2016:095:01:40:00.000' '2016:095:01:40:10.000' '2016:095:01:40:20.000'\n",
      " '2016:095:01:40:30.000' '2016:095:01:40:40.000' '2016:095:01:40:50.000'\n",
      " '2016:095:02:00:00.000' '2016:095:02:00:10.000' '2016:095:02:00:20.000'\n",
      " '2016:095:02:00:30.000' '2016:095:02:00:40.000' '2016:095:02:00:50.000'\n",
      " '2016:095:02:20:00.000' '2016:095:02:20:10.000' '2016:095:02:20:20.000'\n",
      " '2016:095:02:20:30.000' '2016:095:02:20:40.000' '2016:095:02:20:50.000'\n",
      " '2016:095:02:40:00.000' '2016:095:02:40:10.000' '2016:095:02:40:20.000'\n",
      " '2016:095:02:40:30.000' '2016:095:02:40:40.000' '2016:095:02:40:50.000'\n",
      " '2016:095:03:00:00.000' '2016:095:03:00:10.000' '2016:095:03:00:20.000'\n",
      " '2016:095:03:00:30.000' '2016:095:03:00:40.000' '2016:095:03:00:50.000'\n",
      " '2016:095:03:20:00.000' '2016:095:03:20:10.000' '2016:095:03:20:20.000'\n",
      " '2016:095:03:20:30.000' '2016:095:03:20:40.000' '2016:095:03:20:50.000'\n",
      " '2016:095:03:40:00.000' '2016:095:03:40:10.000' '2016:095:03:40:20.000'\n",
      " '2016:095:03:40:30.000' '2016:095:03:40:40.000' '2016:095:03:40:50.000'\n",
      " '2016:095:04:00:00.000' '2016:095:04:00:10.000' '2016:095:04:00:20.000'\n",
      " '2016:095:04:00:30.000' '2016:095:04:00:40.000' '2016:095:04:00:50.000'\n",
      " '2016:095:04:20:00.000' '2016:095:04:20:10.000' '2016:095:04:20:20.000'\n",
      " '2016:095:04:20:30.000' '2016:095:04:20:40.000' '2016:095:04:20:50.000'\n",
      " '2016:095:04:40:00.000' '2016:095:04:40:10.000' '2016:095:04:40:20.000'\n",
      " '2016:095:04:40:30.000' '2016:095:04:40:40.000' '2016:095:04:40:50.000'\n",
      " '2016:095:05:00:00.000' '2016:095:05:00:10.000' '2016:095:05:00:20.000'\n",
      " '2016:095:05:00:30.000' '2016:095:05:00:40.000' '2016:095:05:00:50.000'\n",
      " '2016:095:05:20:00.000' '2016:095:05:20:10.000' '2016:095:05:20:20.000'\n",
      " '2016:095:05:20:30.000' '2016:095:05:20:40.000' '2016:095:05:20:50.000'\n",
      " '2016:095:05:40:00.000' '2016:095:05:40:10.000' '2016:095:05:40:20.000'\n",
      " '2016:095:05:40:30.000' '2016:095:05:40:40.000' '2016:095:05:40:50.000'\n",
      " '2016:095:06:00:00.000' '2016:095:06:00:10.000' '2016:095:06:00:20.000'\n",
      " '2016:095:06:00:30.000' '2016:095:06:00:40.000' '2016:095:06:00:50.000'\n",
      " '2016:095:06:20:00.000' '2016:095:06:20:10.000' '2016:095:06:20:20.000'\n",
      " '2016:095:06:20:30.000' '2016:095:06:20:40.000' '2016:095:06:20:50.000'\n",
      " '2016:095:06:40:00.000' '2016:095:06:40:10.000' '2016:095:06:40:20.000'\n",
      " '2016:095:06:40:30.000' '2016:095:06:40:40.000' '2016:095:06:40:50.000'\n",
      " '2016:095:07:00:00.000' '2016:095:07:00:10.000' '2016:095:07:00:20.000'\n",
      " '2016:095:07:00:30.000' '2016:095:07:00:40.000' '2016:095:07:00:50.000'\n",
      " '2016:095:07:20:00.000' '2016:095:07:20:10.000' '2016:095:07:20:20.000'\n",
      " '2016:095:07:20:30.000' '2016:095:07:20:40.000' '2016:095:07:20:50.000'\n",
      " '2016:095:07:40:00.000' '2016:095:07:40:10.000' '2016:095:07:40:20.000'\n",
      " '2016:095:07:40:30.000' '2016:095:07:40:40.000' '2016:095:07:40:50.000'\n",
      " '2016:095:08:00:00.000' '2016:095:08:00:10.000' '2016:095:08:00:20.000'\n",
      " '2016:095:08:00:30.000' '2016:095:08:00:40.000' '2016:095:08:00:50.000'\n",
      " '2016:095:08:20:00.000' '2016:095:08:20:10.000' '2016:095:08:20:20.000'\n",
      " '2016:095:08:20:30.000' '2016:095:08:20:40.000' '2016:095:08:20:50.000'\n",
      " '2016:095:08:40:00.000' '2016:095:08:40:10.000' '2016:095:08:40:20.000'\n",
      " '2016:095:08:40:30.000' '2016:095:08:40:40.000' '2016:095:08:40:50.000'\n",
      " '2016:095:09:00:00.000' '2016:095:09:00:10.000' '2016:095:09:00:20.000'\n",
      " '2016:095:09:00:30.000' '2016:095:09:00:40.000' '2016:095:09:00:50.000'\n",
      " '2016:095:09:20:00.000' '2016:095:09:20:10.000' '2016:095:09:20:20.000'\n",
      " '2016:095:09:20:30.000' '2016:095:09:20:40.000' '2016:095:09:20:50.000'\n",
      " '2016:095:09:40:00.000' '2016:095:09:40:10.000' '2016:095:09:40:20.000'\n",
      " '2016:095:09:40:30.000' '2016:095:09:40:40.000' '2016:095:09:40:50.000']\n"
     ]
    }
   ],
   "source": [
    "time = ut.calc_time_steps(rc)\n",
    "print(time)"
   ]
  },
  {
   "cell_type": "markdown",
   "id": "naval-shareware",
   "metadata": {},
   "source": [
    "## Calculate Baselines for one measurement"
   ]
  },
  {
   "cell_type": "code",
   "execution_count": 6,
   "id": "intensive-albania",
   "metadata": {},
   "outputs": [],
   "source": [
    "baselines = scan.get_baselines(src_crd, time[0:3], array_layout)"
   ]
  },
  {
   "cell_type": "code",
   "execution_count": 7,
   "id": "bacterial-pressing",
   "metadata": {},
   "outputs": [
    {
     "data": {
      "text/plain": [
       "(24,)"
      ]
     },
     "execution_count": 7,
     "metadata": {},
     "output_type": "execute_result"
    }
   ],
   "source": [
    "st1,st2 = scan.get_valid_baselines(baselines,28)\n",
    "st1.shape"
   ]
  },
  {
   "cell_type": "markdown",
   "id": "alpine-counter",
   "metadata": {},
   "source": [
    "## Calculate Mueller/Jones matrices"
   ]
  },
  {
   "cell_type": "code",
   "execution_count": 8,
   "id": "royal-victoria",
   "metadata": {},
   "outputs": [],
   "source": [
    "import numpy as np\n",
    "import torch"
   ]
  },
  {
   "cell_type": "code",
   "execution_count": 9,
   "id": "adjustable-interference",
   "metadata": {},
   "outputs": [
    {
     "name": "stdout",
     "output_type": "stream",
     "text": [
      "CPU times: user 3.04 s, sys: 888 ms, total: 3.93 s\n",
      "Wall time: 685 ms\n"
     ]
    }
   ],
   "source": [
    "%%time\n",
    "start = t.time()\n",
    "torch.set_num_threads(8)\n",
    "JJ_f1 = scan.getJones(lm, baselines, wave1, time[0:3], src_crd, array_layout)\n",
    "JJ_f2 = scan.getJones(lm, baselines, wave2, time[0:3], src_crd, array_layout)"
   ]
  },
  {
   "cell_type": "markdown",
   "id": "robust-jacksonville",
   "metadata": {},
   "source": [
    "## Open Source Image and compute Stokes vector"
   ]
  },
  {
   "cell_type": "code",
   "execution_count": 10,
   "id": "connected-affiliate",
   "metadata": {},
   "outputs": [],
   "source": [
    "from astropy.io import fits\n",
    "import matplotlib.pyplot as plt\n",
    "import torch"
   ]
  },
  {
   "cell_type": "code",
   "execution_count": 11,
   "id": "prescribed-member",
   "metadata": {},
   "outputs": [],
   "source": [
    "hdul = fits.open('celestial-03-05.fits')\n",
    "img = hdul[0].data.astype(np.float32)\n",
    "img = torch.tensor(img)\n",
    "\n",
    "I = torch.zeros((img.shape[0],img.shape[1],4), dtype=torch.cdouble)\n",
    "I[...,0] = img\n",
    "I[...,1] = img*torch.sqrt(torch.tensor(0.5))\n",
    "I[...,2] = img*torch.sqrt(torch.tensor(0.5))\n",
    "# plt.imshow((I[...,1]+I[...,2]).real)\n",
    "# plt.colorbar()"
   ]
  },
  {
   "cell_type": "markdown",
   "id": "moved-globe",
   "metadata": {},
   "source": [
    "## Integration"
   ]
  },
  {
   "cell_type": "code",
   "execution_count": 12,
   "id": "twelve-earth",
   "metadata": {},
   "outputs": [
    {
     "name": "stdout",
     "output_type": "stream",
     "text": [
      "0.0001830982550547064\n",
      "1.044583797454834\n",
      "CPU times: user 1.05 s, sys: 396 ms, total: 1.45 s\n",
      "Wall time: 189 ms\n"
     ]
    }
   ],
   "source": [
    "%%time\n",
    "delta_t = rc['corr_int_time']\n",
    "delta_f = float(rc['channel'].split(':')[1])*10**6\n",
    "delta_l = np.abs(lm[255,0,0]-lm[0,0,0])\n",
    "delta_m = np.abs(lm[0,255,0]-lm[0,0,0])\n",
    "print(delta_l)\n",
    "\n",
    "integral = scan.integrate(JJ_f1, JJ_f2, I, 2, delta_t, delta_f, delta_l, delta_m)\n",
    "integral.shape\n",
    "end = t.time()\n",
    "print(end - start)"
   ]
  },
  {
   "cell_type": "code",
   "execution_count": 13,
   "id": "infinite-working",
   "metadata": {},
   "outputs": [
    {
     "data": {
      "text/plain": [
       "torch.Size([12, 4])"
      ]
     },
     "execution_count": 13,
     "metadata": {},
     "output_type": "execute_result"
    }
   ],
   "source": [
    "integral.shape"
   ]
  },
  {
   "cell_type": "code",
   "execution_count": 14,
   "id": "increasing-stomach",
   "metadata": {},
   "outputs": [
    {
     "data": {
      "text/plain": [
       "tensor([[ 1.5361e-04+1.9068e-04j,  1.1414e-04+1.4162e-04j,\n",
       "          7.3597e-05+9.1274e-05j,  5.4686e-05+6.7790e-05j],\n",
       "        [-2.8102e-05-3.3827e-05j, -5.9045e-06-7.1092e-06j,\n",
       "         -2.1364e-04-2.5706e-04j, -4.4891e-05-5.4023e-05j],\n",
       "        [-2.5165e-04-3.9236e-05j, -1.8750e-04-2.9215e-05j,\n",
       "         -1.9086e-03-2.9781e-04j, -1.4220e-03-2.2175e-04j],\n",
       "        [-4.0103e-05-3.6748e-05j, -1.9255e-05-1.7631e-05j,\n",
       "         -3.0474e-04-2.7937e-04j, -1.4632e-04-1.3404e-04j],\n",
       "        [ 8.5381e-04+1.6212e-03j,  1.7994e-04+3.4074e-04j,\n",
       "          6.3850e-04+1.2062e-03j,  1.3456e-04+2.5352e-04j],\n",
       "        [-5.4484e-04-4.4131e-04j, -1.1451e-04-9.2606e-05j,\n",
       "         -2.6166e-04-2.1069e-04j, -5.4996e-05-4.4211e-05j],\n",
       "        [ 5.9552e-04-4.8154e-04j,  4.4461e-04-3.5925e-04j,\n",
       "          2.8795e-04-2.3250e-04j,  2.1498e-04-1.7346e-04j],\n",
       "        [-4.0878e-05+8.8357e-05j, -8.6068e-06+1.8604e-05j,\n",
       "         -3.0934e-04+6.6865e-04j, -6.5133e-05+1.4079e-04j],\n",
       "        [-2.7928e-04+5.8789e-07j, -2.0811e-04+4.7479e-07j,\n",
       "         -2.1179e-03+4.0212e-06j, -1.5782e-03+3.2740e-06j],\n",
       "        [ 6.4062e-06+3.1155e-05j,  3.1058e-06+1.5054e-05j,\n",
       "          4.8391e-05+2.3583e-04j,  2.3462e-05+1.1395e-04j],\n",
       "        [ 6.7251e-04-6.9413e-04j,  1.4107e-04-1.4622e-04j,\n",
       "          4.9845e-04-5.1865e-04j,  1.0455e-04-1.0926e-04j],\n",
       "        [ 1.5503e-03-5.0872e-04j,  3.2644e-04-1.0724e-04j,\n",
       "          7.4950e-04-2.4697e-04j,  1.5781e-04-5.2061e-05j]],\n",
       "       dtype=torch.complex128)"
      ]
     },
     "execution_count": 14,
     "metadata": {},
     "output_type": "execute_result"
    }
   ],
   "source": [
    "integral"
   ]
  },
  {
   "cell_type": "markdown",
   "id": "loose-footage",
   "metadata": {},
   "source": [
    "## All scan loop"
   ]
  },
  {
   "cell_type": "code",
   "execution_count": 15,
   "id": "italic-proportion",
   "metadata": {},
   "outputs": [],
   "source": [
    "from tqdm import tqdm"
   ]
  },
  {
   "cell_type": "code",
   "execution_count": 16,
   "id": "steady-amplifier",
   "metadata": {},
   "outputs": [],
   "source": [
    "torch.set_num_threads(12)"
   ]
  },
  {
   "cell_type": "code",
   "execution_count": 17,
   "id": "italic-abortion",
   "metadata": {},
   "outputs": [],
   "source": [
    "from dataclasses import dataclass\n",
    "# stokes, IFs?\n",
    "\n",
    "@dataclass\n",
    "class Visibilities:\n",
    "    I: [complex]\n",
    "    Q: [complex]\n",
    "    U: [complex]\n",
    "    V: [complex]\n",
    "    num: [int]\n",
    "    scan: [int]\n",
    "    base_num: [int]\n",
    "    u: [float]\n",
    "    v: [float]\n",
    "    w: [float]\n",
    "    date: [float]\n",
    "    _date: [float]\n",
    "\n",
    "    def __getitem__(self, i):\n",
    "        baseline = Vis(\n",
    "            self.I[i],\n",
    "            self.Q[i],\n",
    "            self.U[i],\n",
    "            self.V[i],\n",
    "            self.num[i],\n",
    "            self.scan[i],\n",
    "            self.base_num[i],\n",
    "            self.u[i],\n",
    "            self.v[i],\n",
    "            self.w[i],\n",
    "            self.date[i],\n",
    "            self._date[i],\n",
    "        )\n",
    "        return baseline\n",
    "\n",
    "    def get_values(self):\n",
    "        return np.array([self.I, self.Q, self.U, self.V])\n",
    "    \n",
    "    def add(self, visibilities):\n",
    "        self.I = np.concatenate([self.I, visibilities.I])\n",
    "        self.Q = np.concatenate([self.Q, visibilities.Q])\n",
    "        self.U = np.concatenate([self.U, visibilities.U])\n",
    "        self.V = np.concatenate([self.V, visibilities.V])\n",
    "        self.num = np.concatenate([self.num, visibilities.num])\n",
    "        self.scan = np.concatenate([self.scan, visibilities.scan])\n",
    "        self.base_num = np.concatenate([self.base_num, visibilities.base_num])\n",
    "        self.u = np.concatenate([self.u, visibilities.u])\n",
    "        self.v = np.concatenate([self.v, visibilities.v])\n",
    "        self.w = np.concatenate([self.w, visibilities.w])\n",
    "        self.date = np.concatenate([self.date, visibilities.date])\n",
    "        self._date = np.concatenate([self._date, visibilities._date])\n",
    "        \n",
    "\n",
    "@dataclass\n",
    "class Vis:\n",
    "    I: complex\n",
    "    Q: complex\n",
    "    U: complex\n",
    "    V: complex\n",
    "    num: int\n",
    "    scan: int\n",
    "    base_num: int\n",
    "    u: float\n",
    "    v: float\n",
    "    w: float\n",
    "    date: float\n",
    "    _date: float"
   ]
  },
  {
   "cell_type": "code",
   "execution_count": 18,
   "id": "serial-connectivity",
   "metadata": {},
   "outputs": [],
   "source": [
    "hdul = fits.open('celestial-03-05.fits')\n",
    "img = hdul[0].data.astype(np.float32)\n",
    "img = torch.tensor(img)\n",
    "\n",
    "I = torch.zeros((img.shape[0],img.shape[1],4), dtype=torch.cdouble)\n",
    "I[...,0] = img\n",
    "I[...,1] = img*torch.sqrt(torch.tensor(0.5))\n",
    "I[...,2] = img*torch.sqrt(torch.tensor(0.5))"
   ]
  },
  {
   "cell_type": "code",
   "execution_count": 19,
   "id": "moderate-jacob",
   "metadata": {},
   "outputs": [
    {
     "name": "stderr",
     "output_type": "stream",
     "text": [
      "\r",
      "  0%|          | 0/30 [00:00<?, ?it/s]"
     ]
    },
    {
     "name": "stdout",
     "output_type": "stream",
     "text": [
      "(12,)\n"
     ]
    },
    {
     "name": "stderr",
     "output_type": "stream",
     "text": [
      "\r",
      "  3%|▎         | 1/30 [00:00<00:24,  1.19it/s]"
     ]
    },
    {
     "name": "stdout",
     "output_type": "stream",
     "text": [
      "(12,)\n"
     ]
    },
    {
     "name": "stderr",
     "output_type": "stream",
     "text": [
      "\r",
      "  7%|▋         | 2/30 [00:01<00:23,  1.20it/s]"
     ]
    },
    {
     "name": "stdout",
     "output_type": "stream",
     "text": [
      "(12,)\n"
     ]
    },
    {
     "name": "stderr",
     "output_type": "stream",
     "text": [
      "\r",
      " 10%|█         | 3/30 [00:02<00:22,  1.20it/s]"
     ]
    },
    {
     "name": "stdout",
     "output_type": "stream",
     "text": [
      "(12,)\n"
     ]
    },
    {
     "name": "stderr",
     "output_type": "stream",
     "text": [
      "\r",
      " 13%|█▎        | 4/30 [00:03<00:21,  1.20it/s]"
     ]
    },
    {
     "name": "stdout",
     "output_type": "stream",
     "text": [
      "(12,)\n"
     ]
    },
    {
     "name": "stderr",
     "output_type": "stream",
     "text": [
      "\r",
      " 17%|█▋        | 5/30 [00:04<00:20,  1.20it/s]"
     ]
    },
    {
     "name": "stdout",
     "output_type": "stream",
     "text": [
      "(12,)\n"
     ]
    },
    {
     "name": "stderr",
     "output_type": "stream",
     "text": [
      "\r",
      " 20%|██        | 6/30 [00:04<00:19,  1.20it/s]"
     ]
    },
    {
     "name": "stdout",
     "output_type": "stream",
     "text": [
      "(20,)\n"
     ]
    },
    {
     "name": "stderr",
     "output_type": "stream",
     "text": [
      "\r",
      " 23%|██▎       | 7/30 [00:06<00:22,  1.02it/s]"
     ]
    },
    {
     "name": "stdout",
     "output_type": "stream",
     "text": [
      "(20,)\n"
     ]
    },
    {
     "name": "stderr",
     "output_type": "stream",
     "text": [
      "\r",
      " 27%|██▋       | 8/30 [00:07<00:23,  1.09s/it]"
     ]
    },
    {
     "name": "stdout",
     "output_type": "stream",
     "text": [
      "(20,)\n"
     ]
    },
    {
     "name": "stderr",
     "output_type": "stream",
     "text": [
      "\r",
      " 30%|███       | 9/30 [00:08<00:24,  1.15s/it]"
     ]
    },
    {
     "name": "stdout",
     "output_type": "stream",
     "text": [
      "(20,)\n"
     ]
    },
    {
     "name": "stderr",
     "output_type": "stream",
     "text": [
      "\r",
      " 33%|███▎      | 10/30 [00:10<00:24,  1.20s/it]"
     ]
    },
    {
     "name": "stdout",
     "output_type": "stream",
     "text": [
      "(20,)\n"
     ]
    },
    {
     "name": "stderr",
     "output_type": "stream",
     "text": [
      "\r",
      " 37%|███▋      | 11/30 [00:11<00:23,  1.23s/it]"
     ]
    },
    {
     "name": "stdout",
     "output_type": "stream",
     "text": [
      "(30,)\n"
     ]
    },
    {
     "name": "stderr",
     "output_type": "stream",
     "text": [
      "\r",
      " 40%|████      | 12/30 [00:13<00:25,  1.43s/it]"
     ]
    },
    {
     "name": "stdout",
     "output_type": "stream",
     "text": [
      "(30,)\n"
     ]
    },
    {
     "name": "stderr",
     "output_type": "stream",
     "text": [
      "\r",
      " 43%|████▎     | 13/30 [00:15<00:26,  1.57s/it]"
     ]
    },
    {
     "name": "stdout",
     "output_type": "stream",
     "text": [
      "(30,)\n"
     ]
    },
    {
     "name": "stderr",
     "output_type": "stream",
     "text": [
      "\r",
      " 47%|████▋     | 14/30 [00:17<00:26,  1.66s/it]"
     ]
    },
    {
     "name": "stdout",
     "output_type": "stream",
     "text": [
      "(30,)\n"
     ]
    },
    {
     "name": "stderr",
     "output_type": "stream",
     "text": [
      "\r",
      " 50%|█████     | 15/30 [00:19<00:25,  1.73s/it]"
     ]
    },
    {
     "name": "stdout",
     "output_type": "stream",
     "text": [
      "(30,)\n"
     ]
    },
    {
     "name": "stderr",
     "output_type": "stream",
     "text": [
      "\r",
      " 53%|█████▎    | 16/30 [00:20<00:24,  1.78s/it]"
     ]
    },
    {
     "name": "stdout",
     "output_type": "stream",
     "text": [
      "(30,)\n"
     ]
    },
    {
     "name": "stderr",
     "output_type": "stream",
     "text": [
      "\r",
      " 57%|█████▋    | 17/30 [00:22<00:23,  1.80s/it]"
     ]
    },
    {
     "name": "stdout",
     "output_type": "stream",
     "text": [
      "(30,)\n"
     ]
    },
    {
     "name": "stderr",
     "output_type": "stream",
     "text": [
      "\r",
      " 60%|██████    | 18/30 [00:24<00:22,  1.83s/it]"
     ]
    },
    {
     "name": "stdout",
     "output_type": "stream",
     "text": [
      "(30,)\n"
     ]
    },
    {
     "name": "stderr",
     "output_type": "stream",
     "text": [
      "\r",
      " 63%|██████▎   | 19/30 [00:26<00:20,  1.85s/it]"
     ]
    },
    {
     "name": "stdout",
     "output_type": "stream",
     "text": [
      "(30,)\n"
     ]
    },
    {
     "name": "stderr",
     "output_type": "stream",
     "text": [
      "\r",
      " 67%|██████▋   | 20/30 [00:28<00:18,  1.86s/it]"
     ]
    },
    {
     "name": "stdout",
     "output_type": "stream",
     "text": [
      "(30,)\n"
     ]
    },
    {
     "name": "stderr",
     "output_type": "stream",
     "text": [
      "\r",
      " 70%|███████   | 21/30 [00:30<00:16,  1.86s/it]"
     ]
    },
    {
     "name": "stdout",
     "output_type": "stream",
     "text": [
      "(30,)\n"
     ]
    },
    {
     "name": "stderr",
     "output_type": "stream",
     "text": [
      "\r",
      " 73%|███████▎  | 22/30 [00:32<00:14,  1.87s/it]"
     ]
    },
    {
     "name": "stdout",
     "output_type": "stream",
     "text": [
      "(30,)\n"
     ]
    },
    {
     "name": "stderr",
     "output_type": "stream",
     "text": [
      "\r",
      " 77%|███████▋  | 23/30 [00:34<00:13,  1.87s/it]"
     ]
    },
    {
     "name": "stdout",
     "output_type": "stream",
     "text": [
      "(30,)\n"
     ]
    },
    {
     "name": "stderr",
     "output_type": "stream",
     "text": [
      "\r",
      " 80%|████████  | 24/30 [00:35<00:11,  1.87s/it]"
     ]
    },
    {
     "name": "stdout",
     "output_type": "stream",
     "text": [
      "(30,)\n"
     ]
    },
    {
     "name": "stderr",
     "output_type": "stream",
     "text": [
      "\r",
      " 83%|████████▎ | 25/30 [00:37<00:09,  1.87s/it]"
     ]
    },
    {
     "name": "stdout",
     "output_type": "stream",
     "text": [
      "(30,)\n"
     ]
    },
    {
     "name": "stderr",
     "output_type": "stream",
     "text": [
      "\r",
      " 87%|████████▋ | 26/30 [00:39<00:07,  1.87s/it]"
     ]
    },
    {
     "name": "stdout",
     "output_type": "stream",
     "text": [
      "(30,)\n"
     ]
    },
    {
     "name": "stderr",
     "output_type": "stream",
     "text": [
      "\r",
      " 90%|█████████ | 27/30 [00:41<00:05,  1.88s/it]"
     ]
    },
    {
     "name": "stdout",
     "output_type": "stream",
     "text": [
      "(30,)\n"
     ]
    },
    {
     "name": "stderr",
     "output_type": "stream",
     "text": [
      "\r",
      " 93%|█████████▎| 28/30 [00:43<00:03,  1.88s/it]"
     ]
    },
    {
     "name": "stdout",
     "output_type": "stream",
     "text": [
      "(25,)\n"
     ]
    },
    {
     "name": "stderr",
     "output_type": "stream",
     "text": [
      "\r",
      " 97%|█████████▋| 29/30 [00:45<00:01,  1.79s/it]"
     ]
    },
    {
     "name": "stdout",
     "output_type": "stream",
     "text": [
      "(20,)\n"
     ]
    },
    {
     "name": "stderr",
     "output_type": "stream",
     "text": [
      "100%|██████████| 30/30 [00:46<00:00,  1.55s/it]\n"
     ]
    }
   ],
   "source": [
    "from vipy.simulation.scan import get_valid_baselines\n",
    "visibilities = Visibilities([], [], [], [], [], [], [], [], [], [], [], [])\n",
    "vis_num = np.zeros(1)\n",
    "#i in total number of scans\n",
    "for i in tqdm(range(30)):\n",
    "    t = time[i*3:(i+1)*3]\n",
    "    baselines = scan.get_baselines(src_crd, t, array_layout)\n",
    "    \n",
    "    valid = baselines.valid.reshape(-1, 28)\n",
    "    mask = np.array(valid[:-1]).astype(bool) & np.array(valid[1:]).astype(bool)\n",
    "    u = baselines.u.reshape(-1, 28)\n",
    "    v = baselines.v.reshape(-1, 28)\n",
    "    w = baselines.w.reshape(-1, 28)\n",
    "    u_valid = u[:-1][mask]\n",
    "    v_valid = v[:-1][mask]\n",
    "    w_valid = w[:-1][mask]\n",
    "    date = np.repeat(t[:-1].mjd.reshape(-1, 1), 28, axis=1)[mask]\n",
    "    _date = np.zeros(len(u_valid))\n",
    "    print(_date.shape)\n",
    "    \n",
    "    \n",
    "    JJ_f1 = scan.getJones(lm, baselines, wave1, time, src_crd, array_layout)\n",
    "    if JJ_f1.shape[0] == 1:\n",
    "        continue\n",
    "    JJ_f2 = scan.getJones(lm, baselines, wave2, time, src_crd, array_layout)\n",
    "\n",
    "    delta_t = rc['corr_int_time']\n",
    "    delta_f = float(rc['channel'].split(':')[1])*10**6\n",
    "    delta_l = np.abs(lm[255,0,0]-lm[0,0,0])\n",
    "    delta_m = np.abs(lm[0,255,0]-lm[0,0,0])\n",
    "    \n",
    "    vis_num = np.arange(JJ_f1.shape[2]//2) + 1 + vis_num.max()\n",
    "    \n",
    "    int_values = scan.integrate(JJ_f1, JJ_f2, I, 2, delta_t, delta_f, delta_l, delta_m)\n",
    "    \n",
    "    vis = Visibilities(\n",
    "        int_values[:, 0],\n",
    "        int_values[:, 1],\n",
    "        int_values[:, 2],\n",
    "        int_values[:, 3],\n",
    "        vis_num,\n",
    "        np.repeat(i+1, len(vis_num)),\n",
    "        np.array([baselines[i].baselineNum() for i in range(len(vis_num))]),\n",
    "        u_valid,\n",
    "        v_valid,\n",
    "        w_valid,\n",
    "        date,\n",
    "        _date,      \n",
    "    )\n",
    "    \n",
    "    visibilities.add(vis)"
   ]
  },
  {
   "cell_type": "code",
   "execution_count": null,
   "id": "departmental-saturday",
   "metadata": {},
   "outputs": [],
   "source": []
  },
  {
   "cell_type": "code",
   "execution_count": 27,
   "id": "governing-teach",
   "metadata": {},
   "outputs": [],
   "source": [
    "from vipy.fits.writer import create_hdu_list\n",
    "from vipy.simulation.utils import read_config"
   ]
  },
  {
   "cell_type": "code",
   "execution_count": 28,
   "id": "abstract-battlefield",
   "metadata": {},
   "outputs": [
    {
     "data": {
      "text/plain": [
       "{'src_coord': <SkyCoord (ICRS): (ra, dec) in deg\n",
       "     (187.70593076, 12.39112324)>,\n",
       " 'fov_size': 0.00018382,\n",
       " 'corr_int_time': 10.0,\n",
       " 'scan_start': '2016:95:00:00:00',\n",
       " 'scan_duration': 300,\n",
       " 'scans': 72,\n",
       " 'channel': '227297:4096',\n",
       " 'interval_length': 1200}"
      ]
     },
     "execution_count": 28,
     "metadata": {},
     "output_type": "execute_result"
    }
   ],
   "source": [
    "conf = read_config(\"../config/default.toml\")\n",
    "conf"
   ]
  },
  {
   "cell_type": "code",
   "execution_count": 29,
   "id": "stylish-console",
   "metadata": {},
   "outputs": [
    {
     "name": "stderr",
     "output_type": "stream",
     "text": [
      "/home/kschmidt_local/.local/anaconda3/envs/vipy/lib/python3.9/site-packages/astropy/io/fits/fitsrec.py:699: UserWarning: Field 2 has a repeat count of 0 in its format code, indicating an empty field.\n",
      "  warnings.warn(\n"
     ]
    }
   ],
   "source": [
    "hdu_list = create_hdu_list(visibilities, conf)"
   ]
  },
  {
   "cell_type": "code",
   "execution_count": 31,
   "id": "chinese-footage",
   "metadata": {},
   "outputs": [],
   "source": [
    "hdu_list.writeto(\"test0.fits\", overwrite=True)"
   ]
  },
  {
   "cell_type": "code",
   "execution_count": null,
   "id": "sophisticated-boulder",
   "metadata": {},
   "outputs": [],
   "source": []
  }
 ],
 "metadata": {
  "kernelspec": {
   "display_name": "Python 3",
   "language": "python",
   "name": "python3"
  },
  "language_info": {
   "codemirror_mode": {
    "name": "ipython",
    "version": 3
   },
   "file_extension": ".py",
   "mimetype": "text/x-python",
   "name": "python",
   "nbconvert_exporter": "python",
   "pygments_lexer": "ipython3",
   "version": "3.9.1"
  }
 },
 "nbformat": 4,
 "nbformat_minor": 5
}
