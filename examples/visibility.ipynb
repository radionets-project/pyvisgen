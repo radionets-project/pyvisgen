{
 "cells": [
  {
   "cell_type": "markdown",
   "id": "important-excess",
   "metadata": {},
   "source": [
    "# Complete Simulation Chain for Visibility Calculation"
   ]
  },
  {
   "cell_type": "markdown",
   "id": "final-genetics",
   "metadata": {},
   "source": [
    "## Read in Config"
   ]
  },
  {
   "cell_type": "code",
   "execution_count": 1,
   "id": "allied-portugal",
   "metadata": {},
   "outputs": [],
   "source": [
    "import vipy.simulation.utils as ut\n",
    "import vipy.layouts.layouts as layouts\n",
    "import astropy.constants as const\n",
    "from astropy import units as un\n",
    "import time as t\n",
    "import numpy as np"
   ]
  },
  {
   "cell_type": "code",
   "execution_count": 2,
   "id": "neutral-degree",
   "metadata": {},
   "outputs": [],
   "source": [
    "# rc = ut.read_config('/net/nfshome/home/sfroese/vipy/config/default.toml')\n",
    "rc = ut.read_config(\"../config/test.toml\")\n",
    "array_layout = layouts.get_array_layout('eht')\n",
    "\n",
    "src_crd = rc['src_coord']\n",
    "wave1 = const.c/((float(rc['channel'].split(':')[0])-float(rc['channel'].split(':')[1]))*10**6/un.second)/un.meter\n",
    "wave2 = const.c/((float(rc['channel'].split(':')[0])+float(rc['channel'].split(':')[1]))*10**6/un.second)/un.meter"
   ]
  },
  {
   "cell_type": "markdown",
   "id": "narrative-sudan",
   "metadata": {},
   "source": [
    "## Generate (l,m)-plane / FOV"
   ]
  },
  {
   "cell_type": "code",
   "execution_count": 3,
   "id": "boring-impossible",
   "metadata": {},
   "outputs": [],
   "source": [
    "import vipy.simulation.scan as scan"
   ]
  },
  {
   "cell_type": "code",
   "execution_count": 4,
   "id": "unlimited-kelly",
   "metadata": {},
   "outputs": [],
   "source": [
    "grid = scan.create_bgrid(rc['fov_size'], 256, src_crd)\n",
    "lm = scan.lm(grid, src_crd)"
   ]
  },
  {
   "cell_type": "markdown",
   "id": "valid-genome",
   "metadata": {},
   "source": [
    "## Calculate Start and Stop times for every measurement"
   ]
  },
  {
   "cell_type": "code",
   "execution_count": 5,
   "id": "handled-atlanta",
   "metadata": {},
   "outputs": [
    {
     "name": "stdout",
     "output_type": "stream",
     "text": [
      "['2016:095:00:00:00.000' '2016:095:00:00:10.000' '2016:095:00:00:20.000'\n",
      " '2016:095:00:20:00.000' '2016:095:00:20:10.000' '2016:095:00:20:20.000'\n",
      " '2016:095:00:40:00.000' '2016:095:00:40:10.000' '2016:095:00:40:20.000'\n",
      " '2016:095:01:00:00.000' '2016:095:01:00:10.000' '2016:095:01:00:20.000'\n",
      " '2016:095:01:20:00.000' '2016:095:01:20:10.000' '2016:095:01:20:20.000']\n"
     ]
    }
   ],
   "source": [
    "time = ut.calc_time_steps(rc)\n",
    "print(time)"
   ]
  },
  {
   "cell_type": "markdown",
   "id": "naval-shareware",
   "metadata": {},
   "source": [
    "## Calculate Baselines for one measurement"
   ]
  },
  {
   "cell_type": "code",
   "execution_count": 6,
   "id": "intensive-albania",
   "metadata": {},
   "outputs": [],
   "source": [
    "baselines = scan.get_baselines(src_crd, time[0:3], array_layout)"
   ]
  },
  {
   "cell_type": "code",
   "execution_count": 7,
   "id": "bacterial-pressing",
   "metadata": {},
   "outputs": [
    {
     "data": {
      "text/plain": [
       "(24,)"
      ]
     },
     "execution_count": 7,
     "metadata": {},
     "output_type": "execute_result"
    }
   ],
   "source": [
    "st1,st2 = scan.get_valid_baselines(baselines,28)\n",
    "st1.shape"
   ]
  },
  {
   "cell_type": "markdown",
   "id": "alpine-counter",
   "metadata": {},
   "source": [
    "## Calculate Mueller/Jones matrices"
   ]
  },
  {
   "cell_type": "code",
   "execution_count": 8,
   "id": "royal-victoria",
   "metadata": {},
   "outputs": [],
   "source": [
    "import numpy as np\n",
    "import torch"
   ]
  },
  {
   "cell_type": "code",
   "execution_count": 9,
   "id": "adjustable-interference",
   "metadata": {},
   "outputs": [
    {
     "name": "stdout",
     "output_type": "stream",
     "text": [
      "CPU times: user 3.2 s, sys: 800 ms, total: 4 s\n",
      "Wall time: 709 ms\n"
     ]
    }
   ],
   "source": [
    "%%time\n",
    "start = t.time()\n",
    "torch.set_num_threads(8)\n",
    "JJ_f1 = scan.getJones(lm, baselines, wave1, time[0:3], src_crd, array_layout)\n",
    "JJ_f2 = scan.getJones(lm, baselines, wave2, time[0:3], src_crd, array_layout)"
   ]
  },
  {
   "cell_type": "markdown",
   "id": "robust-jacksonville",
   "metadata": {},
   "source": [
    "## Open Source Image and compute Stokes vector"
   ]
  },
  {
   "cell_type": "code",
   "execution_count": 10,
   "id": "connected-affiliate",
   "metadata": {},
   "outputs": [],
   "source": [
    "from astropy.io import fits\n",
    "import matplotlib.pyplot as plt\n",
    "import torch"
   ]
  },
  {
   "cell_type": "code",
   "execution_count": 11,
   "id": "prescribed-member",
   "metadata": {},
   "outputs": [],
   "source": [
    "hdul = fits.open('celestial-03-05.fits')\n",
    "img = hdul[0].data.astype(np.float32)\n",
    "img = torch.tensor(img)\n",
    "\n",
    "I = torch.zeros((img.shape[0],img.shape[1],4), dtype=torch.cdouble)\n",
    "I[...,0] = img\n",
    "I[...,1] = img*torch.sqrt(torch.tensor(0.5))\n",
    "I[...,2] = img*torch.sqrt(torch.tensor(0.5))\n",
    "# plt.imshow((I[...,1]+I[...,2]).real)\n",
    "# plt.colorbar()"
   ]
  },
  {
   "cell_type": "markdown",
   "id": "moved-globe",
   "metadata": {},
   "source": [
    "## Integration"
   ]
  },
  {
   "cell_type": "code",
   "execution_count": 12,
   "id": "twelve-earth",
   "metadata": {},
   "outputs": [
    {
     "name": "stdout",
     "output_type": "stream",
     "text": [
      "0.0001830982550547064\n",
      "1.0762908458709717\n",
      "CPU times: user 1.06 s, sys: 415 ms, total: 1.48 s\n",
      "Wall time: 192 ms\n"
     ]
    }
   ],
   "source": [
    "%%time\n",
    "delta_t = rc['corr_int_time']\n",
    "delta_f = float(rc['channel'].split(':')[1])*10**6\n",
    "delta_l = np.abs(lm[255,0,0]-lm[0,0,0])\n",
    "delta_m = np.abs(lm[0,255,0]-lm[0,0,0])\n",
    "print(delta_l)\n",
    "\n",
    "integral = scan.integrate(JJ_f1, JJ_f2, I, 2, delta_t, delta_f, delta_l, delta_m)\n",
    "integral.shape\n",
    "end = t.time()\n",
    "print(end - start)"
   ]
  },
  {
   "cell_type": "code",
   "execution_count": 13,
   "id": "infinite-working",
   "metadata": {},
   "outputs": [
    {
     "data": {
      "text/plain": [
       "torch.Size([12, 4])"
      ]
     },
     "execution_count": 13,
     "metadata": {},
     "output_type": "execute_result"
    }
   ],
   "source": [
    "integral.shape"
   ]
  },
  {
   "cell_type": "code",
   "execution_count": 14,
   "id": "increasing-stomach",
   "metadata": {},
   "outputs": [
    {
     "data": {
      "text/plain": [
       "tensor([[ 1.5361e-04+1.9068e-04j,  1.1414e-04+1.4162e-04j,\n",
       "          7.3597e-05+9.1274e-05j,  5.4686e-05+6.7790e-05j],\n",
       "        [-2.8102e-05-3.3827e-05j, -5.9045e-06-7.1092e-06j,\n",
       "         -2.1364e-04-2.5706e-04j, -4.4891e-05-5.4023e-05j],\n",
       "        [-2.5165e-04-3.9236e-05j, -1.8750e-04-2.9215e-05j,\n",
       "         -1.9086e-03-2.9781e-04j, -1.4220e-03-2.2175e-04j],\n",
       "        [-4.0103e-05-3.6748e-05j, -1.9255e-05-1.7631e-05j,\n",
       "         -3.0474e-04-2.7937e-04j, -1.4632e-04-1.3404e-04j],\n",
       "        [ 8.5381e-04+1.6212e-03j,  1.7994e-04+3.4074e-04j,\n",
       "          6.3850e-04+1.2062e-03j,  1.3456e-04+2.5352e-04j],\n",
       "        [-5.4484e-04-4.4131e-04j, -1.1451e-04-9.2606e-05j,\n",
       "         -2.6166e-04-2.1069e-04j, -5.4996e-05-4.4211e-05j],\n",
       "        [ 5.9552e-04-4.8154e-04j,  4.4461e-04-3.5925e-04j,\n",
       "          2.8795e-04-2.3250e-04j,  2.1498e-04-1.7346e-04j],\n",
       "        [-4.0878e-05+8.8357e-05j, -8.6068e-06+1.8604e-05j,\n",
       "         -3.0934e-04+6.6865e-04j, -6.5133e-05+1.4079e-04j],\n",
       "        [-2.7928e-04+5.8789e-07j, -2.0811e-04+4.7479e-07j,\n",
       "         -2.1179e-03+4.0212e-06j, -1.5782e-03+3.2740e-06j],\n",
       "        [ 6.4062e-06+3.1155e-05j,  3.1058e-06+1.5054e-05j,\n",
       "          4.8391e-05+2.3583e-04j,  2.3462e-05+1.1395e-04j],\n",
       "        [ 6.7251e-04-6.9413e-04j,  1.4107e-04-1.4622e-04j,\n",
       "          4.9845e-04-5.1865e-04j,  1.0455e-04-1.0926e-04j],\n",
       "        [ 1.5503e-03-5.0872e-04j,  3.2644e-04-1.0724e-04j,\n",
       "          7.4950e-04-2.4697e-04j,  1.5781e-04-5.2061e-05j]],\n",
       "       dtype=torch.complex128)"
      ]
     },
     "execution_count": 14,
     "metadata": {},
     "output_type": "execute_result"
    }
   ],
   "source": [
    "integral"
   ]
  },
  {
   "cell_type": "markdown",
   "id": "loose-footage",
   "metadata": {},
   "source": [
    "## All scan loop"
   ]
  },
  {
   "cell_type": "code",
   "execution_count": 15,
   "id": "italic-proportion",
   "metadata": {},
   "outputs": [],
   "source": [
    "from tqdm import tqdm"
   ]
  },
  {
   "cell_type": "code",
   "execution_count": 16,
   "id": "steady-amplifier",
   "metadata": {},
   "outputs": [],
   "source": [
    "torch.set_num_threads(12)"
   ]
  },
  {
   "cell_type": "code",
   "execution_count": 17,
   "id": "serial-connectivity",
   "metadata": {},
   "outputs": [],
   "source": [
    "hdul = fits.open('celestial-03-05.fits')\n",
    "img = hdul[0].data.astype(np.float32)\n",
    "img = torch.tensor(img)\n",
    "\n",
    "I = torch.zeros((img.shape[0],img.shape[1],4), dtype=torch.cdouble)\n",
    "I[...,0] = img\n",
    "I[...,1] = img*torch.sqrt(torch.tensor(0.5))\n",
    "I[...,2] = img*torch.sqrt(torch.tensor(0.5))"
   ]
  },
  {
   "cell_type": "code",
   "execution_count": 41,
   "id": "moderate-jacob",
   "metadata": {},
   "outputs": [
    {
     "name": "stderr",
     "output_type": "stream",
     "text": [
      "\r",
      "  0%|          | 0/5 [00:00<?, ?it/s]"
     ]
    },
    {
     "name": "stdout",
     "output_type": "stream",
     "text": [
      "['2016:095:00:00:00.000' '2016:095:00:00:10.000' '2016:095:00:00:20.000']\n",
      "torch.Size([256, 256, 24, 4, 4])\n"
     ]
    },
    {
     "name": "stderr",
     "output_type": "stream",
     "text": [
      "\r",
      " 20%|██        | 1/5 [00:01<00:04,  1.03s/it]"
     ]
    },
    {
     "name": "stdout",
     "output_type": "stream",
     "text": [
      "torch.Size([12, 4])\n",
      "['2016:095:00:00:20.000' '2016:095:00:20:00.000' '2016:095:00:20:10.000']\n",
      "torch.Size([256, 256, 24, 4, 4])\n"
     ]
    },
    {
     "name": "stderr",
     "output_type": "stream",
     "text": [
      "\r",
      " 40%|████      | 2/5 [00:02<00:03,  1.01s/it]"
     ]
    },
    {
     "name": "stdout",
     "output_type": "stream",
     "text": [
      "torch.Size([12, 4])\n",
      "['2016:095:00:20:10.000' '2016:095:00:20:20.000' '2016:095:00:40:00.000']\n",
      "torch.Size([256, 256, 24, 4, 4])\n"
     ]
    },
    {
     "name": "stderr",
     "output_type": "stream",
     "text": [
      "\r",
      " 60%|██████    | 3/5 [00:03<00:02,  1.01s/it]"
     ]
    },
    {
     "name": "stdout",
     "output_type": "stream",
     "text": [
      "torch.Size([12, 4])\n",
      "['2016:095:00:40:00.000' '2016:095:00:40:10.000' '2016:095:00:40:20.000']\n",
      "torch.Size([256, 256, 24, 4, 4])\n"
     ]
    },
    {
     "name": "stderr",
     "output_type": "stream",
     "text": [
      "\r",
      " 80%|████████  | 4/5 [00:04<00:01,  1.02s/it]"
     ]
    },
    {
     "name": "stdout",
     "output_type": "stream",
     "text": [
      "torch.Size([12, 4])\n",
      "['2016:095:00:40:20.000' '2016:095:01:00:00.000' '2016:095:01:00:10.000']\n",
      "torch.Size([256, 256, 32, 4, 4])\n"
     ]
    },
    {
     "name": "stderr",
     "output_type": "stream",
     "text": [
      "100%|██████████| 5/5 [00:05<00:00,  1.08s/it]"
     ]
    },
    {
     "name": "stdout",
     "output_type": "stream",
     "text": [
      "torch.Size([16, 4])\n"
     ]
    },
    {
     "name": "stderr",
     "output_type": "stream",
     "text": [
      "\n"
     ]
    }
   ],
   "source": [
    "integral2 = np.array([])\n",
    "#i in total number of scans\n",
    "for i in tqdm(range(5)):\n",
    "    t = time[i*2:(i+1)*2+1]\n",
    "    print(t)\n",
    "    baselines = scan.get_baselines(src_crd, t, array_layout)\n",
    "    \n",
    "    JJ_f1 = scan.getJones(lm, baselines, wave1, time, src_crd, array_layout)\n",
    "    if JJ_f1.shape[0] == 1:\n",
    "        continue\n",
    "    JJ_f2 = scan.getJones(lm, baselines, wave2, time, src_crd, array_layout)\n",
    "    print(JJ_f1.shape)\n",
    "\n",
    "    delta_t = rc['corr_int_time']\n",
    "    delta_f = float(rc['channel'].split(':')[1])*10**6\n",
    "    delta_l = np.abs(lm[255,0,0]-lm[0,0,0])\n",
    "    delta_m = np.abs(lm[0,255,0]-lm[0,0,0])\n",
    "\n",
    "    integral2 = np.append(integral2, scan.integrate(JJ_f1, JJ_f2, I, 2, delta_t, delta_f, delta_l, delta_m))\n",
    "    print(scan.integrate(JJ_f1, JJ_f2, I, 1, delta_t, delta_f, delta_l, delta_m).shape)\n"
   ]
  },
  {
   "cell_type": "code",
   "execution_count": 43,
   "id": "material-amendment",
   "metadata": {},
   "outputs": [
    {
     "data": {
      "text/plain": [
       "(64, 4)"
      ]
     },
     "execution_count": 43,
     "metadata": {},
     "output_type": "execute_result"
    }
   ],
   "source": [
    "integral2 = integral2.reshape(-1, 4)\n",
    "integral2.shape"
   ]
  },
  {
   "cell_type": "code",
   "execution_count": 20,
   "id": "successful-acting",
   "metadata": {},
   "outputs": [
    {
     "data": {
      "text/plain": [
       "array([[ 1.53612912e-04+1.90676858e-04j,  1.14141964e-04+1.41617721e-04j,\n",
       "         7.35971100e-05+9.12743597e-05j,  5.46863521e-05+6.77900933e-05j],\n",
       "       [-2.81016866e-05-3.38269830e-05j, -5.90445952e-06-7.10919705e-06j,\n",
       "        -2.13643069e-04-2.57056346e-04j, -4.48905846e-05-5.40232160e-05j],\n",
       "       [-2.51645339e-04-3.92361397e-05j, -1.87497392e-04-2.92152935e-05j,\n",
       "        -1.90856773e-03-2.97810937e-04j, -1.42204827e-03-2.21749209e-04j],\n",
       "       [-4.01032835e-05-3.67480763e-05j, -1.92551676e-05-1.76313124e-05j,\n",
       "        -3.04738211e-04-2.79365748e-04j, -1.46316355e-04-1.34036772e-04j],\n",
       "       [ 8.53807532e-04+1.62116446e-03j,  1.79940639e-04+3.40743147e-04j,\n",
       "         6.38499054e-04+1.20616109e-03j,  1.34562658e-04+2.53517201e-04j],\n",
       "       [-5.44844334e-04-4.41314528e-04j, -1.14514940e-04-9.26056523e-05j,\n",
       "        -2.61663928e-04-2.10690580e-04j, -5.49958281e-05-4.42107643e-05j],\n",
       "       [ 5.95518488e-04-4.81535555e-04j,  4.44610589e-04-3.59247454e-04j,\n",
       "         2.87945023e-04-2.32503120e-04j,  2.14977891e-04-1.73458114e-04j],\n",
       "       [-4.08777101e-05+8.83569423e-05j, -8.60683673e-06+1.86038156e-05j,\n",
       "        -3.09337664e-04+6.68646422e-04j, -6.51327483e-05+1.40785795e-04j],\n",
       "       [-2.79276555e-04+5.87892141e-07j, -2.08107057e-04+4.74794990e-07j,\n",
       "        -2.11787034e-03+4.02122221e-06j, -1.57816331e-03+3.27396712e-06j],\n",
       "       [ 6.40615678e-06+3.11552063e-05j,  3.10580716e-06+1.50537856e-05j,\n",
       "         4.83905286e-05+2.35830261e-04j,  2.34616250e-05+1.13950772e-04j],\n",
       "       [ 6.72514898e-04-6.94134789e-04j,  1.41069238e-04-1.46224768e-04j,\n",
       "         4.98447101e-04-5.18652625e-04j,  1.04552997e-04-1.09256961e-04j],\n",
       "       [ 1.55033157e-03-5.08722126e-04j,  3.26435950e-04-1.07239059e-04j,\n",
       "         7.49495895e-04-2.46969767e-04j,  1.57813132e-04-5.20606068e-05j],\n",
       "       [ 1.00963105e-04-6.12260201e-05j,  7.43056016e-05-4.51395441e-05j,\n",
       "         4.74824652e-05-2.88928151e-05j,  3.49369630e-05-2.12979556e-05j],\n",
       "       [-3.42810478e-05+7.65229481e-05j, -7.20191612e-06+1.60769576e-05j,\n",
       "        -2.60719274e-04+5.81919177e-04j, -5.47730455e-05+1.22258177e-04j],\n",
       "       [ 1.74221830e-05+2.06016523e-04j,  1.30108796e-05+1.53457225e-04j,\n",
       "         1.31779760e-04+1.56301466e-03j,  9.84137175e-05+1.16425613e-03j],\n",
       "       [-3.10115536e-06+3.05879612e-05j, -1.51430246e-06+1.46820791e-05j,\n",
       "        -2.33238404e-05+2.32473778e-04j, -1.13893772e-05+1.11586926e-04j],\n",
       "       [-3.73255867e-03+6.39441335e-05j, -7.84717638e-04+1.36702460e-05j,\n",
       "        -2.77835030e-03+4.91259651e-05j, -5.84109487e-04+1.04968191e-05j],\n",
       "       [ 1.25827226e-03-3.88366830e-04j,  2.64325273e-04-8.14545238e-05j,\n",
       "         6.03142175e-04-1.85072664e-04j,  1.26701817e-04-3.88156358e-05j],\n",
       "       [-6.56284349e-04-8.74597332e-04j, -4.89091482e-04-6.53219506e-04j,\n",
       "        -3.16222701e-04-4.23196839e-04j, -2.35662902e-04-3.16076909e-04j],\n",
       "       [ 1.49702335e-05-4.21271257e-05j,  3.15022607e-06-8.86635121e-06j,\n",
       "         1.13442944e-04-3.19087248e-04j,  2.38711909e-05-6.71577573e-05j],\n",
       "       [ 3.48730582e-05+1.86006975e-04j,  2.59760280e-05+1.38594847e-04j,\n",
       "         2.64577833e-04+1.41070162e-03j,  1.97077438e-04+1.05112146e-03j],\n",
       "       [-2.29551646e-05+1.49404271e-05j, -1.10686711e-05+7.21780059e-06j,\n",
       "        -1.73980446e-04+1.13103750e-04j, -8.38910152e-05+5.46412951e-05j],\n",
       "       [-2.99144777e-03+8.65059142e-04j, -6.29458617e-04+1.81899702e-04j,\n",
       "        -2.23039777e-03+6.44134077e-04j, -4.69318514e-04+1.35444300e-04j],\n",
       "       [ 2.70130350e-03+4.31397646e-03j,  5.68826303e-04+9.08125742e-04j,\n",
       "         1.30628344e-03+2.08371110e-03j,  2.75069707e-04+4.38637568e-04j],\n",
       "       [ 2.42285567e-04-1.35190197e-03j,  1.80639152e-04-1.00564477e-03j,\n",
       "         1.16838755e-04-6.49093982e-04j,  8.71104763e-05-4.82844858e-04j],\n",
       "       [-4.46917159e-05-5.52571941e-05j, -9.40168717e-06-1.16173054e-05j,\n",
       "        -3.38871860e-04-4.19544565e-04j, -7.12879053e-05-8.82060478e-05j],\n",
       "       [-2.35776784e-05+1.33940446e-05j, -1.75603641e-05+9.97039754e-06j,\n",
       "        -1.78905625e-04+1.01699433e-04j, -1.33246761e-04+7.57027333e-05j],\n",
       "       [-4.20776509e-06+9.08073606e-05j, -2.01303072e-06+4.37110144e-05j,\n",
       "        -3.20422233e-05+6.88963414e-04j, -1.53306191e-05+3.31638574e-04j],\n",
       "       [ 8.78534874e-04+5.49324361e-05j,  1.85028571e-04+1.16118106e-05j,\n",
       "         6.56159384e-04+4.13121711e-05j,  1.38193163e-04+8.73158553e-06j],\n",
       "       [ 3.32679738e-03+4.26205822e-03j,  6.99123807e-04+8.95756332e-04j,\n",
       "         1.59688143e-03+2.04655226e-03j,  3.35583153e-04+4.30123726e-04j],\n",
       "       [ 1.45790359e-03+3.92518038e-04j,  1.08776829e-03+2.93245842e-04j,\n",
       "         7.04061348e-04+1.90032056e-04j,  5.25313412e-04+1.41970116e-04j],\n",
       "       [-6.15084823e-05-4.36744855e-05j, -1.29399617e-05-9.18957844e-06j,\n",
       "        -4.66350801e-04-3.31015397e-04j, -9.81085446e-05-6.96486579e-05j],\n",
       "       [-3.60469703e-05+5.78341771e-06j, -2.68805111e-05+4.30755602e-06j,\n",
       "        -2.73126363e-04+4.38816924e-05j, -2.03672125e-04+3.26840088e-05j],\n",
       "       [-1.43987088e-05+7.90977517e-05j, -6.96506655e-06+3.80961905e-05j,\n",
       "        -1.08914995e-04+5.99911376e-04j, -5.26868325e-05+2.88938378e-04j],\n",
       "       [ 1.87646633e-03+2.33088967e-03j,  3.94661740e-04+4.90685973e-04j,\n",
       "         1.39784271e-03+1.73938754e-03j,  2.93996261e-04+3.66166804e-04j],\n",
       "       [ 3.79768092e-04+8.79854324e-04j,  7.99143845e-05+1.85104122e-04j,\n",
       "         1.83184416e-04+4.24040909e-04j,  3.85476893e-05+8.92097276e-05j],\n",
       "       [ 9.83296460e-04+5.33340354e-04j,  7.31060692e-04+3.96569394e-04j,\n",
       "         4.71631124e-04+2.55864923e-04j,  3.50647449e-04+1.90250211e-04j],\n",
       "       [-1.69839465e-05-2.69170084e-05j, -3.57028715e-06-5.65869929e-06j,\n",
       "        -1.28992132e-04-2.04400964e-04j, -2.71158314e-05-4.29707837e-05j],\n",
       "       [-5.40413047e-05-3.06910116e-06j, -4.02405946e-05-2.28545012e-06j,\n",
       "        -4.10168407e-04-2.32951433e-05j, -3.05420939e-04-1.73458305e-05j],\n",
       "       [-3.83767385e-05+7.97181093e-06j, -1.84517373e-05+3.83673543e-06j,\n",
       "        -2.91371129e-04+6.04858616e-05j, -1.40093117e-04+2.91125608e-05j],\n",
       "       [ 2.36658221e-03+2.41068517e-03j,  4.97821165e-04+5.06655559e-04j,\n",
       "         1.76346863e-03+1.79335127e-03j,  3.70953122e-04+3.76911032e-04j],\n",
       "       [ 1.35551170e-04+7.35559980e-04j,  2.84776307e-05+1.54682105e-04j,\n",
       "         6.49959774e-05+3.53951409e-04j,  1.36550234e-05+7.44329489e-05j],\n",
       "       [ 1.28582417e-04+2.78558298e-04j,  9.61782887e-05+2.07991331e-04j,\n",
       "         6.23955443e-05+1.34715055e-04j,  4.66707630e-05+1.00587763e-04j],\n",
       "       [-8.20237703e-07-1.90343683e-05j, -1.71291998e-07-4.00510526e-06j,\n",
       "        -6.31294487e-06-1.44257197e-04j, -1.31923020e-06-3.03536986e-05j],\n",
       "       [-5.47624838e-05+7.22022265e-05j, -4.08256076e-05+5.38967628e-05j,\n",
       "        -4.15067461e-04+5.46415876e-04j, -3.09433238e-04+4.07883255e-04j],\n",
       "       [ 2.36250671e-05+4.50494386e-05j,  1.14533550e-05+2.17615926e-05j,\n",
       "         1.78466931e-04+3.41056399e-04j,  8.65214554e-05+1.64752511e-04j],\n",
       "       [ 3.47950879e-03+1.05078284e-03j,  7.32072163e-04+2.21151851e-04j,\n",
       "         2.59372887e-03+7.83770755e-04j,  5.45708642e-04+1.64955612e-04j],\n",
       "       [-7.46048652e-05-1.12218490e-04j, -1.57011391e-05-2.37412557e-05j,\n",
       "        -3.60032158e-05-5.51968945e-05j, -7.57702560e-06-1.16765892e-05j],\n",
       "       [ 7.46789686e-05-1.81897459e-04j,  5.52619646e-05-1.35974568e-04j,\n",
       "         3.54952930e-05-8.81636492e-05j,  2.62647687e-05-6.59030198e-05j],\n",
       "       [ 1.32813116e-05-1.14436209e-05j,  2.79262162e-06-2.40584215e-06j,\n",
       "         1.00826982e-04-8.69099350e-05j,  2.11992759e-05-1.82699573e-05j],\n",
       "       [-3.90901190e-03+1.50322846e-03j, -2.91241025e-03+1.11988834e-03j,\n",
       "        -2.96490399e-02+1.14027801e-02j, -2.20900260e-02+8.49494256e-03j],\n",
       "       [ 3.43640366e-05+4.01635140e-05j,  1.64747572e-05+1.92772472e-05j,\n",
       "         2.61364017e-04+3.05258554e-04j,  1.25303376e-04+1.46516215e-04j],\n",
       "       [-6.94693467e-04+7.80999613e-04j, -1.46314488e-04+1.64144791e-04j,\n",
       "        -5.18885087e-04+5.81009912e-04j, -1.09285682e-04+1.22112876e-04j],\n",
       "       [ 1.07511096e-03-1.92974067e-03j,  2.26147430e-04-4.05764033e-04j,\n",
       "         5.17852380e-04-9.28221362e-04j,  1.08929298e-04-1.95176260e-04j],\n",
       "       [ 3.57724961e-04-6.10501186e-04j,  2.67292686e-04-4.54995908e-04j,\n",
       "         1.73237733e-04-2.94192544e-04j,  1.29442334e-04-2.19256968e-04j],\n",
       "       [-2.66269153e-05-3.58501549e-05j, -5.60751802e-06-7.54738796e-06j,\n",
       "        -2.01394702e-04-2.71401082e-04j, -4.24143527e-05-5.71347202e-05j],\n",
       "       [ 6.68287932e-02+2.20993538e-02j,  1.40568053e-02+4.64833675e-03j,\n",
       "        -7.54909666e-02-2.49637253e-02j, -1.58788101e-02-5.25082251e-03j],\n",
       "       [-3.92180904e-03+1.43309036e-03j, -2.92201107e-03+1.06773854e-03j,\n",
       "        -2.97453122e-02+1.08695203e-02j, -2.21622560e-02+8.09844781e-03j],\n",
       "       [-1.26049571e-05+8.38373810e-06j, -6.07578876e-06+4.04877847e-06j,\n",
       "        -9.55556114e-05+6.34805773e-05j, -4.60591758e-05+3.06574859e-05j],\n",
       "       [ 1.17191102e-05-1.77968995e-06j, -1.32395351e-05+2.00808149e-06j,\n",
       "         8.88087130e-05-1.35911827e-05j, -1.00331796e-04+1.53381787e-05j],\n",
       "       [-8.95182396e-04+7.51412821e-04j, -1.88140313e-04+1.58176371e-04j,\n",
       "        -6.65936887e-04+5.60683672e-04j, -1.39959970e-04+1.18027343e-04j],\n",
       "       [ 8.95807045e-04-1.17122336e-03j,  1.88378733e-04-2.46337802e-04j,\n",
       "         4.31045603e-04-5.63923252e-04j,  9.06441349e-05-1.18607326e-04j],\n",
       "       [ 1.49530695e-04-1.07827411e-04j,  1.11443810e-04-8.06091030e-05j,\n",
       "        -1.68920940e-04+1.21870540e-04j, -1.25895157e-04+9.11070559e-05j],\n",
       "       [ 9.84534010e-05+5.16617154e-06j,  4.75971404e-05+2.43674516e-06j,\n",
       "        -1.11250483e-04-5.82575725e-06j, -5.37837043e-05-2.74737075e-06j]])"
      ]
     },
     "execution_count": 20,
     "metadata": {},
     "output_type": "execute_result"
    }
   ],
   "source": [
    "integral2"
   ]
  },
  {
   "cell_type": "code",
   "execution_count": 21,
   "id": "numerous-mistake",
   "metadata": {},
   "outputs": [
    {
     "data": {
      "text/plain": [
       "False"
      ]
     },
     "execution_count": 21,
     "metadata": {},
     "output_type": "execute_result"
    }
   ],
   "source": [
    "integral == integral2"
   ]
  },
  {
   "cell_type": "code",
   "execution_count": 22,
   "id": "hawaiian-amber",
   "metadata": {},
   "outputs": [
    {
     "ename": "RuntimeError",
     "evalue": "The size of tensor a (12) must match the size of tensor b (64) at non-singleton dimension 0",
     "output_type": "error",
     "traceback": [
      "\u001b[0;31m---------------------------------------------------------------------------\u001b[0m",
      "\u001b[0;31mRuntimeError\u001b[0m                              Traceback (most recent call last)",
      "\u001b[0;32m<ipython-input-22-e3130a6547a2>\u001b[0m in \u001b[0;36m<module>\u001b[0;34m\u001b[0m\n\u001b[0;32m----> 1\u001b[0;31m \u001b[0mtorch\u001b[0m\u001b[0;34m.\u001b[0m\u001b[0misclose\u001b[0m\u001b[0;34m(\u001b[0m\u001b[0mintegral\u001b[0m\u001b[0;34m,\u001b[0m \u001b[0mtorch\u001b[0m\u001b[0;34m.\u001b[0m\u001b[0mtensor\u001b[0m\u001b[0;34m(\u001b[0m\u001b[0mintegral2\u001b[0m\u001b[0;34m)\u001b[0m\u001b[0;34m,\u001b[0m \u001b[0mrtol\u001b[0m\u001b[0;34m=\u001b[0m\u001b[0;36m1e-3\u001b[0m\u001b[0;34m)\u001b[0m\u001b[0;34m\u001b[0m\u001b[0;34m\u001b[0m\u001b[0m\n\u001b[0m",
      "\u001b[0;31mRuntimeError\u001b[0m: The size of tensor a (12) must match the size of tensor b (64) at non-singleton dimension 0"
     ]
    }
   ],
   "source": [
    "torch.isclose(integral, torch.tensor(integral2), rtol=1e-3)"
   ]
  },
  {
   "cell_type": "code",
   "execution_count": null,
   "id": "departmental-saturday",
   "metadata": {},
   "outputs": [],
   "source": []
  }
 ],
 "metadata": {
  "kernelspec": {
   "display_name": "Python 3",
   "language": "python",
   "name": "python3"
  },
  "language_info": {
   "codemirror_mode": {
    "name": "ipython",
    "version": 3
   },
   "file_extension": ".py",
   "mimetype": "text/x-python",
   "name": "python",
   "nbconvert_exporter": "python",
   "pygments_lexer": "ipython3",
   "version": "3.9.1"
  }
 },
 "nbformat": 4,
 "nbformat_minor": 5
}
