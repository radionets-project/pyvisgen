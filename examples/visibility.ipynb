{
 "cells": [
  {
   "cell_type": "markdown",
   "id": "important-excess",
   "metadata": {},
   "source": [
    "# Complete Simulation Chain for Visibility Calculation"
   ]
  },
  {
   "cell_type": "markdown",
   "id": "final-genetics",
   "metadata": {},
   "source": [
    "## Read in Config"
   ]
  },
  {
   "cell_type": "code",
   "execution_count": 1,
   "id": "allied-portugal",
   "metadata": {},
   "outputs": [],
   "source": [
    "import vipy.simulation.utils as ut\n",
    "import vipy.layouts.layouts as layouts\n",
    "import astropy.constants as const\n",
    "from astropy import units as un\n",
    "import time as t"
   ]
  },
  {
   "cell_type": "code",
   "execution_count": 2,
   "id": "neutral-degree",
   "metadata": {},
   "outputs": [],
   "source": [
    "rc = ut.read_config('/net/nfshome/home/sfroese/vipy/config/default.toml')\n",
    "array_layout = layouts.get_array_layout('eht')\n",
    "\n",
    "src_crd = rc['src_coord']\n",
    "wave1 = const.c/((float(rc['channel'].split(':')[0])-float(rc['channel'].split(':')[1]))*10**6/un.second)/un.meter\n",
    "wave2 = const.c/((float(rc['channel'].split(':')[0])+float(rc['channel'].split(':')[1]))*10**6/un.second)/un.meter"
   ]
  },
  {
   "cell_type": "markdown",
   "id": "narrative-sudan",
   "metadata": {},
   "source": [
    "## Generate (l,m)-plane / FOV"
   ]
  },
  {
   "cell_type": "code",
   "execution_count": 3,
   "id": "boring-impossible",
   "metadata": {},
   "outputs": [],
   "source": [
    "import vipy.simulation.scan as scan"
   ]
  },
  {
   "cell_type": "code",
   "execution_count": 4,
   "id": "unlimited-kelly",
   "metadata": {},
   "outputs": [],
   "source": [
    "grid = scan.create_bgrid(rc['fov_size'], 256, src_crd)\n",
    "lm = scan.lm(grid, src_crd)"
   ]
  },
  {
   "cell_type": "markdown",
   "id": "valid-genome",
   "metadata": {},
   "source": [
    "## Calculate Start and Stop times for every measurement"
   ]
  },
  {
   "cell_type": "code",
   "execution_count": 5,
   "id": "handled-atlanta",
   "metadata": {},
   "outputs": [
    {
     "data": {
      "text/plain": [
       "(2161,)"
      ]
     },
     "execution_count": 5,
     "metadata": {},
     "output_type": "execute_result"
    }
   ],
   "source": [
    "time = ut.calc_time_steps(rc)\n",
    "time.shape"
   ]
  },
  {
   "cell_type": "markdown",
   "id": "naval-shareware",
   "metadata": {},
   "source": [
    "## Calculate Baselines for one measurement"
   ]
  },
  {
   "cell_type": "code",
   "execution_count": 6,
   "id": "intensive-albania",
   "metadata": {},
   "outputs": [],
   "source": [
    "baselines = scan.get_baselines(src_crd, time[:4], array_layout)"
   ]
  },
  {
   "cell_type": "markdown",
   "id": "alpine-counter",
   "metadata": {},
   "source": [
    "## Calculate Mueller/Jones matrices"
   ]
  },
  {
   "cell_type": "code",
   "execution_count": 7,
   "id": "royal-victoria",
   "metadata": {},
   "outputs": [],
   "source": [
    "import numpy as np\n",
    "import torch"
   ]
  },
  {
   "cell_type": "code",
   "execution_count": 8,
   "id": "adjustable-interference",
   "metadata": {},
   "outputs": [
    {
     "name": "stderr",
     "output_type": "stream",
     "text": [
      "/scratch/sfroese/envs/radionets/lib/python3.8/site-packages/astropy/units/quantity.py:477: RuntimeWarning: invalid value encountered in true_divide\n",
      "  result = super().__array_ufunc__(function, method, *arrays, **kwargs)\n",
      "/net/nfshome/home/sfroese/vipy/vipy/simulation/scan.py:295: UserWarning: To copy construct from a tensor, it is recommended to use sourceTensor.clone().detach() or sourceTensor.clone().detach().requires_grad_(True), rather than torch.tensor(sourceTensor).\n",
      "  K = torch.tensor(getK(baselines,lm,wave))\n"
     ]
    },
    {
     "name": "stdout",
     "output_type": "stream",
     "text": [
      "CPU times: user 16.9 s, sys: 8.49 s, total: 25.4 s\n",
      "Wall time: 3.51 s\n"
     ]
    }
   ],
   "source": [
    "%%time\n",
    "start = t.time()\n",
    "torch.set_num_threads(8)\n",
    "JJ_f1 = scan.getJones(lm, baselines, wave1, time, src_crd, array_layout)\n",
    "JJ_f2 = scan.getJones(lm, baselines, wave2, time, src_crd, array_layout)"
   ]
  },
  {
   "cell_type": "markdown",
   "id": "robust-jacksonville",
   "metadata": {},
   "source": [
    "## Open Source Image and compute Stokes vector"
   ]
  },
  {
   "cell_type": "code",
   "execution_count": 9,
   "id": "connected-affiliate",
   "metadata": {},
   "outputs": [],
   "source": [
    "from astropy.io import fits\n",
    "import matplotlib.pyplot as plt\n",
    "import torch"
   ]
  },
  {
   "cell_type": "code",
   "execution_count": 10,
   "id": "prescribed-member",
   "metadata": {},
   "outputs": [],
   "source": [
    "hdul = fits.open('celestial-03-05.fits')\n",
    "img = hdul[0].data.astype(np.float32)\n",
    "img = torch.tensor(img)\n",
    "\n",
    "I = torch.zeros((img.shape[0],img.shape[1],4), dtype=torch.cdouble)\n",
    "I[...,0] = img\n",
    "I[...,1] = img*torch.sqrt(torch.tensor(0.5))\n",
    "I[...,2] = img*torch.sqrt(torch.tensor(0.5))\n",
    "# plt.imshow((I[...,1]+I[...,2]).real)\n",
    "# plt.colorbar()"
   ]
  },
  {
   "cell_type": "markdown",
   "id": "moved-globe",
   "metadata": {},
   "source": [
    "## Integration"
   ]
  },
  {
   "cell_type": "code",
   "execution_count": 11,
   "id": "twelve-earth",
   "metadata": {},
   "outputs": [
    {
     "name": "stdout",
     "output_type": "stream",
     "text": [
      "torch.complex128\n",
      "4.721632480621338\n",
      "CPU times: user 4.54 s, sys: 3.1 s, total: 7.64 s\n",
      "Wall time: 956 ms\n"
     ]
    }
   ],
   "source": [
    "%%time\n",
    "delta_t = rc['corr_int_time']\n",
    "delta_f = float(rc['channel'].split(':')[1])*10**6\n",
    "delta_l = lm[255,0,0]-lm[0,0,0]\n",
    "delta_m = lm[0,255,0]-lm[0,0,0]\n",
    "print(I.dtype)\n",
    "\n",
    "integral = scan.integrate(JJ_f1, JJ_f2, I, 28, delta_t, delta_f, delta_l, delta_m)\n",
    "integral.shape\n",
    "end = t.time()\n",
    "print(end - start)"
   ]
  },
  {
   "cell_type": "code",
   "execution_count": 12,
   "id": "infinite-working",
   "metadata": {},
   "outputs": [
    {
     "data": {
      "text/plain": [
       "tensor([[ 5.6631e-04+5.7756e-06j, -6.9986e-04-7.1378e-06j,\n",
       "          1.7107e-03+1.7447e-05j, -2.1141e-03-2.1561e-05j],\n",
       "        [-7.0403e-05-1.9676e-04j, -1.4164e-04-3.9586e-04j,\n",
       "         -2.9162e-05-8.1501e-05j, -5.8670e-05-1.6397e-04j],\n",
       "        [ 1.0252e-03-6.5015e-04j,  1.1273e-04-7.1486e-05j,\n",
       "         -9.5298e-04+6.0433e-04j, -1.0478e-04+6.6449e-05j],\n",
       "        [-1.8037e-06+1.4401e-04j,  1.6767e-06-1.3386e-04j,\n",
       "         -1.0021e-05+8.0003e-04j,  9.3144e-06-7.4366e-04j],\n",
       "        [-1.1349e-03+5.1392e-04j, -2.2833e-03+1.0339e-03j,\n",
       "         -1.2479e-04+5.6507e-05j, -2.5105e-04+1.1369e-04j],\n",
       "        [ 8.2093e-04+1.7786e-03j,  9.0264e-05+1.9557e-04j,\n",
       "          4.5606e-03+9.8810e-03j,  5.0146e-04+1.0865e-03j],\n",
       "        [-1.1285e-04-2.9881e-04j, -1.2408e-05-3.2855e-05j,\n",
       "         -4.6744e-05-1.2377e-04j, -5.1396e-06-1.3609e-05j],\n",
       "        [ 2.6601e-04+1.8006e-04j,  5.3518e-04+3.6225e-04j,\n",
       "         -2.4726e-04-1.6737e-04j, -4.9747e-04-3.3672e-04j],\n",
       "        [-9.6173e-04-1.3505e-04j,  1.1885e-03+1.6689e-04j,\n",
       "         -3.9836e-04-5.5938e-05j,  4.9231e-04+6.9129e-05j],\n",
       "        [ 1.3465e-04-1.3264e-05j,  4.0675e-04-4.0066e-05j,\n",
       "          5.5774e-05-5.4942e-06j,  1.6848e-04-1.6596e-05j],\n",
       "        [ 1.8891e-05-6.1151e-05j, -1.7560e-05+5.6841e-05j,\n",
       "          7.8248e-06-2.5329e-05j, -7.2735e-06+2.3544e-05j],\n",
       "        [-3.7329e-04-5.4175e-04j, -7.5101e-04-1.0899e-03j,\n",
       "          4.6132e-04+6.6951e-04j,  9.2812e-04+1.3470e-03j],\n",
       "        [ 6.6210e-05+2.9669e-05j,  1.3321e-04+5.9691e-05j,\n",
       "          3.6783e-04+1.6482e-04j,  7.4003e-04+3.3161e-04j],\n",
       "        [ 1.3774e-04+6.4330e-05j,  2.7712e-04+1.2943e-04j,\n",
       "          4.1608e-04+1.9433e-04j,  8.3710e-04+3.9096e-04j],\n",
       "        [ 1.3876e-04-9.7997e-05j,  3.5595e-05-2.5138e-05j,\n",
       "          7.7088e-04-5.4441e-04j,  1.9775e-04-1.3965e-04j],\n",
       "        [ 5.4910e-06+4.6960e-06j,  3.0504e-05+2.6088e-05j,\n",
       "          2.2742e-06+1.9451e-06j,  1.2635e-05+1.0806e-05j],\n",
       "        [ 2.1170e-03+3.8138e-03j,  2.3277e-04+4.1935e-04j,\n",
       "         -2.6163e-03-4.7132e-03j, -2.8767e-04-5.1824e-04j],\n",
       "        [ 2.1121e-04+2.3139e-04j,  5.4179e-05+5.9356e-05j,\n",
       "         -1.9633e-04-2.1508e-04j, -5.0362e-05-5.5173e-05j],\n",
       "        [-1.9496e-04-1.4072e-04j, -2.1436e-05-1.5473e-05j,\n",
       "         -5.8892e-04-4.2508e-04j, -6.4754e-05-4.6739e-05j],\n",
       "        [-2.3819e-04+1.4111e-04j,  2.9436e-04-1.7439e-04j,\n",
       "          2.2140e-04-1.3117e-04j, -2.7362e-04+1.6210e-04j],\n",
       "        [-1.1697e-03+1.1614e-03j, -1.2861e-04+1.2771e-04j,\n",
       "         -3.0004e-04+2.9793e-04j, -3.2991e-05+3.2759e-05j],\n",
       "        [-7.8672e-05-1.4271e-04j, -2.3765e-04-4.3109e-04j,\n",
       "          7.3128e-05+1.3265e-04j,  2.2090e-04+4.0071e-04j],\n",
       "        [ 1.3993e-04-6.8117e-05j, -1.7293e-04+8.4180e-05j,\n",
       "          7.7736e-04-3.7841e-04j, -9.6068e-04+4.6766e-04j],\n",
       "        [ 1.3254e-04-2.7671e-07j,  4.0038e-04-8.3595e-07j,\n",
       "          7.3634e-04-1.5374e-06j,  2.2243e-03-4.6440e-06j],\n",
       "        [ 5.2748e-04-6.2431e-04j,  1.0612e-03-1.2560e-03j,\n",
       "          1.3531e-04-1.6015e-04j,  2.7223e-04-3.2220e-04j],\n",
       "        [-1.9633e-05-7.1333e-06j, -5.0363e-06-1.8299e-06j,\n",
       "         -8.1322e-06-2.9547e-06j, -2.0861e-06-7.5789e-07j],\n",
       "        [-1.3297e-03+1.4277e-04j,  1.6432e-03-1.7644e-04j,\n",
       "         -3.4108e-04+3.6623e-05j,  4.2152e-04-4.5259e-05j],\n",
       "        [-1.3929e-04+1.7417e-04j, -4.2076e-04+5.2613e-04j,\n",
       "         -3.5731e-05+4.4679e-05j, -1.0793e-04+1.3496e-04j],\n",
       "        [ 4.5104e-04-7.6773e-05j, -5.5741e-04+9.4878e-05j,\n",
       "          1.3625e-03-2.3191e-04j, -1.6838e-03+2.8660e-04j],\n",
       "        [-5.1796e-05-3.2687e-05j, -1.0421e-04-6.5762e-05j,\n",
       "         -2.1455e-05-1.3539e-05j, -4.3165e-05-2.7240e-05j],\n",
       "        [ 7.4958e-04-4.2952e-04j,  8.2419e-05-4.7227e-05j,\n",
       "         -6.9676e-04+3.9925e-04j, -7.6611e-05+4.3899e-05j],\n",
       "        [ 1.7648e-04+6.6239e-05j, -1.6404e-04-6.1572e-05j,\n",
       "          9.8042e-04+3.6799e-04j, -9.1133e-04-3.4206e-04j],\n",
       "        [-9.8295e-04+2.3470e-04j, -1.9776e-03+4.7220e-04j,\n",
       "         -1.0808e-04+2.5807e-05j, -2.1744e-04+5.1920e-05j],\n",
       "        [ 2.1112e-04+7.4026e-04j,  2.3213e-05+8.1395e-05j,\n",
       "          1.1728e-03+4.1125e-03j,  1.2896e-04+4.5218e-04j],\n",
       "        [ 2.1571e-05-1.6272e-05j,  2.3718e-06-1.7892e-06j,\n",
       "          8.9349e-06-6.7402e-06j,  9.8246e-07-7.4098e-07j],\n",
       "        [ 7.7439e-05-1.1485e-04j,  1.5580e-04-2.3107e-04j,\n",
       "         -7.1982e-05+1.0676e-04j, -1.4482e-04+2.1478e-04j],\n",
       "        [-4.4877e-04-1.4167e-04j,  5.5460e-04+1.7508e-04j,\n",
       "         -1.8589e-04-5.8681e-05j,  2.2972e-04+7.2519e-05j],\n",
       "        [ 1.1567e-04+3.2351e-05j,  3.4941e-04+9.7724e-05j,\n",
       "          4.7912e-05+1.3400e-05j,  1.4473e-04+4.0479e-05j],\n",
       "        [ 1.1980e-04-1.5425e-04j, -1.1136e-04+1.4338e-04j,\n",
       "          4.9622e-05-6.3890e-05j, -4.6126e-05+5.9388e-05j],\n",
       "        [-2.9486e-04-2.6505e-04j, -5.9323e-04-5.3325e-04j,\n",
       "          3.6440e-04+3.2755e-04j,  7.3313e-04+6.5900e-04j],\n",
       "        [-3.7738e-05+7.0777e-05j, -7.5925e-05+1.4239e-04j,\n",
       "         -2.0965e-04+3.9319e-04j, -4.2180e-04+7.9106e-04j],\n",
       "        [-7.6729e-05+1.8375e-04j, -1.5437e-04+3.6969e-04j,\n",
       "         -2.3178e-04+5.5506e-04j, -4.6631e-04+1.1167e-03j],\n",
       "        [-1.6983e-05+1.6670e-04j, -4.3564e-06+4.2763e-05j,\n",
       "         -9.4348e-05+9.2610e-04j, -2.4202e-05+2.3756e-04j],\n",
       "        [ 9.9251e-06+1.4991e-05j,  5.5138e-05+8.3281e-05j,\n",
       "          4.1110e-06+6.2094e-06j,  2.2839e-05+3.4496e-05j],\n",
       "        [-3.2107e-03+2.3198e-03j, -3.5303e-04+2.5507e-04j,\n",
       "          3.9679e-03-2.8669e-03j,  4.3628e-04-3.1523e-04j],\n",
       "        [ 2.7113e-04-1.0314e-04j,  6.9552e-05-2.6458e-05j,\n",
       "         -2.5203e-04+9.5874e-05j, -6.4651e-05+2.4594e-05j],\n",
       "        [-1.8331e-04-1.3589e-04j, -2.0156e-05-1.4942e-05j,\n",
       "         -5.5373e-04-4.1050e-04j, -6.0884e-05-4.5136e-05j],\n",
       "        [ 1.6551e-04+3.9548e-04j, -2.0454e-04-4.8874e-04j,\n",
       "         -1.5385e-04-3.6761e-04j,  1.9013e-04+4.5430e-04j],\n",
       "        [-2.8171e-03+2.5819e-03j, -3.0975e-04+2.8389e-04j,\n",
       "         -7.2265e-04+6.6231e-04j, -7.9458e-05+7.2823e-05j],\n",
       "        [-1.0016e-04-1.6054e-04j, -3.0257e-04-4.8494e-04j,\n",
       "          9.3105e-05+1.4922e-04j,  2.8125e-04+4.5077e-04j],\n",
       "        [-2.1612e-04+9.3145e-05j,  2.6709e-04-1.1511e-04j,\n",
       "         -1.2006e-03+5.1746e-04j,  1.4838e-03-6.3949e-04j],\n",
       "        [ 1.1143e-04-1.3339e-05j,  3.3661e-04-4.0293e-05j,\n",
       "          6.1906e-04-7.4104e-05j,  1.8700e-03-2.2385e-04j],\n",
       "        [ 1.4683e-04-4.7655e-04j,  2.9540e-04-9.5876e-04j,\n",
       "          3.7664e-05-1.2224e-04j,  7.5775e-05-2.4594e-04j],\n",
       "        [ 1.7289e-04-1.3487e-05j,  4.4350e-05-3.4597e-06j,\n",
       "          7.1614e-05-5.5866e-06j,  1.8371e-05-1.4331e-06j],\n",
       "        [-1.6522e-03+7.6226e-04j,  2.0419e-03-9.4202e-04j,\n",
       "         -4.2383e-04+1.9554e-04j,  5.2379e-04-2.4165e-04j],\n",
       "        [-3.3071e-04+1.4479e-04j, -9.9898e-04+4.3738e-04j,\n",
       "         -8.4833e-05+3.7142e-05j, -2.5626e-04+1.1220e-04j],\n",
       "        [ 9.6116e-05-2.7468e-04j, -1.1878e-04+3.3945e-04j,\n",
       "          2.9034e-04-8.2973e-04j, -3.5881e-04+1.0254e-03j],\n",
       "        [-1.2040e-04-3.3721e-05j, -2.4224e-04-6.7842e-05j,\n",
       "         -4.9873e-05-1.3968e-05j, -1.0034e-04-2.8101e-05j],\n",
       "        [ 8.0962e-05-3.2595e-04j,  8.9020e-06-3.5839e-05j,\n",
       "         -7.5256e-05+3.0298e-04j, -8.2748e-06+3.3314e-05j],\n",
       "        [ 3.1183e-04+1.1717e-04j, -2.8985e-04-1.0892e-04j,\n",
       "          1.7323e-03+6.5096e-04j, -1.6103e-03-6.0508e-04j],\n",
       "        [-5.5065e-04-8.0997e-04j, -1.1078e-03-1.6296e-03j,\n",
       "         -6.0547e-05-8.9059e-05j, -1.2181e-04-1.7918e-04j],\n",
       "        [ 2.6907e-04+2.4312e-04j,  2.9586e-05+2.6732e-05j,\n",
       "          1.4948e-03+1.3506e-03j,  1.6436e-04+1.4850e-04j],\n",
       "        [ 2.8151e-05+8.6818e-05j,  3.0953e-06+9.5460e-06j,\n",
       "          1.1661e-05+3.5961e-05j,  1.2821e-06+3.9540e-06j],\n",
       "        [ 2.9371e-06-1.2378e-04j,  5.9093e-06-2.4903e-04j,\n",
       "         -2.7303e-06+1.1506e-04j, -5.4928e-06+2.3148e-04j],\n",
       "        [ 9.2213e-05+2.4841e-04j, -1.1396e-04-3.0700e-04j,\n",
       "          3.8196e-05+1.0290e-04j, -4.7203e-05-1.2716e-04j],\n",
       "        [ 5.4459e-05+4.6455e-05j,  1.6451e-04+1.4033e-04j,\n",
       "          2.2558e-05+1.9242e-05j,  6.8140e-05+5.8125e-05j],\n",
       "        [ 4.8540e-05-2.1373e-04j, -4.5120e-05+1.9867e-04j,\n",
       "          2.0106e-05-8.8530e-05j, -1.8689e-05+8.2292e-05j],\n",
       "        [-4.2933e-04+6.8843e-04j, -8.6375e-04+1.3850e-03j,\n",
       "          5.3057e-04-8.5079e-04j,  1.0674e-03-1.7117e-03j],\n",
       "        [ 1.5568e-04+5.7048e-05j,  3.1321e-04+1.1477e-04j,\n",
       "          8.6488e-04+3.1692e-04j,  1.7400e-03+6.3761e-04j],\n",
       "        [-1.7565e-05+2.4171e-04j, -3.5337e-05+4.8628e-04j,\n",
       "         -5.3057e-05+7.3013e-04j, -1.0674e-04+1.4689e-03j],\n",
       "        [-1.1249e-04+1.3896e-05j, -2.8855e-05+3.5652e-06j,\n",
       "         -6.2491e-04+7.7197e-05j, -1.6030e-04+1.9803e-05j],\n",
       "        [ 2.7241e-06-1.3228e-06j,  1.5133e-05-7.3484e-06j,\n",
       "          1.1282e-06-5.4783e-07j,  6.2683e-06-3.0438e-06j],\n",
       "        [-8.1699e-02+1.6866e-02j, -8.9831e-03+1.8545e-03j,\n",
       "          1.0097e-01-2.0844e-02j,  1.1102e-02-2.2919e-03j],\n",
       "        [-3.1722e-05-4.4761e-04j, -8.1375e-06-1.1482e-04j,\n",
       "          2.9487e-05+4.1606e-04j,  7.5639e-06+1.0673e-04j],\n",
       "        [ 1.2510e-04-5.0476e-04j,  1.3755e-05-5.5500e-05j,\n",
       "          3.7789e-04-1.5247e-03j,  4.1551e-05-1.6765e-04j],\n",
       "        [ 6.8816e-04+3.3702e-05j, -8.5044e-04-4.1650e-05j,\n",
       "         -6.3966e-04-3.1327e-05j,  7.9051e-04+3.8715e-05j],\n",
       "        [-1.8729e-03+3.0239e-03j, -2.0593e-04+3.3249e-04j,\n",
       "         -4.8044e-04+7.7570e-04j, -5.2827e-05+8.5290e-05j],\n",
       "        [-1.8485e-05-4.0693e-04j, -5.5840e-05-1.2292e-03j,\n",
       "          1.7183e-05+3.7825e-04j,  5.1905e-05+1.1426e-03j],\n",
       "        [-6.8844e-05+1.9727e-04j,  8.5079e-05-2.4379e-04j,\n",
       "         -3.8246e-04+1.0959e-03j,  4.7265e-04-1.3544e-03j],\n",
       "        [ 6.7816e-05+3.1157e-05j,  2.0485e-04+9.4117e-05j,\n",
       "          3.7674e-04+1.7309e-04j,  1.1380e-03+5.2286e-04j],\n",
       "        [-2.9010e-04-9.6789e-05j, -5.8366e-04-1.9473e-04j,\n",
       "         -7.4418e-05-2.4828e-05j, -1.4972e-04-4.9952e-05j],\n",
       "        [ 5.7238e-04+2.1348e-05j,  1.4683e-04+5.4762e-06j,\n",
       "          2.3709e-04+8.8426e-06j,  6.0818e-05+2.2684e-06j],\n",
       "        [-4.0032e-04+2.0424e-05j,  4.9473e-04-2.5241e-05j,\n",
       "         -1.0269e-04+5.2391e-06j,  1.2691e-04-6.4750e-06j],\n",
       "        [-8.9288e-05+1.0884e-04j, -2.6971e-04+3.2877e-04j,\n",
       "         -2.2904e-05+2.7919e-05j, -6.9187e-05+8.4336e-05j]],\n",
       "       dtype=torch.complex128)"
      ]
     },
     "execution_count": 12,
     "metadata": {},
     "output_type": "execute_result"
    }
   ],
   "source": [
    "integral"
   ]
  },
  {
   "cell_type": "code",
   "execution_count": null,
   "id": "statewide-nitrogen",
   "metadata": {},
   "outputs": [],
   "source": []
  },
  {
   "cell_type": "code",
   "execution_count": null,
   "id": "moderate-jacob",
   "metadata": {},
   "outputs": [],
   "source": []
  }
 ],
 "metadata": {
  "kernelspec": {
   "display_name": "Python 3",
   "language": "python",
   "name": "python3"
  },
  "language_info": {
   "codemirror_mode": {
    "name": "ipython",
    "version": 3
   },
   "file_extension": ".py",
   "mimetype": "text/x-python",
   "name": "python",
   "nbconvert_exporter": "python",
   "pygments_lexer": "ipython3",
   "version": "3.8.5"
  }
 },
 "nbformat": 4,
 "nbformat_minor": 5
}
