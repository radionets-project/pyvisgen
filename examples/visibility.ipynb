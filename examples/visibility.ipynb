{
 "cells": [
  {
   "cell_type": "markdown",
   "id": "important-excess",
   "metadata": {},
   "source": [
    "# Complete Simulation Chain for Visibility Calculation"
   ]
  },
  {
   "cell_type": "markdown",
   "id": "final-genetics",
   "metadata": {},
   "source": [
    "## Read in Config"
   ]
  },
  {
   "cell_type": "code",
   "execution_count": 16,
   "id": "allied-portugal",
   "metadata": {},
   "outputs": [],
   "source": [
    "import vipy.simulation.utils as ut\n",
    "import vipy.layouts.layouts as layouts\n",
    "import astropy.constants as const\n",
    "from astropy import units as un\n",
    "import time as t\n",
    "import numpy as np"
   ]
  },
  {
   "cell_type": "code",
   "execution_count": 17,
   "id": "neutral-degree",
   "metadata": {},
   "outputs": [],
   "source": [
    "# rc = ut.read_config('/net/nfshome/home/sfroese/vipy/config/default.toml')\n",
    "rc = ut.read_config(\"../config/test.toml\")\n",
    "array_layout = layouts.get_array_layout('eht')\n",
    "\n",
    "src_crd = rc['src_coord']\n",
    "wave1 = const.c/((float(rc['channel'].split(':')[0])-float(rc['channel'].split(':')[1]))*10**6/un.second)/un.meter\n",
    "wave2 = const.c/((float(rc['channel'].split(':')[0])+float(rc['channel'].split(':')[1]))*10**6/un.second)/un.meter"
   ]
  },
  {
   "cell_type": "markdown",
   "id": "narrative-sudan",
   "metadata": {},
   "source": [
    "## Generate (l,m)-plane / FOV"
   ]
  },
  {
   "cell_type": "code",
   "execution_count": 18,
   "id": "boring-impossible",
   "metadata": {},
   "outputs": [],
   "source": [
    "import vipy.simulation.scan as scan"
   ]
  },
  {
   "cell_type": "code",
   "execution_count": 19,
   "id": "unlimited-kelly",
   "metadata": {},
   "outputs": [],
   "source": [
    "grid = scan.create_bgrid(rc['fov_size'], 256, src_crd)\n",
    "lm = scan.lm(grid, src_crd)"
   ]
  },
  {
   "cell_type": "markdown",
   "id": "valid-genome",
   "metadata": {},
   "source": [
    "## Calculate Start and Stop times for every measurement"
   ]
  },
  {
   "cell_type": "code",
   "execution_count": 20,
   "id": "handled-atlanta",
   "metadata": {},
   "outputs": [
    {
     "name": "stdout",
     "output_type": "stream",
     "text": [
      "['2016:095:00:00:00.000' '2016:095:00:00:10.000' '2016:095:00:00:20.000'\n",
      " '2016:095:00:20:00.000' '2016:095:00:20:10.000' '2016:095:00:20:20.000'\n",
      " '2016:095:00:40:00.000' '2016:095:00:40:10.000' '2016:095:00:40:20.000'\n",
      " '2016:095:01:00:00.000' '2016:095:01:00:10.000' '2016:095:01:00:20.000'\n",
      " '2016:095:01:20:00.000' '2016:095:01:20:10.000' '2016:095:01:20:20.000']\n"
     ]
    }
   ],
   "source": [
    "time = ut.calc_time_steps(rc)\n",
    "print(time)"
   ]
  },
  {
   "cell_type": "markdown",
   "id": "naval-shareware",
   "metadata": {},
   "source": [
    "## Calculate Baselines for one measurement"
   ]
  },
  {
   "cell_type": "code",
   "execution_count": 21,
   "id": "intensive-albania",
   "metadata": {},
   "outputs": [],
   "source": [
    "baselines = scan.get_baselines(src_crd, time[0:3], array_layout)"
   ]
  },
  {
   "cell_type": "code",
   "execution_count": 22,
   "id": "bacterial-pressing",
   "metadata": {},
   "outputs": [
    {
     "data": {
      "text/plain": [
       "(24,)"
      ]
     },
     "execution_count": 22,
     "metadata": {},
     "output_type": "execute_result"
    }
   ],
   "source": [
    "st1,st2 = scan.get_valid_baselines(baselines,28)\n",
    "st1.shape"
   ]
  },
  {
   "cell_type": "markdown",
   "id": "alpine-counter",
   "metadata": {},
   "source": [
    "## Calculate Mueller/Jones matrices"
   ]
  },
  {
   "cell_type": "code",
   "execution_count": 23,
   "id": "royal-victoria",
   "metadata": {},
   "outputs": [],
   "source": [
    "import numpy as np\n",
    "import torch"
   ]
  },
  {
   "cell_type": "code",
   "execution_count": 24,
   "id": "adjustable-interference",
   "metadata": {},
   "outputs": [
    {
     "name": "stdout",
     "output_type": "stream",
     "text": [
      "CPU times: user 3.03 s, sys: 871 ms, total: 3.9 s\n",
      "Wall time: 677 ms\n"
     ]
    }
   ],
   "source": [
    "%%time\n",
    "start = t.time()\n",
    "torch.set_num_threads(8)\n",
    "JJ_f1 = scan.getJones(lm, baselines, wave1, time[0:3], src_crd, array_layout)\n",
    "JJ_f2 = scan.getJones(lm, baselines, wave2, time[0:3], src_crd, array_layout)"
   ]
  },
  {
   "cell_type": "markdown",
   "id": "robust-jacksonville",
   "metadata": {},
   "source": [
    "## Open Source Image and compute Stokes vector"
   ]
  },
  {
   "cell_type": "code",
   "execution_count": 25,
   "id": "connected-affiliate",
   "metadata": {},
   "outputs": [],
   "source": [
    "from astropy.io import fits\n",
    "import matplotlib.pyplot as plt\n",
    "import torch"
   ]
  },
  {
   "cell_type": "code",
   "execution_count": 26,
   "id": "prescribed-member",
   "metadata": {},
   "outputs": [],
   "source": [
    "hdul = fits.open('celestial-03-05.fits')\n",
    "img = hdul[0].data.astype(np.float32)\n",
    "img = torch.tensor(img)\n",
    "\n",
    "I = torch.zeros((img.shape[0],img.shape[1],4), dtype=torch.cdouble)\n",
    "I[...,0] = img\n",
    "I[...,1] = img*torch.sqrt(torch.tensor(0.5))\n",
    "I[...,2] = img*torch.sqrt(torch.tensor(0.5))\n",
    "# plt.imshow((I[...,1]+I[...,2]).real)\n",
    "# plt.colorbar()"
   ]
  },
  {
   "cell_type": "markdown",
   "id": "moved-globe",
   "metadata": {},
   "source": [
    "## Integration"
   ]
  },
  {
   "cell_type": "code",
   "execution_count": 27,
   "id": "twelve-earth",
   "metadata": {},
   "outputs": [
    {
     "name": "stdout",
     "output_type": "stream",
     "text": [
      "0.0001830982550547064\n",
      "3.151320457458496\n",
      "CPU times: user 985 ms, sys: 396 ms, total: 1.38 s\n",
      "Wall time: 180 ms\n"
     ]
    }
   ],
   "source": [
    "%%time\n",
    "delta_t = rc['corr_int_time']\n",
    "delta_f = float(rc['channel'].split(':')[1])*10**6\n",
    "delta_l = np.abs(lm[255,0,0]-lm[0,0,0])\n",
    "delta_m = np.abs(lm[0,255,0]-lm[0,0,0])\n",
    "print(delta_l)\n",
    "\n",
    "integral = scan.integrate(JJ_f1, JJ_f2, I, 2, delta_t, delta_f, delta_l, delta_m)\n",
    "integral.shape\n",
    "end = t.time()\n",
    "print(end - start)"
   ]
  },
  {
   "cell_type": "code",
   "execution_count": 28,
   "id": "infinite-working",
   "metadata": {},
   "outputs": [
    {
     "data": {
      "text/plain": [
       "torch.Size([12, 4])"
      ]
     },
     "execution_count": 28,
     "metadata": {},
     "output_type": "execute_result"
    }
   ],
   "source": [
    "integral.shape"
   ]
  },
  {
   "cell_type": "code",
   "execution_count": 29,
   "id": "increasing-stomach",
   "metadata": {},
   "outputs": [
    {
     "data": {
      "text/plain": [
       "tensor([[ 1.5361e-04+1.9068e-04j,  1.1414e-04+1.4162e-04j,\n",
       "          7.3597e-05+9.1274e-05j,  5.4686e-05+6.7790e-05j],\n",
       "        [-2.8102e-05-3.3827e-05j, -5.9045e-06-7.1092e-06j,\n",
       "         -2.1364e-04-2.5706e-04j, -4.4891e-05-5.4023e-05j],\n",
       "        [-2.5165e-04-3.9236e-05j, -1.8750e-04-2.9215e-05j,\n",
       "         -1.9086e-03-2.9781e-04j, -1.4220e-03-2.2175e-04j],\n",
       "        [-4.0103e-05-3.6748e-05j, -1.9255e-05-1.7631e-05j,\n",
       "         -3.0474e-04-2.7937e-04j, -1.4632e-04-1.3404e-04j],\n",
       "        [ 8.5381e-04+1.6212e-03j,  1.7994e-04+3.4074e-04j,\n",
       "          6.3850e-04+1.2062e-03j,  1.3456e-04+2.5352e-04j],\n",
       "        [-5.4484e-04-4.4131e-04j, -1.1451e-04-9.2606e-05j,\n",
       "         -2.6166e-04-2.1069e-04j, -5.4996e-05-4.4211e-05j],\n",
       "        [ 5.9552e-04-4.8154e-04j,  4.4461e-04-3.5925e-04j,\n",
       "          2.8795e-04-2.3250e-04j,  2.1498e-04-1.7346e-04j],\n",
       "        [-4.0878e-05+8.8357e-05j, -8.6068e-06+1.8604e-05j,\n",
       "         -3.0934e-04+6.6865e-04j, -6.5133e-05+1.4079e-04j],\n",
       "        [-2.7928e-04+5.8789e-07j, -2.0811e-04+4.7479e-07j,\n",
       "         -2.1179e-03+4.0212e-06j, -1.5782e-03+3.2740e-06j],\n",
       "        [ 6.4062e-06+3.1155e-05j,  3.1058e-06+1.5054e-05j,\n",
       "          4.8391e-05+2.3583e-04j,  2.3462e-05+1.1395e-04j],\n",
       "        [ 6.7251e-04-6.9413e-04j,  1.4107e-04-1.4622e-04j,\n",
       "          4.9845e-04-5.1865e-04j,  1.0455e-04-1.0926e-04j],\n",
       "        [ 1.5503e-03-5.0872e-04j,  3.2644e-04-1.0724e-04j,\n",
       "          7.4950e-04-2.4697e-04j,  1.5781e-04-5.2061e-05j]],\n",
       "       dtype=torch.complex128)"
      ]
     },
     "execution_count": 29,
     "metadata": {},
     "output_type": "execute_result"
    }
   ],
   "source": [
    "integral"
   ]
  },
  {
   "cell_type": "markdown",
   "id": "loose-footage",
   "metadata": {},
   "source": [
    "## All scan loop"
   ]
  },
  {
   "cell_type": "code",
   "execution_count": 30,
   "id": "italic-proportion",
   "metadata": {},
   "outputs": [],
   "source": [
    "from tqdm import tqdm"
   ]
  },
  {
   "cell_type": "code",
   "execution_count": 31,
   "id": "steady-amplifier",
   "metadata": {},
   "outputs": [],
   "source": [
    "torch.set_num_threads(12)"
   ]
  },
  {
   "cell_type": "code",
   "execution_count": 223,
   "id": "italic-abortion",
   "metadata": {},
   "outputs": [],
   "source": [
    "from dataclasses import dataclass\n",
    "# stokes, IFs?\n",
    "\n",
    "@dataclass\n",
    "class Visibilities:\n",
    "    value: np.array(complex)\n",
    "    num: [int]\n",
    "    scan: [int]\n",
    "    base_num: [int]\n",
    "    u: [float]\n",
    "    v: [float]\n",
    "    w: [float]\n",
    "    date: [float]\n",
    "    _date: [float]\n",
    "\n",
    "    def __getitem__(self, i):\n",
    "        baseline = Vis(\n",
    "            self.value[i],\n",
    "            self.num[i],\n",
    "            self.scan[i],\n",
    "            self.base_num[i],\n",
    "            self.u[i],\n",
    "            self.v[i],\n",
    "            self.w[i],\n",
    "            self.date[i],\n",
    "            self._date[i],\n",
    "        )\n",
    "        return baseline\n",
    "\n",
    "    def add(self, visibilities):\n",
    "        self.value = np.concatenate([self.value, visibilities.value])\n",
    "        self.num = np.concatenate([self.num, visibilities.num])\n",
    "        self.scan = np.concatenate([self.scan, visibilities.scan])\n",
    "        self.base_num = np.concatenate([self.base_num, visibilities.base_num])\n",
    "        self.u = np.concatenate([self.u, visibilities.u])\n",
    "        self.v = np.concatenate([self.v, visibilities.v])\n",
    "        self.w = np.concatenate([self.w, visibilities.w])\n",
    "        self.date = np.concatenate([self.date, visibilities.date])\n",
    "        self._date = np.concatenate([self._date, visibilities._date])\n",
    "        \n",
    "    def del_vis(self, i):\n",
    "        self.value = np.delete(self.value, i, axis=0)\n",
    "        self.num = np.delete(self.num, i, axis=0)\n",
    "        self.scan = np.delete(self.scan, i, axis=0)\n",
    "        self.base_num = np.delete(self.base_num, i, axis=0)\n",
    "        self.u = np.delete(self.u, i, axis=0)\n",
    "        self.v = np.delete(self.v, i, axis=0)\n",
    "        self.w = np.delete(self.w, i, axis=0)\n",
    "        self.date = np.delete(self.date, i, axis=0)\n",
    "        self._date = np.delete(self._date, i, axis=0)\n",
    "\n",
    "\n",
    "@dataclass\n",
    "class Vis:\n",
    "    value: complex\n",
    "    num: int\n",
    "    scan: int\n",
    "    base_num: int\n",
    "    u: float\n",
    "    v: float\n",
    "    w: float\n",
    "    date: float\n",
    "    _date: float"
   ]
  },
  {
   "cell_type": "code",
   "execution_count": 224,
   "id": "serial-connectivity",
   "metadata": {},
   "outputs": [],
   "source": [
    "hdul = fits.open('celestial-03-05.fits')\n",
    "img = hdul[0].data.astype(np.float32)\n",
    "img = torch.tensor(img)\n",
    "\n",
    "I = torch.zeros((img.shape[0],img.shape[1],4), dtype=torch.cdouble)\n",
    "I[...,0] = img\n",
    "I[...,1] = img*torch.sqrt(torch.tensor(0.5))\n",
    "I[...,2] = img*torch.sqrt(torch.tensor(0.5))"
   ]
  },
  {
   "cell_type": "code",
   "execution_count": 246,
   "id": "moderate-jacob",
   "metadata": {},
   "outputs": [
    {
     "name": "stderr",
     "output_type": "stream",
     "text": [
      "\r",
      "  0%|          | 0/2 [00:00<?, ?it/s]"
     ]
    },
    {
     "name": "stdout",
     "output_type": "stream",
     "text": [
      "(12,)\n"
     ]
    },
    {
     "name": "stderr",
     "output_type": "stream",
     "text": [
      "\r",
      " 50%|█████     | 1/2 [00:00<00:00,  1.23it/s]"
     ]
    },
    {
     "name": "stdout",
     "output_type": "stream",
     "text": [
      "(12,)\n"
     ]
    },
    {
     "name": "stderr",
     "output_type": "stream",
     "text": [
      "100%|██████████| 2/2 [00:01<00:00,  1.24it/s]\n"
     ]
    }
   ],
   "source": [
    "from vipy.simulation.scan import get_valid_baselines\n",
    "visibilities = Visibilities(np.empty((1, 4), dtype=\"complex\"), [], [], [], [], [], [], [], [])\n",
    "vis_num = np.zeros(1)\n",
    "#i in total number of scans\n",
    "for i in tqdm(range(2)):\n",
    "    t = time[i*3:(i+1)*3]\n",
    "    baselines = scan.get_baselines(src_crd, t, array_layout)\n",
    "    \n",
    "    valid = baselines.valid.reshape(-1, 28)\n",
    "    mask = np.array(valid[:-1]).astype(bool) & np.array(valid[1:]).astype(bool)\n",
    "    u = baselines.u.reshape(-1, 28)\n",
    "    v = baselines.v.reshape(-1, 28)\n",
    "    w = baselines.w.reshape(-1, 28)\n",
    "    u_valid = u[:-1][mask]\n",
    "    v_valid = v[:-1][mask]\n",
    "    w_valid = w[:-1][mask]\n",
    "    date = np.repeat(t[:-1].mjd.reshape(-1, 1), 28, axis=1)[mask]\n",
    "    _date = np.zeros(len(u_valid))\n",
    "    print(_date.shape)\n",
    "    \n",
    "    \n",
    "    JJ_f1 = scan.getJones(lm, baselines, wave1, time, src_crd, array_layout)\n",
    "    if JJ_f1.shape[0] == 1:\n",
    "        continue\n",
    "    JJ_f2 = scan.getJones(lm, baselines, wave2, time, src_crd, array_layout)\n",
    "\n",
    "    delta_t = rc['corr_int_time']\n",
    "    delta_f = float(rc['channel'].split(':')[1])*10**6\n",
    "    delta_l = np.abs(lm[255,0,0]-lm[0,0,0])\n",
    "    delta_m = np.abs(lm[0,255,0]-lm[0,0,0])\n",
    "    \n",
    "    vis_num = np.arange(JJ_f1.shape[2]//2) + 1 + vis_num.max()\n",
    "\n",
    "    vis = Visibilities(\n",
    "        scan.integrate(JJ_f1, JJ_f2, I, 2, delta_t, delta_f, delta_l, delta_m),\n",
    "        vis_num,\n",
    "        np.repeat(i+1, len(vis_num)),\n",
    "        np.array([baselines[i].baselineNum() for i in range(len(vis_num))]),\n",
    "        u_valid,\n",
    "        v_valid,\n",
    "        w_valid,\n",
    "        date,\n",
    "        _date,      \n",
    "    )\n",
    "    \n",
    "    visibilities.add(vis)\n",
    "\n",
    "visibilities.del_vis(0)\n"
   ]
  },
  {
   "cell_type": "code",
   "execution_count": 249,
   "id": "closing-traffic",
   "metadata": {},
   "outputs": [
    {
     "data": {
      "text/plain": [
       "(23,)"
      ]
     },
     "execution_count": 249,
     "metadata": {},
     "output_type": "execute_result"
    }
   ],
   "source": [
    "visibilities.u.shape"
   ]
  },
  {
   "cell_type": "code",
   "execution_count": 233,
   "id": "together-communist",
   "metadata": {},
   "outputs": [],
   "source": [
    "a = [1, 2, 3]"
   ]
  },
  {
   "cell_type": "code",
   "execution_count": 201,
   "id": "previous-victoria",
   "metadata": {},
   "outputs": [
    {
     "data": {
      "text/plain": [
       "[2, 3]"
      ]
     },
     "execution_count": 201,
     "metadata": {},
     "output_type": "execute_result"
    }
   ],
   "source": [
    "del a[0]\n",
    "a"
   ]
  },
  {
   "cell_type": "code",
   "execution_count": null,
   "id": "inclusive-holocaust",
   "metadata": {},
   "outputs": [],
   "source": []
  },
  {
   "cell_type": "code",
   "execution_count": null,
   "id": "transparent-contractor",
   "metadata": {},
   "outputs": [],
   "source": []
  },
  {
   "cell_type": "code",
   "execution_count": null,
   "id": "judicial-mounting",
   "metadata": {},
   "outputs": [],
   "source": []
  },
  {
   "cell_type": "code",
   "execution_count": 66,
   "id": "gentle-fellow",
   "metadata": {},
   "outputs": [
    {
     "data": {
      "text/plain": [
       "Baseline(name='PV-PdBI', st1=Station(st_num=4, name='PV', x=5088967.9, y=-301681.6, z=3825015.8, diam=30.0, el_low=15, el_high=85, sefd=2900, altitude=2850), st2=Station(st_num=5, name='PdBI', x=4523998.4, y=468045.24, z=4460309.76, diam=7.0, el_low=15, el_high=85, sefd=1600, altitude=2550), u=<Quantity -659343.66384915>, v=<Quantity 722159.25615713>, w=<Quantity -599183.02833747>, valid=1.0)"
      ]
     },
     "execution_count": 66,
     "metadata": {},
     "output_type": "execute_result"
    }
   ],
   "source": [
    "baselines[0]"
   ]
  },
  {
   "cell_type": "code",
   "execution_count": 19,
   "id": "material-amendment",
   "metadata": {},
   "outputs": [
    {
     "data": {
      "text/plain": [
       "(76, 4)"
      ]
     },
     "execution_count": 19,
     "metadata": {},
     "output_type": "execute_result"
    }
   ],
   "source": [
    "integral2 = integral2.reshape(-1, 4)\n",
    "integral2.shape"
   ]
  },
  {
   "cell_type": "code",
   "execution_count": 20,
   "id": "successful-acting",
   "metadata": {},
   "outputs": [
    {
     "data": {
      "text/plain": [
       "array([[ 1.53612912e-04+1.90676858e-04j,  1.14141964e-04+1.41617721e-04j,\n",
       "         7.35971100e-05+9.12743597e-05j,  5.46863521e-05+6.77900933e-05j],\n",
       "       [-2.81016866e-05-3.38269830e-05j, -5.90445952e-06-7.10919705e-06j,\n",
       "        -2.13643069e-04-2.57056346e-04j, -4.48905846e-05-5.40232160e-05j],\n",
       "       [-2.51645339e-04-3.92361397e-05j, -1.87497392e-04-2.92152935e-05j,\n",
       "        -1.90856773e-03-2.97810937e-04j, -1.42204827e-03-2.21749209e-04j],\n",
       "       [-4.01032835e-05-3.67480763e-05j, -1.92551676e-05-1.76313124e-05j,\n",
       "        -3.04738211e-04-2.79365748e-04j, -1.46316355e-04-1.34036772e-04j],\n",
       "       [ 8.53807532e-04+1.62116446e-03j,  1.79940639e-04+3.40743147e-04j,\n",
       "         6.38499054e-04+1.20616109e-03j,  1.34562658e-04+2.53517201e-04j],\n",
       "       [-5.44844334e-04-4.41314528e-04j, -1.14514940e-04-9.26056523e-05j,\n",
       "        -2.61663928e-04-2.10690580e-04j, -5.49958281e-05-4.42107643e-05j],\n",
       "       [ 5.95518488e-04-4.81535555e-04j,  4.44610589e-04-3.59247454e-04j,\n",
       "         2.87945023e-04-2.32503120e-04j,  2.14977891e-04-1.73458114e-04j],\n",
       "       [-4.08777101e-05+8.83569423e-05j, -8.60683673e-06+1.86038156e-05j,\n",
       "        -3.09337664e-04+6.68646422e-04j, -6.51327483e-05+1.40785795e-04j],\n",
       "       [-2.79276555e-04+5.87892141e-07j, -2.08107057e-04+4.74794990e-07j,\n",
       "        -2.11787034e-03+4.02122221e-06j, -1.57816331e-03+3.27396712e-06j],\n",
       "       [ 6.40615678e-06+3.11552063e-05j,  3.10580716e-06+1.50537856e-05j,\n",
       "         4.83905286e-05+2.35830261e-04j,  2.34616250e-05+1.13950772e-04j],\n",
       "       [ 6.72514898e-04-6.94134789e-04j,  1.41069238e-04-1.46224768e-04j,\n",
       "         4.98447101e-04-5.18652625e-04j,  1.04552997e-04-1.09256961e-04j],\n",
       "       [ 1.55033157e-03-5.08722126e-04j,  3.26435950e-04-1.07239059e-04j,\n",
       "         7.49495895e-04-2.46969767e-04j,  1.57813132e-04-5.20606068e-05j],\n",
       "       [-6.57154888e-04-8.75760570e-04j, -4.88837667e-04-6.52884607e-04j,\n",
       "        -3.15518878e-04-4.22260731e-04j, -2.34705028e-04-3.14797367e-04j],\n",
       "       [ 1.49390318e-05-4.20393436e-05j,  3.14061537e-06-8.83930538e-06j,\n",
       "         1.13451795e-04-3.19112158e-04j,  2.38499280e-05-6.70979433e-05j],\n",
       "       [ 3.48217970e-05+1.85733651e-04j,  2.58900260e-05+1.38136108e-04j,\n",
       "         2.64761674e-04+1.41168205e-03j,  1.96850795e-04+1.04991320e-03j],\n",
       "       [-2.29216858e-05+1.49186736e-05j, -1.10133387e-05+7.18176921e-06j,\n",
       "        -1.74103162e-04+1.13183671e-04j, -8.36525224e-05+5.44862767e-05j],\n",
       "       [-2.99353996e-03+8.65663654e-04j, -6.29288676e-04+1.81850458e-04j,\n",
       "        -2.22784553e-03+6.43395577e-04j, -4.68327368e-04+1.35157937e-04j],\n",
       "       [ 2.70322498e-03+4.31704179e-03j,  5.68679603e-04+9.07890785e-04j,\n",
       "         1.30258664e-03+2.07780678e-03j,  2.74025597e-04+4.36971003e-04j],\n",
       "       [ 2.41963718e-04-1.35011108e-03j,  1.80731772e-04-1.00616690e-03j,\n",
       "         1.17097719e-04-6.50541883e-04j,  8.74645000e-05-4.84815412e-04j],\n",
       "       [-4.47849829e-05-5.53725903e-05j, -9.43044124e-06-1.16528544e-05j,\n",
       "        -3.38845375e-04-4.19511824e-04j, -7.13514394e-05-8.82846825e-05j],\n",
       "       [-2.36123202e-05+1.34137361e-05j, -1.76186088e-05+1.00034830e-05j,\n",
       "        -1.78781254e-04+1.01628761e-04j, -1.33399781e-04+7.57897410e-05j],\n",
       "       [-4.21393356e-06+9.09397793e-05j, -2.02317683e-06+4.39303267e-05j,\n",
       "        -3.20197278e-05+6.88476960e-04j, -1.53745271e-05+3.32582197e-04j],\n",
       "       [ 8.77919480e-04+5.48937887e-05j,  1.85078167e-04+1.16148783e-05j,\n",
       "         6.56907159e-04+4.13587760e-05j,  1.38484742e-04+8.74990265e-06j],\n",
       "       [ 3.32444099e-03+4.25903839e-03j,  6.99306079e-04+8.95989639e-04j,\n",
       "         1.60143239e-03+2.05238247e-03j,  3.36865879e-04+4.31767333e-04j],\n",
       "       [ 9.83296460e-04+5.33340354e-04j,  7.31060692e-04+3.96569394e-04j,\n",
       "         4.71631124e-04+2.55864923e-04j,  3.50647449e-04+1.90250211e-04j],\n",
       "       [-1.69839465e-05-2.69170084e-05j, -3.57028715e-06-5.65869929e-06j,\n",
       "        -1.28992132e-04-2.04400964e-04j, -2.71158314e-05-4.29707837e-05j],\n",
       "       [-5.40413047e-05-3.06910116e-06j, -4.02405946e-05-2.28545012e-06j,\n",
       "        -4.10168407e-04-2.32951433e-05j, -3.05420939e-04-1.73458305e-05j],\n",
       "       [-3.83767385e-05+7.97181093e-06j, -1.84517373e-05+3.83673543e-06j,\n",
       "        -2.91371129e-04+6.04858616e-05j, -1.40093117e-04+2.91125608e-05j],\n",
       "       [ 2.36658221e-03+2.41068517e-03j,  4.97821165e-04+5.06655559e-04j,\n",
       "         1.76346863e-03+1.79335127e-03j,  3.70953122e-04+3.76911032e-04j],\n",
       "       [ 1.35551170e-04+7.35559980e-04j,  2.84776307e-05+1.54682105e-04j,\n",
       "         6.49959774e-05+3.53951409e-04j,  1.36550234e-05+7.44329489e-05j],\n",
       "       [ 1.28582417e-04+2.78558298e-04j,  9.61782887e-05+2.07991331e-04j,\n",
       "         6.23955443e-05+1.34715055e-04j,  4.66707630e-05+1.00587763e-04j],\n",
       "       [-8.20237703e-07-1.90343683e-05j, -1.71291998e-07-4.00510526e-06j,\n",
       "        -6.31294487e-06-1.44257197e-04j, -1.31923020e-06-3.03536986e-05j],\n",
       "       [-5.47624838e-05+7.22022265e-05j, -4.08256076e-05+5.38967628e-05j,\n",
       "        -4.15067461e-04+5.46415876e-04j, -3.09433238e-04+4.07883255e-04j],\n",
       "       [ 2.36250671e-05+4.50494386e-05j,  1.14533550e-05+2.17615926e-05j,\n",
       "         1.78466931e-04+3.41056399e-04j,  8.65214554e-05+1.64752511e-04j],\n",
       "       [ 3.47950879e-03+1.05078284e-03j,  7.32072163e-04+2.21151851e-04j,\n",
       "         2.59372887e-03+7.83770755e-04j,  5.45708642e-04+1.64955612e-04j],\n",
       "       [-7.46048652e-05-1.12218490e-04j, -1.57011391e-05-2.37412557e-05j,\n",
       "        -3.60032158e-05-5.51968945e-05j, -7.57702560e-06-1.16765892e-05j],\n",
       "       [ 3.58200995e-04-6.11311048e-04j,  2.67155975e-04-4.54759856e-04j,\n",
       "         1.72854996e-04-2.93537851e-04j,  1.28918737e-04-2.18365866e-04j],\n",
       "       [-2.65714728e-05-3.57754727e-05j, -5.59042196e-06-7.52437123e-06j,\n",
       "        -2.01410449e-04-2.71422282e-04j, -4.23765879e-05-5.70838389e-05j],\n",
       "       [ 6.68427615e-02+2.21039730e-02j,  1.40461226e-02+4.64480416e-03j,\n",
       "        -7.54841242e-02-2.49614626e-02j, -1.58619891e-02-5.24526012e-03j],\n",
       "       [-3.91604588e-03+1.43098439e-03j, -2.91233899e-03+1.06420422e-03j,\n",
       "        -2.97659842e-02+1.08770742e-02j, -2.21367787e-02+8.08913786e-03j],\n",
       "       [-1.25865678e-05+8.37152756e-06j, -6.04540795e-06+4.02856151e-06j,\n",
       "        -9.56229887e-05+6.35254195e-05j, -4.59281840e-05+3.05704779e-05j],\n",
       "       [ 1.16961682e-05-1.77619234e-06j, -1.32096591e-05+2.00353191e-06j,\n",
       "         8.88269104e-05-1.35939677e-05j, -1.00322302e-04+1.53367109e-05j],\n",
       "       [-8.95807587e-04+7.51938611e-04j, -1.88089280e-04+1.58133736e-04j,\n",
       "        -6.65172337e-04+5.60042816e-04j, -1.39663824e-04+1.17778250e-04j],\n",
       "       [ 8.96441354e-04-1.17205317e-03j,  1.88329484e-04-2.46273510e-04j,\n",
       "         4.29819188e-04-5.62319854e-04j,  9.02986632e-05-1.18155511e-04j],\n",
       "       [ 1.49654240e-04-1.07916612e-04j,  1.11330338e-04-8.05274146e-05j,\n",
       "        -1.69009865e-04+1.21934883e-04j, -1.25729298e-04+9.09875106e-05j],\n",
       "       [ 9.85359026e-05+5.17042547e-06j,  4.74684173e-05+2.42997245e-06j,\n",
       "        -1.11310386e-04-5.82879671e-06j, -5.36221970e-05-2.73890757e-06j],\n",
       "       [ 8.95845346e-04+2.62031195e-04j,  6.67918594e-04+1.95726486e-04j,\n",
       "         4.32020690e-04+1.26816247e-04j,  3.22102852e-04+9.47259668e-05j],\n",
       "       [-9.21819272e-05+9.34696149e-05j, -1.94013055e-05+1.96856636e-05j,\n",
       "        -6.98224440e-04+7.06896863e-04j, -1.46953878e-04+1.48881084e-04j],\n",
       "       [ 1.14513902e-03-5.51795428e-04j,  2.41060669e-04-1.16137091e-04j,\n",
       "        -1.29388646e-03+6.23437405e-04j, -2.72373043e-04+1.31215770e-04j],\n",
       "       [-5.20652281e-05-1.04260169e-05j, -3.88212107e-05-7.78775289e-06j,\n",
       "        -3.94545513e-04-7.88435499e-05j, -2.94183590e-04-5.88920782e-05j],\n",
       "       [-1.52431982e-05+1.61146973e-05j, -7.36198476e-06+7.77734272e-06j,\n",
       "        -1.15414457e-04+1.22068720e-04j, -5.57426225e-05+5.89128712e-05j],\n",
       "       [-2.79639874e-06+4.50202251e-06j,  3.16154645e-06-5.08509584e-06j,\n",
       "        -2.10879725e-05+3.41664724e-05j,  2.38404338e-05-3.85918752e-05j],\n",
       "       [-1.84861932e-03-5.52857294e-04j, -3.89367265e-04-1.16525470e-04j,\n",
       "        -1.38089132e-03-4.13509076e-04j, -2.90851911e-04-8.71542977e-05j],\n",
       "       [-4.83571058e-04+4.08066243e-04j, -1.01767489e-04+8.58986192e-05j,\n",
       "        -2.33337546e-04+1.97080728e-04j, -4.91061697e-05+4.14858620e-05j],\n",
       "       [ 5.29248527e-06-1.46812273e-04j,  3.91552499e-06-1.09313783e-04j,\n",
       "        -5.97170741e-06+1.65824598e-04j, -4.41787349e-06+1.23469437e-04j],\n",
       "       [ 1.67477180e-04+1.12852897e-04j,  8.07628721e-05+5.45952588e-05j,\n",
       "        -1.89205656e-04-1.27528880e-04j, -9.12412321e-05-6.16949648e-05j],\n",
       "       [ 1.28713679e-04-1.45451138e-04j,  9.56355233e-05-1.08307620e-04j,\n",
       "         6.16613708e-05-6.99732801e-05j,  4.58147039e-05-5.21043996e-05j],\n",
       "       [-1.77924005e-05-6.08793915e-06j, -3.74029697e-06-1.27894853e-06j,\n",
       "        -1.35122681e-04-4.62908789e-05j, -2.84054566e-05-9.72592880e-06j],\n",
       "       [ 2.91978069e-02-2.47622703e-03j,  6.13554001e-03-5.20324030e-04j,\n",
       "        -3.29724805e-02+2.79631397e-03j, -6.92873796e-03+5.87583087e-04j],\n",
       "       [-1.83035008e-04+2.11362095e-05j, -1.36280992e-04+1.57449810e-05j,\n",
       "        -1.38934986e-03+1.60345241e-04j, -1.03445755e-03+1.19445395e-04j],\n",
       "       [-6.45214812e-05-7.11616484e-05j, -3.10722957e-05-3.42326156e-05j,\n",
       "        -4.89394568e-04-5.40117500e-04j, -2.35681713e-04-2.59825892e-04j],\n",
       "       [ 1.11376927e-05-8.59103207e-06j, -1.25807121e-05+9.70564845e-06j,\n",
       "         8.45076788e-05-6.51092441e-05j, -9.54563557e-05+7.35565038e-05j],\n",
       "       [ 3.77340387e-04+1.61545350e-03j,  7.94042935e-05+3.39636256e-04j,\n",
       "         2.81373385e-04+1.20253761e-03j,  5.92099593e-05+2.52823760e-04j],\n",
       "       [ 3.69794039e-04-7.25077773e-04j,  7.77528078e-05-1.52356157e-04j,\n",
       "         1.77847254e-04-3.47887803e-04j,  3.73944883e-05-7.30995766e-05j],\n",
       "       [ 1.64944638e-04+3.68982772e-04j,  1.22724447e-04+2.74712297e-04j,\n",
       "        -1.86282668e-04-4.16759454e-04j, -1.38600513e-04-3.10282834e-04j],\n",
       "       [-1.10644695e-04-1.26241844e-04j, -5.35465222e-05-6.07895246e-05j,\n",
       "         1.25037373e-04+1.42603030e-04j,  6.05118476e-05+6.86679426e-05j],\n",
       "       [-1.15344479e-03+3.13266898e-04j, -8.60879916e-04+2.33970116e-04j,\n",
       "        -5.57370879e-04+1.51578968e-04j, -4.15996838e-04+1.13209805e-04j],\n",
       "       [-2.56589528e-05-1.06965961e-06j, -5.40082776e-06-2.25298386e-07j,\n",
       "        -1.94315111e-04-8.07969258e-06j, -4.09005500e-05-1.70262304e-06j],\n",
       "       [-1.68601354e-04+2.01920622e-04j, -3.55229649e-05+4.24923104e-05j,\n",
       "         1.90553313e-04-2.28126568e-04j,  4.01480660e-05-4.80071016e-05j],\n",
       "       [-1.15538665e-04+6.22322535e-06j, -8.60803277e-05+4.61894425e-06j,\n",
       "        -8.76355761e-04+4.74131929e-05j, -6.52916706e-04+3.51911931e-05j],\n",
       "       [-8.67517626e-05-6.79564800e-05j, -4.18199764e-05-3.27619703e-05j,\n",
       "        -6.57606580e-04-5.15107819e-04j, -3.17008087e-04-2.48333924e-04j],\n",
       "       [ 1.62292751e-05-2.16320016e-05j, -1.83350795e-05+2.44391902e-05j,\n",
       "         1.22979288e-04-1.63910005e-04j, -1.38937336e-04+1.85180805e-04j],\n",
       "       [ 1.47760758e-03-1.12880024e-03j,  3.10989739e-04-2.37832614e-04j,\n",
       "         1.10217956e-03-8.43723665e-04j,  2.31973718e-04-1.77768776e-04j],\n",
       "       [ 3.76916336e-04+3.34402168e-04j,  7.93115296e-05+7.03973478e-05j,\n",
       "         1.81784928e-04+1.61547531e-04j,  3.82516189e-05+3.40087557e-05j],\n",
       "       [ 3.33957479e-04+2.16834114e-04j,  2.49218247e-04+1.61545462e-04j,\n",
       "        -3.77342511e-04-2.44937415e-04j, -2.81594718e-04-1.82482735e-04j],\n",
       "       [-2.55178846e-04-2.17741886e-04j, -1.22882841e-04-1.05031484e-04j,\n",
       "         2.88251601e-04+2.45997563e-04j,  1.38809521e-04+1.18661138e-04j]])"
      ]
     },
     "execution_count": 20,
     "metadata": {},
     "output_type": "execute_result"
    }
   ],
   "source": [
    "integral2"
   ]
  },
  {
   "cell_type": "code",
   "execution_count": null,
   "id": "departmental-saturday",
   "metadata": {},
   "outputs": [],
   "source": []
  },
  {
   "cell_type": "code",
   "execution_count": 6,
   "id": "governing-teach",
   "metadata": {},
   "outputs": [],
   "source": [
    "import import_ipynb\n",
    "from fits_tests import create_vis_hdu"
   ]
  },
  {
   "cell_type": "code",
   "execution_count": 9,
   "id": "stylish-console",
   "metadata": {},
   "outputs": [
    {
     "ename": "NameError",
     "evalue": "name 'data' is not defined",
     "output_type": "error",
     "traceback": [
      "\u001b[0;31m---------------------------------------------------------------------------\u001b[0m",
      "\u001b[0;31mNameError\u001b[0m                                 Traceback (most recent call last)",
      "\u001b[0;32m<ipython-input-9-6f29a69c60ce>\u001b[0m in \u001b[0;36m<module>\u001b[0;34m\u001b[0m\n\u001b[0;32m----> 1\u001b[0;31m \u001b[0mhdu_vis\u001b[0m \u001b[0;34m=\u001b[0m \u001b[0mcreate_vis_hdu\u001b[0m\u001b[0;34m(\u001b[0m\u001b[0mdata\u001b[0m\u001b[0;34m,\u001b[0m \u001b[0mconf\u001b[0m\u001b[0;34m)\u001b[0m\u001b[0;34m\u001b[0m\u001b[0;34m\u001b[0m\u001b[0m\n\u001b[0m",
      "\u001b[0;31mNameError\u001b[0m: name 'data' is not defined"
     ]
    }
   ],
   "source": [
    "hdu_vis = create_vis_hdu(data, conf)"
   ]
  },
  {
   "cell_type": "code",
   "execution_count": 86,
   "id": "egyptian-twins",
   "metadata": {},
   "outputs": [],
   "source": [
    "a = np.ones((12, 4))\n",
    "b = np.zeros((14, 4))"
   ]
  },
  {
   "cell_type": "code",
   "execution_count": 110,
   "id": "satellite-asset",
   "metadata": {},
   "outputs": [
    {
     "data": {
      "text/plain": [
       "array([[1., 1., 1., 1.],\n",
       "       [1., 1., 1., 1.],\n",
       "       [1., 1., 1., 1.],\n",
       "       [1., 1., 1., 1.],\n",
       "       [1., 1., 1., 1.],\n",
       "       [1., 1., 1., 1.],\n",
       "       [1., 1., 1., 1.],\n",
       "       [1., 1., 1., 1.],\n",
       "       [1., 1., 1., 1.],\n",
       "       [1., 1., 1., 1.],\n",
       "       [1., 1., 1., 1.],\n",
       "       [1., 1., 1., 1.],\n",
       "       [0., 0., 0., 0.],\n",
       "       [0., 0., 0., 0.],\n",
       "       [0., 0., 0., 0.],\n",
       "       [0., 0., 0., 0.],\n",
       "       [0., 0., 0., 0.],\n",
       "       [0., 0., 0., 0.],\n",
       "       [0., 0., 0., 0.],\n",
       "       [0., 0., 0., 0.],\n",
       "       [0., 0., 0., 0.],\n",
       "       [0., 0., 0., 0.],\n",
       "       [0., 0., 0., 0.],\n",
       "       [0., 0., 0., 0.],\n",
       "       [0., 0., 0., 0.],\n",
       "       [0., 0., 0., 0.]])"
      ]
     },
     "execution_count": 110,
     "metadata": {},
     "output_type": "execute_result"
    }
   ],
   "source": [
    "np.concatenate((a, b))"
   ]
  },
  {
   "cell_type": "code",
   "execution_count": 115,
   "id": "distributed-magnitude",
   "metadata": {},
   "outputs": [
    {
     "data": {
      "text/plain": [
       "array([[4.24399158e-313, 0.00000000e+000, 4.24399158e-313,\n",
       "        4.94065646e-323]])"
      ]
     },
     "execution_count": 115,
     "metadata": {},
     "output_type": "execute_result"
    }
   ],
   "source": [
    "c = np.empty((1, 4))\n",
    "c"
   ]
  },
  {
   "cell_type": "code",
   "execution_count": 130,
   "id": "later-midwest",
   "metadata": {},
   "outputs": [
    {
     "ename": "ValueError",
     "evalue": "all the input array dimensions for the concatenation axis must match exactly, but along dimension 1, the array at index 0 has size 4 and the array at index 1 has size 0",
     "output_type": "error",
     "traceback": [
      "\u001b[0;31m---------------------------------------------------------------------------\u001b[0m",
      "\u001b[0;31mValueError\u001b[0m                                Traceback (most recent call last)",
      "\u001b[0;32m<ipython-input-130-8e08387ef37f>\u001b[0m in \u001b[0;36m<module>\u001b[0;34m\u001b[0m\n\u001b[0;32m----> 1\u001b[0;31m \u001b[0mnp\u001b[0m\u001b[0;34m.\u001b[0m\u001b[0mconcatenate\u001b[0m\u001b[0;34m(\u001b[0m\u001b[0;34m(\u001b[0m\u001b[0ma\u001b[0m\u001b[0;34m,\u001b[0m \u001b[0mc\u001b[0m\u001b[0;34m)\u001b[0m\u001b[0;34m)\u001b[0m\u001b[0;34m\u001b[0m\u001b[0;34m\u001b[0m\u001b[0m\n\u001b[0m",
      "\u001b[0;32m<__array_function__ internals>\u001b[0m in \u001b[0;36mconcatenate\u001b[0;34m(*args, **kwargs)\u001b[0m\n",
      "\u001b[0;31mValueError\u001b[0m: all the input array dimensions for the concatenation axis must match exactly, but along dimension 1, the array at index 0 has size 4 and the array at index 1 has size 0"
     ]
    }
   ],
   "source": [
    "np.concatenate((a, c))"
   ]
  },
  {
   "cell_type": "code",
   "execution_count": 152,
   "id": "marine-begin",
   "metadata": {},
   "outputs": [],
   "source": [
    "c = np.empty((1, 4), dtype=\"complex\")"
   ]
  },
  {
   "cell_type": "code",
   "execution_count": 215,
   "id": "responsible-witch",
   "metadata": {},
   "outputs": [
    {
     "data": {
      "text/plain": [
       "(13, 4)"
      ]
     },
     "execution_count": 215,
     "metadata": {},
     "output_type": "execute_result"
    }
   ],
   "source": [
    "np.delete(b, 0, axis=0).shape"
   ]
  },
  {
   "cell_type": "code",
   "execution_count": 147,
   "id": "appreciated-medium",
   "metadata": {},
   "outputs": [],
   "source": [
    "d = np.array([).shape"
   ]
  },
  {
   "cell_type": "code",
   "execution_count": 149,
   "id": "vulnerable-questionnaire",
   "metadata": {},
   "outputs": [
    {
     "ename": "AttributeError",
     "evalue": "'tuple' object has no attribute 'shape'",
     "output_type": "error",
     "traceback": [
      "\u001b[0;31m---------------------------------------------------------------------------\u001b[0m",
      "\u001b[0;31mAttributeError\u001b[0m                            Traceback (most recent call last)",
      "\u001b[0;32m<ipython-input-149-8c0510718afa>\u001b[0m in \u001b[0;36m<module>\u001b[0;34m\u001b[0m\n\u001b[0;32m----> 1\u001b[0;31m \u001b[0md\u001b[0m\u001b[0;34m.\u001b[0m\u001b[0mshape\u001b[0m\u001b[0;34m\u001b[0m\u001b[0;34m\u001b[0m\u001b[0m\n\u001b[0m",
      "\u001b[0;31mAttributeError\u001b[0m: 'tuple' object has no attribute 'shape'"
     ]
    }
   ],
   "source": [
    "d.shape"
   ]
  },
  {
   "cell_type": "code",
   "execution_count": 154,
   "id": "operating-vintage",
   "metadata": {},
   "outputs": [
    {
     "data": {
      "text/plain": [
       "(1, 4)"
      ]
     },
     "execution_count": 154,
     "metadata": {},
     "output_type": "execute_result"
    }
   ],
   "source": [
    "c.shape"
   ]
  },
  {
   "cell_type": "code",
   "execution_count": null,
   "id": "sophisticated-boulder",
   "metadata": {},
   "outputs": [],
   "source": []
  }
 ],
 "metadata": {
  "kernelspec": {
   "display_name": "Python 3",
   "language": "python",
   "name": "python3"
  },
  "language_info": {
   "codemirror_mode": {
    "name": "ipython",
    "version": 3
   },
   "file_extension": ".py",
   "mimetype": "text/x-python",
   "name": "python",
   "nbconvert_exporter": "python",
   "pygments_lexer": "ipython3",
   "version": "3.9.1"
  }
 },
 "nbformat": 4,
 "nbformat_minor": 5
}
