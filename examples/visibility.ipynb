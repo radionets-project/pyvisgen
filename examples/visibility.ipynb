{
 "cells": [
  {
   "cell_type": "markdown",
   "id": "important-excess",
   "metadata": {},
   "source": [
    "# Complete Simulation Chain for Visibility Calculation"
   ]
  },
  {
   "cell_type": "markdown",
   "id": "final-genetics",
   "metadata": {},
   "source": [
    "## Read in Config"
   ]
  },
  {
   "cell_type": "code",
   "execution_count": 1,
   "id": "allied-portugal",
   "metadata": {},
   "outputs": [],
   "source": [
    "import vipy.simulation.utils as ut\n",
    "import vipy.layouts.layouts as layouts\n",
    "import astropy.constants as const\n",
    "from astropy import units as un\n",
    "import time as t\n",
    "import numpy as np"
   ]
  },
  {
   "cell_type": "code",
   "execution_count": 2,
   "id": "neutral-degree",
   "metadata": {},
   "outputs": [],
   "source": [
    "# rc = ut.read_config('/net/nfshome/home/sfroese/vipy/config/default.toml')\n",
    "rc = ut.read_config(\"../config/test.toml\")\n",
    "array_layout = layouts.get_array_layout('eht')\n",
    "\n",
    "src_crd = rc['src_coord']\n",
    "wave1 = const.c/((float(rc['channel'].split(':')[0])-float(rc['channel'].split(':')[1]))*10**6/un.second)/un.meter\n",
    "wave2 = const.c/((float(rc['channel'].split(':')[0])+float(rc['channel'].split(':')[1]))*10**6/un.second)/un.meter"
   ]
  },
  {
   "cell_type": "markdown",
   "id": "narrative-sudan",
   "metadata": {},
   "source": [
    "## Generate (l,m)-plane / FOV"
   ]
  },
  {
   "cell_type": "code",
   "execution_count": 3,
   "id": "boring-impossible",
   "metadata": {},
   "outputs": [],
   "source": [
    "import vipy.simulation.scan as scan"
   ]
  },
  {
   "cell_type": "code",
   "execution_count": 4,
   "id": "unlimited-kelly",
   "metadata": {},
   "outputs": [],
   "source": [
    "grid = scan.create_bgrid(rc['fov_size'], 256, src_crd)\n",
    "lm = scan.lm(grid, src_crd)"
   ]
  },
  {
   "cell_type": "markdown",
   "id": "valid-genome",
   "metadata": {},
   "source": [
    "## Calculate Start and Stop times for every measurement"
   ]
  },
  {
   "cell_type": "code",
   "execution_count": 5,
   "id": "handled-atlanta",
   "metadata": {},
   "outputs": [
    {
     "name": "stdout",
     "output_type": "stream",
     "text": [
      "['2016:095:00:00:00.000' '2016:095:00:00:10.000' '2016:095:00:00:20.000'\n",
      " '2016:095:00:20:00.000' '2016:095:00:20:10.000' '2016:095:00:20:20.000'\n",
      " '2016:095:00:40:00.000' '2016:095:00:40:10.000' '2016:095:00:40:20.000'\n",
      " '2016:095:01:00:00.000' '2016:095:01:00:10.000' '2016:095:01:00:20.000'\n",
      " '2016:095:01:20:00.000' '2016:095:01:20:10.000' '2016:095:01:20:20.000']\n"
     ]
    }
   ],
   "source": [
    "time = ut.calc_time_steps(rc)\n",
    "print(time)"
   ]
  },
  {
   "cell_type": "markdown",
   "id": "naval-shareware",
   "metadata": {},
   "source": [
    "## Calculate Baselines for one measurement"
   ]
  },
  {
   "cell_type": "code",
   "execution_count": 9,
   "id": "intensive-albania",
   "metadata": {},
   "outputs": [],
   "source": [
    "baselines = scan.get_baselines(src_crd, time[0:3], array_layout)"
   ]
  },
  {
   "cell_type": "code",
   "execution_count": 10,
   "id": "bacterial-pressing",
   "metadata": {},
   "outputs": [
    {
     "data": {
      "text/plain": [
       "(24,)"
      ]
     },
     "execution_count": 10,
     "metadata": {},
     "output_type": "execute_result"
    }
   ],
   "source": [
    "st1,st2 = scan.get_valid_baselines(baselines,28)\n",
    "st1.shape"
   ]
  },
  {
   "cell_type": "markdown",
   "id": "alpine-counter",
   "metadata": {},
   "source": [
    "## Calculate Mueller/Jones matrices"
   ]
  },
  {
   "cell_type": "code",
   "execution_count": 11,
   "id": "royal-victoria",
   "metadata": {},
   "outputs": [],
   "source": [
    "import numpy as np\n",
    "import torch"
   ]
  },
  {
   "cell_type": "code",
   "execution_count": 12,
   "id": "adjustable-interference",
   "metadata": {},
   "outputs": [
    {
     "name": "stdout",
     "output_type": "stream",
     "text": [
      "CPU times: user 4.34 s, sys: 1.77 s, total: 6.11 s\n",
      "Wall time: 868 ms\n"
     ]
    }
   ],
   "source": [
    "%%time\n",
    "start = t.time()\n",
    "torch.set_num_threads(8)\n",
    "JJ_f1 = scan.getJones(lm, baselines, wave1, time[0:3], src_crd, array_layout)\n",
    "JJ_f2 = scan.getJones(lm, baselines, wave2, time[0:3], src_crd, array_layout)"
   ]
  },
  {
   "cell_type": "markdown",
   "id": "robust-jacksonville",
   "metadata": {},
   "source": [
    "## Open Source Image and compute Stokes vector"
   ]
  },
  {
   "cell_type": "code",
   "execution_count": 13,
   "id": "connected-affiliate",
   "metadata": {},
   "outputs": [],
   "source": [
    "from astropy.io import fits\n",
    "import matplotlib.pyplot as plt\n",
    "import torch"
   ]
  },
  {
   "cell_type": "code",
   "execution_count": 14,
   "id": "prescribed-member",
   "metadata": {},
   "outputs": [],
   "source": [
    "hdul = fits.open('celestial-03-05.fits')\n",
    "img = hdul[0].data.astype(np.float32)\n",
    "img = torch.tensor(img)\n",
    "\n",
    "I = torch.zeros((img.shape[0],img.shape[1],4), dtype=torch.cdouble)\n",
    "I[...,0] = img\n",
    "I[...,1] = img*torch.sqrt(torch.tensor(0.5))\n",
    "I[...,2] = img*torch.sqrt(torch.tensor(0.5))\n",
    "# plt.imshow((I[...,1]+I[...,2]).real)\n",
    "# plt.colorbar()"
   ]
  },
  {
   "cell_type": "markdown",
   "id": "moved-globe",
   "metadata": {},
   "source": [
    "## Integration"
   ]
  },
  {
   "cell_type": "code",
   "execution_count": 15,
   "id": "twelve-earth",
   "metadata": {},
   "outputs": [
    {
     "name": "stdout",
     "output_type": "stream",
     "text": [
      "0.0001830982550547064\n",
      "7.885825872421265\n",
      "CPU times: user 1.64 s, sys: 1.33 s, total: 2.97 s\n",
      "Wall time: 372 ms\n"
     ]
    }
   ],
   "source": [
    "%%time\n",
    "delta_t = rc['corr_int_time']\n",
    "delta_f = float(rc['channel'].split(':')[1])*10**6\n",
    "delta_l = np.abs(lm[255,0,0]-lm[0,0,0])\n",
    "delta_m = np.abs(lm[0,255,0]-lm[0,0,0])\n",
    "print(delta_l)\n",
    "\n",
    "integral = scan.integrate(JJ_f1, JJ_f2, I, 2, delta_t, delta_f, delta_l, delta_m)\n",
    "integral.shape\n",
    "end = t.time()\n",
    "print(end - start)"
   ]
  },
  {
   "cell_type": "code",
   "execution_count": 16,
   "id": "infinite-working",
   "metadata": {},
   "outputs": [
    {
     "data": {
      "text/plain": [
       "torch.Size([12, 4])"
      ]
     },
     "execution_count": 16,
     "metadata": {},
     "output_type": "execute_result"
    }
   ],
   "source": [
    "integral.shape"
   ]
  },
  {
   "cell_type": "code",
   "execution_count": 17,
   "id": "increasing-stomach",
   "metadata": {},
   "outputs": [
    {
     "data": {
      "text/plain": [
       "tensor([[ 1.5361e-04+1.9068e-04j,  1.1414e-04+1.4162e-04j,\n",
       "          7.3597e-05+9.1274e-05j,  5.4686e-05+6.7790e-05j],\n",
       "        [-2.8102e-05-3.3827e-05j, -5.9045e-06-7.1092e-06j,\n",
       "         -2.1364e-04-2.5706e-04j, -4.4891e-05-5.4023e-05j],\n",
       "        [-2.5165e-04-3.9236e-05j, -1.8750e-04-2.9215e-05j,\n",
       "         -1.9086e-03-2.9781e-04j, -1.4220e-03-2.2175e-04j],\n",
       "        [-4.0103e-05-3.6748e-05j, -1.9255e-05-1.7631e-05j,\n",
       "         -3.0474e-04-2.7937e-04j, -1.4632e-04-1.3404e-04j],\n",
       "        [ 8.5381e-04+1.6212e-03j,  1.7994e-04+3.4074e-04j,\n",
       "          6.3850e-04+1.2062e-03j,  1.3456e-04+2.5352e-04j],\n",
       "        [-5.4484e-04-4.4131e-04j, -1.1451e-04-9.2606e-05j,\n",
       "         -2.6166e-04-2.1069e-04j, -5.4996e-05-4.4211e-05j],\n",
       "        [ 5.9552e-04-4.8154e-04j,  4.4461e-04-3.5925e-04j,\n",
       "          2.8795e-04-2.3250e-04j,  2.1498e-04-1.7346e-04j],\n",
       "        [-4.0878e-05+8.8357e-05j, -8.6069e-06+1.8604e-05j,\n",
       "         -3.0934e-04+6.6865e-04j, -6.5133e-05+1.4079e-04j],\n",
       "        [-2.7928e-04+5.8787e-07j, -2.0811e-04+4.7478e-07j,\n",
       "         -2.1179e-03+4.0211e-06j, -1.5782e-03+3.2739e-06j],\n",
       "        [ 6.4062e-06+3.1155e-05j,  3.1058e-06+1.5054e-05j,\n",
       "          4.8391e-05+2.3583e-04j,  2.3462e-05+1.1395e-04j],\n",
       "        [ 6.7251e-04-6.9413e-04j,  1.4107e-04-1.4622e-04j,\n",
       "          4.9845e-04-5.1865e-04j,  1.0455e-04-1.0926e-04j],\n",
       "        [ 1.5503e-03-5.0872e-04j,  3.2644e-04-1.0724e-04j,\n",
       "          7.4950e-04-2.4697e-04j,  1.5781e-04-5.2061e-05j]],\n",
       "       dtype=torch.complex128)"
      ]
     },
     "execution_count": 17,
     "metadata": {},
     "output_type": "execute_result"
    }
   ],
   "source": [
    "integral"
   ]
  },
  {
   "cell_type": "markdown",
   "id": "loose-footage",
   "metadata": {},
   "source": [
    "## All scan loop"
   ]
  },
  {
   "cell_type": "code",
   "execution_count": 18,
   "id": "italic-proportion",
   "metadata": {},
   "outputs": [],
   "source": [
    "from tqdm import tqdm"
   ]
  },
  {
   "cell_type": "code",
   "execution_count": 19,
   "id": "steady-amplifier",
   "metadata": {},
   "outputs": [],
   "source": [
    "torch.set_num_threads(12)"
   ]
  },
  {
   "cell_type": "code",
   "execution_count": 20,
   "id": "serial-connectivity",
   "metadata": {},
   "outputs": [],
   "source": [
    "hdul = fits.open('celestial-03-05.fits')\n",
    "img = hdul[0].data.astype(np.float32)\n",
    "img = torch.tensor(img)\n",
    "\n",
    "I = torch.zeros((img.shape[0],img.shape[1],4), dtype=torch.cdouble)\n",
    "I[...,0] = img\n",
    "I[...,1] = img*torch.sqrt(torch.tensor(0.5))\n",
    "I[...,2] = img*torch.sqrt(torch.tensor(0.5))"
   ]
  },
  {
   "cell_type": "code",
   "execution_count": 21,
   "id": "moderate-jacob",
   "metadata": {},
   "outputs": [
    {
     "name": "stderr",
     "output_type": "stream",
     "text": [
      "\r",
      "  0%|          | 0/5 [00:00<?, ?it/s]"
     ]
    },
    {
     "name": "stdout",
     "output_type": "stream",
     "text": [
      "['2016:095:00:00:00.000' '2016:095:00:00:10.000' '2016:095:00:00:20.000']\n",
      "torch.Size([256, 256, 24, 4, 4])\n"
     ]
    },
    {
     "name": "stderr",
     "output_type": "stream",
     "text": [
      "\r",
      " 20%|██        | 1/5 [00:01<00:05,  1.32s/it]"
     ]
    },
    {
     "name": "stdout",
     "output_type": "stream",
     "text": [
      "torch.Size([12, 4])\n",
      "['2016:095:00:20:00.000' '2016:095:00:20:10.000' '2016:095:00:20:20.000']\n",
      "torch.Size([256, 256, 24, 4, 4])\n"
     ]
    },
    {
     "name": "stderr",
     "output_type": "stream",
     "text": [
      "\r",
      " 40%|████      | 2/5 [00:02<00:03,  1.27s/it]"
     ]
    },
    {
     "name": "stdout",
     "output_type": "stream",
     "text": [
      "torch.Size([12, 4])\n",
      "['2016:095:00:40:00.000' '2016:095:00:40:10.000' '2016:095:00:40:20.000']\n",
      "torch.Size([256, 256, 24, 4, 4])\n"
     ]
    },
    {
     "name": "stderr",
     "output_type": "stream",
     "text": [
      "\r",
      " 60%|██████    | 3/5 [00:03<00:02,  1.27s/it]"
     ]
    },
    {
     "name": "stdout",
     "output_type": "stream",
     "text": [
      "torch.Size([12, 4])\n",
      "['2016:095:01:00:00.000' '2016:095:01:00:10.000' '2016:095:01:00:20.000']\n",
      "torch.Size([256, 256, 40, 4, 4])\n"
     ]
    },
    {
     "name": "stderr",
     "output_type": "stream",
     "text": [
      "\r",
      " 80%|████████  | 4/5 [00:05<00:01,  1.57s/it]"
     ]
    },
    {
     "name": "stdout",
     "output_type": "stream",
     "text": [
      "torch.Size([20, 4])\n",
      "['2016:095:01:20:00.000' '2016:095:01:20:10.000' '2016:095:01:20:20.000']\n",
      "torch.Size([256, 256, 40, 4, 4])\n"
     ]
    },
    {
     "name": "stderr",
     "output_type": "stream",
     "text": [
      "100%|██████████| 5/5 [00:07<00:00,  1.55s/it]"
     ]
    },
    {
     "name": "stdout",
     "output_type": "stream",
     "text": [
      "torch.Size([20, 4])\n"
     ]
    },
    {
     "name": "stderr",
     "output_type": "stream",
     "text": [
      "\n"
     ]
    }
   ],
   "source": [
    "integral2 = np.array([])\n",
    "#i in total number of scans\n",
    "for i in tqdm(range(5)):\n",
    "    t = time[i*3:(i+1)*3]\n",
    "    print(t)\n",
    "    baselines = scan.get_baselines(src_crd, t, array_layout)\n",
    "    \n",
    "    JJ_f1 = scan.getJones(lm, baselines, wave1, time, src_crd, array_layout)\n",
    "    if JJ_f1.shape[0] == 1:\n",
    "        continue\n",
    "    JJ_f2 = scan.getJones(lm, baselines, wave2, time, src_crd, array_layout)\n",
    "    print(JJ_f1.shape)\n",
    "\n",
    "    delta_t = rc['corr_int_time']\n",
    "    delta_f = float(rc['channel'].split(':')[1])*10**6\n",
    "    delta_l = np.abs(lm[255,0,0]-lm[0,0,0])\n",
    "    delta_m = np.abs(lm[0,255,0]-lm[0,0,0])\n",
    "\n",
    "    integral2 = np.append(integral2,scan.integrate(JJ_f1, JJ_f2, I, 1, delta_t, delta_f, delta_l, delta_m))\n",
    "    print(scan.integrate(JJ_f1, JJ_f2, I, 1, delta_t, delta_f, delta_l, delta_m).shape)\n"
   ]
  },
  {
   "cell_type": "code",
   "execution_count": 22,
   "id": "material-amendment",
   "metadata": {},
   "outputs": [
    {
     "data": {
      "text/plain": [
       "(76, 4)"
      ]
     },
     "execution_count": 22,
     "metadata": {},
     "output_type": "execute_result"
    }
   ],
   "source": [
    "integral2 = integral2.reshape(-1, 4)\n",
    "integral2.shape"
   ]
  },
  {
   "cell_type": "code",
   "execution_count": 23,
   "id": "successful-acting",
   "metadata": {},
   "outputs": [
    {
     "data": {
      "text/plain": [
       "array([[ 1.53612899e-04+1.90676783e-04j,  1.14141954e-04+1.41617666e-04j,\n",
       "         7.35971038e-05+9.12743238e-05j,  5.46863474e-05+6.77900666e-05j],\n",
       "       [-2.81018771e-05-3.38269257e-05j, -5.90449958e-06-7.10918501e-06j,\n",
       "        -2.13644516e-04-2.57055912e-04j, -4.48908888e-05-5.40231247e-05j],\n",
       "       [-2.51645387e-04-3.92362273e-05j, -1.87497428e-04-2.92153587e-05j,\n",
       "        -1.90856809e-03-2.97811602e-04j, -1.42204854e-03-2.21749704e-04j],\n",
       "       [-4.01032593e-05-3.67481010e-05j, -1.92551559e-05-1.76313244e-05j,\n",
       "        -3.04738026e-04-2.79365935e-04j, -1.46316266e-04-1.34036862e-04j],\n",
       "       [ 8.53807108e-04+1.62116480e-03j,  1.79940550e-04+3.40743219e-04j,\n",
       "         6.38498739e-04+1.20616134e-03j,  1.34562592e-04+2.53517255e-04j],\n",
       "       [-5.44844249e-04-4.41314109e-04j, -1.14514922e-04-9.26055641e-05j,\n",
       "        -2.61663887e-04-2.10690378e-04j, -5.49958196e-05-4.42107218e-05j],\n",
       "       [ 5.95518459e-04-4.81535613e-04j,  4.44610567e-04-3.59247498e-04j,\n",
       "         2.87945009e-04-2.32503148e-04j,  2.14977881e-04-1.73458135e-04j],\n",
       "       [-4.08778434e-05+8.83569615e-05j, -8.60686477e-06+1.86038196e-05j,\n",
       "        -3.09338674e-04+6.68646568e-04j, -6.51329608e-05+1.40785826e-04j],\n",
       "       [-2.79276669e-04+5.87873677e-07j, -2.08107141e-04+4.74781251e-07j,\n",
       "        -2.11787120e-03+4.02108196e-06j, -1.57816395e-03+3.27386276e-06j],\n",
       "       [ 6.40620348e-06+3.11552032e-05j,  3.10582973e-06+1.50537842e-05j,\n",
       "         4.83908821e-05+2.35830237e-04j,  2.34617959e-05+1.13950761e-04j],\n",
       "       [ 6.72514850e-04-6.94134498e-04j,  1.41069228e-04-1.46224706e-04j,\n",
       "         4.98447065e-04-5.18652408e-04j,  1.04552990e-04-1.09256915e-04j],\n",
       "       [ 1.55033136e-03-5.08722036e-04j,  3.26435907e-04-1.07239040e-04j,\n",
       "         7.49495797e-04-2.46969724e-04j,  1.57813111e-04-5.20605978e-05j],\n",
       "       [-6.57154921e-04-8.75760575e-04j, -4.88837692e-04-6.52884612e-04j,\n",
       "        -3.15518894e-04-4.22260733e-04j, -2.34705040e-04-3.14797369e-04j],\n",
       "       [ 1.49388879e-05-4.20393321e-05j,  3.14058510e-06-8.83930294e-06j,\n",
       "         1.13450703e-04-3.19112070e-04j,  2.38496983e-05-6.70979249e-05j],\n",
       "       [ 3.48218810e-05+1.85733616e-04j,  2.58900886e-05+1.38136082e-04j,\n",
       "         2.64762312e-04+1.41168178e-03j,  1.96851269e-04+1.04991301e-03j],\n",
       "       [-2.29217250e-05+1.49187604e-05j, -1.10133575e-05+7.18181091e-06j,\n",
       "        -1.74103460e-04+1.13184330e-04j, -8.36526654e-05+5.44865934e-05j],\n",
       "       [-2.99354027e-03+8.65663560e-04j, -6.29288742e-04+1.81850438e-04j,\n",
       "        -2.22784577e-03+6.43395508e-04j, -4.68327417e-04+1.35157922e-04j],\n",
       "       [ 2.70322513e-03+4.31704170e-03j,  5.68679635e-04+9.07890767e-04j,\n",
       "         1.30258671e-03+2.07780674e-03j,  2.74025613e-04+4.36970995e-04j],\n",
       "       [ 2.41963656e-04-1.35011106e-03j,  1.80731725e-04-1.00616688e-03j,\n",
       "         1.17097689e-04-6.50541873e-04j,  8.74644776e-05-4.84815404e-04j],\n",
       "       [-4.47851894e-05-5.53724459e-05j, -9.43048470e-06-1.16528240e-05j,\n",
       "        -3.38846940e-04-4.19510730e-04j, -7.13517687e-05-8.82844523e-05j],\n",
       "       [-2.36122915e-05+1.34135957e-05j, -1.76185874e-05+1.00033783e-05j,\n",
       "        -1.78781036e-04+1.01627697e-04j, -1.33399618e-04+7.57889476e-05j],\n",
       "       [-4.21393842e-06+9.09397646e-05j, -2.02317914e-06+4.39303195e-05j,\n",
       "        -3.20197649e-05+6.88476849e-04j, -1.53745448e-05+3.32582143e-04j],\n",
       "       [ 8.77918785e-04+5.48938795e-05j,  1.85078021e-04+1.16148974e-05j,\n",
       "         6.56906641e-04+4.13588437e-05j,  1.38484633e-04+8.74991690e-06j],\n",
       "       [ 3.32444100e-03+4.25903839e-03j,  6.99306082e-04+8.95989639e-04j,\n",
       "         1.60143240e-03+2.05238247e-03j,  3.36865880e-04+4.31767333e-04j],\n",
       "       [ 9.83296410e-04+5.33340376e-04j,  7.31060655e-04+3.96569410e-04j,\n",
       "         4.71631100e-04+2.55864934e-04j,  3.50647431e-04+1.90250219e-04j],\n",
       "       [-1.69839652e-05-2.69169697e-05j, -3.57029108e-06-5.65869117e-06j,\n",
       "        -1.28992273e-04-2.04400670e-04j, -2.71158612e-05-4.29707219e-05j],\n",
       "       [-5.40412432e-05-3.06922317e-06j, -4.02405489e-05-2.28554096e-06j,\n",
       "        -4.10167940e-04-2.32960694e-05j, -3.05420592e-04-1.73465201e-05j],\n",
       "       [-3.83766675e-05+7.97180732e-06j, -1.84517031e-05+3.83673367e-06j,\n",
       "        -2.91370591e-04+6.04858345e-05j, -1.40092857e-04+2.91125476e-05j],\n",
       "       [ 2.36658219e-03+2.41068527e-03j,  4.97821162e-04+5.06655580e-04j,\n",
       "         1.76346862e-03+1.79335135e-03j,  3.70953120e-04+3.76911048e-04j],\n",
       "       [ 1.35551042e-04+7.35559692e-04j,  2.84776038e-05+1.54682045e-04j,\n",
       "         6.49959159e-05+3.53951271e-04j,  1.36550104e-05+7.44329199e-05j],\n",
       "       [ 1.28582411e-04+2.78558213e-04j,  9.61782842e-05+2.07991267e-04j,\n",
       "         6.23955415e-05+1.34715014e-04j,  4.66707609e-05+1.00587733e-04j],\n",
       "       [-8.20255703e-07-1.90344238e-05j, -1.71295781e-07-4.00511693e-06j,\n",
       "        -6.31308167e-06-1.44257617e-04j, -1.31925895e-06-3.03537869e-05j],\n",
       "       [-5.47624998e-05+7.22021409e-05j, -4.08256195e-05+5.38966990e-05j,\n",
       "        -4.15067582e-04+5.46415227e-04j, -3.09433328e-04+4.07882771e-04j],\n",
       "       [ 2.36251044e-05+4.50494436e-05j,  1.14533729e-05+2.17615950e-05j,\n",
       "         1.78467215e-04+3.41056436e-04j,  8.65215916e-05+1.64752529e-04j],\n",
       "       [ 3.47950874e-03+1.05078272e-03j,  7.32072152e-04+2.21151826e-04j,\n",
       "         2.59372883e-03+7.83770667e-04j,  5.45708634e-04+1.64955594e-04j],\n",
       "       [-7.46048147e-05-1.12218337e-04j, -1.57011284e-05-2.37412234e-05j,\n",
       "        -3.60031912e-05-5.51968202e-05j, -7.57702041e-06-1.16765735e-05j],\n",
       "       [ 3.58201011e-04-6.11310935e-04j,  2.67155986e-04-4.54759772e-04j,\n",
       "         1.72855004e-04-2.93537797e-04j,  1.28918743e-04-2.18365825e-04j],\n",
       "       [-2.65714737e-05-3.57752865e-05j, -5.59042214e-06-7.52433209e-06j,\n",
       "        -2.01410456e-04-2.71420868e-04j, -4.23765892e-05-5.70835417e-05j],\n",
       "       [ 6.68427614e-02+2.21039730e-02j,  1.40461225e-02+4.64480417e-03j,\n",
       "        -7.54841240e-02-2.49614626e-02j, -1.58619891e-02-5.24526012e-03j],\n",
       "       [-3.91604582e-03+1.43098447e-03j, -2.91233895e-03+1.06420428e-03j,\n",
       "        -2.97659838e-02+1.08770748e-02j, -2.21367784e-02+8.08913833e-03j],\n",
       "       [-1.25865358e-05+8.37150970e-06j, -6.04539263e-06+4.02855293e-06j,\n",
       "        -9.56227448e-05+6.35252837e-05j, -4.59280674e-05+3.05704127e-05j],\n",
       "       [ 1.16961862e-05-1.77618789e-06j, -1.32096794e-05+2.00352690e-06j,\n",
       "         8.88270471e-05-1.35939337e-05j, -1.00322456e-04+1.53366725e-05j],\n",
       "       [-8.95807409e-04+7.51938484e-04j, -1.88089242e-04+1.58133709e-04j,\n",
       "        -6.65172204e-04+5.60042722e-04j, -1.39663796e-04+1.17778230e-04j],\n",
       "       [ 8.96441473e-04-1.17205325e-03j,  1.88329509e-04-2.46273529e-04j,\n",
       "         4.29819244e-04-5.62319896e-04j,  9.02986751e-05-1.18155520e-04j],\n",
       "       [ 1.49654254e-04-1.07916657e-04j,  1.11330349e-04-8.05274483e-05j,\n",
       "        -1.69009881e-04+1.21934934e-04j, -1.25729310e-04+9.09875487e-05j],\n",
       "       [ 9.85357545e-05+5.17048997e-06j,  4.74683461e-05+2.43000348e-06j,\n",
       "        -1.11310219e-04-5.82886957e-06j, -5.36221166e-05-2.73894262e-06j],\n",
       "       [ 8.95845277e-04+2.62031258e-04j,  6.67918542e-04+1.95726533e-04j,\n",
       "         4.32020657e-04+1.26816277e-04j,  3.22102827e-04+9.47259893e-05j],\n",
       "       [-9.21819386e-05+9.34695638e-05j, -1.94013079e-05+1.96856529e-05j,\n",
       "        -6.98224526e-04+7.06896478e-04j, -1.46953896e-04+1.48881003e-04j],\n",
       "       [ 1.14513906e-03-5.51795318e-04j,  2.41060679e-04-1.16137068e-04j,\n",
       "        -1.29388651e-03+6.23437282e-04j, -2.72373054e-04+1.31215744e-04j],\n",
       "       [-5.20652470e-05-1.04259047e-05j, -3.88212248e-05-7.78766913e-06j,\n",
       "        -3.94545656e-04-7.88427004e-05j, -2.94183697e-04-5.88914442e-05j],\n",
       "       [-1.52432442e-05+1.61147551e-05j, -7.36200691e-06+7.77737064e-06j,\n",
       "        -1.15414805e-04+1.22069157e-04j, -5.57427904e-05+5.89130825e-05j],\n",
       "       [-2.79638489e-06+4.50198707e-06j,  3.16153081e-06-5.08505580e-06j,\n",
       "        -2.10878676e-05+3.41662040e-05j,  2.38403153e-05-3.85915719e-05j],\n",
       "       [-1.84861897e-03-5.52857110e-04j, -3.89367191e-04-1.16525432e-04j,\n",
       "        -1.38089106e-03-4.13508938e-04j, -2.90851856e-04-8.71542688e-05j],\n",
       "       [-4.83570994e-04+4.08066393e-04j, -1.01767475e-04+8.58986508e-05j,\n",
       "        -2.33337515e-04+1.97080801e-04j, -4.91061631e-05+4.14858773e-05j],\n",
       "       [ 5.29251547e-06-1.46812194e-04j,  3.91554750e-06-1.09313724e-04j,\n",
       "        -5.97174152e-06+1.65824509e-04j, -4.41789892e-06+1.23469371e-04j],\n",
       "       [ 1.67477047e-04+1.12852988e-04j,  8.07628080e-05+5.45953025e-05j,\n",
       "        -1.89205506e-04-1.27528982e-04j, -9.12411596e-05-6.16950142e-05j],\n",
       "       [ 1.28713725e-04-1.45451213e-04j,  9.56355572e-05-1.08307676e-04j,\n",
       "         6.16613927e-05-6.99733161e-05j,  4.58147203e-05-5.21044263e-05j],\n",
       "       [-1.77923868e-05-6.08783040e-06j, -3.74029410e-06-1.27892567e-06j,\n",
       "        -1.35122576e-04-4.62900534e-05j, -2.84054346e-05-9.72575523e-06j],\n",
       "       [ 2.91978069e-02-2.47622698e-03j,  6.13554000e-03-5.20324019e-04j,\n",
       "        -3.29724805e-02+2.79631391e-03j, -6.92873795e-03+5.87583075e-04j],\n",
       "       [-1.83035011e-04+2.11360936e-05j, -1.36280995e-04+1.57448947e-05j,\n",
       "        -1.38934988e-03+1.60344362e-04j, -1.03445756e-03+1.19444740e-04j],\n",
       "       [-6.45215396e-05-7.11616751e-05j, -3.10723238e-05-3.42326284e-05j,\n",
       "        -4.89395011e-04-5.40117704e-04j, -2.35681926e-04-2.59825989e-04j],\n",
       "       [ 1.11376668e-05-8.59102833e-06j, -1.25806828e-05+9.70564425e-06j,\n",
       "         8.45074821e-05-6.51092153e-05j, -9.54561335e-05+7.35564714e-05j],\n",
       "       [ 3.77340193e-04+1.61545367e-03j,  7.94042526e-05+3.39636293e-04j,\n",
       "         2.81373240e-04+1.20253774e-03j,  5.92099288e-05+2.52823787e-04j],\n",
       "       [ 3.69793886e-04-7.25077635e-04j,  7.77527758e-05-1.52356128e-04j,\n",
       "         1.77847181e-04-3.47887736e-04j,  3.73944729e-05-7.30995626e-05j],\n",
       "       [ 1.64944897e-04+3.68982782e-04j,  1.22724640e-04+2.74712304e-04j,\n",
       "        -1.86282960e-04-4.16759465e-04j, -1.38600731e-04-3.10282842e-04j],\n",
       "       [-1.10644621e-04-1.26241802e-04j, -5.35464868e-05-6.07895043e-05j,\n",
       "         1.25037290e-04+1.42602982e-04j,  6.05118076e-05+6.86679196e-05j],\n",
       "       [-1.15344470e-03+3.13266903e-04j, -8.60879845e-04+2.33970120e-04j,\n",
       "        -5.57370833e-04+1.51578970e-04j, -4.15996804e-04+1.13209807e-04j],\n",
       "       [-2.56591003e-05-1.06955987e-06j, -5.40085879e-06-2.25277402e-07j,\n",
       "        -1.94316227e-04-8.07893670e-06j, -4.09007850e-05-1.70246400e-06j],\n",
       "       [-1.68601353e-04+2.01920734e-04j, -3.55229647e-05+4.24923339e-05j,\n",
       "         1.90553312e-04-2.28126694e-04j,  4.01480657e-05-4.80071282e-05j],\n",
       "       [-1.15538596e-04+6.22317184e-06j, -8.60802762e-05+4.61890441e-06j,\n",
       "        -8.76355238e-04+4.74127866e-05j, -6.52916316e-04+3.51908907e-05j],\n",
       "       [-8.67517279e-05-6.79564907e-05j, -4.18199596e-05-3.27619755e-05j,\n",
       "        -6.57606317e-04-5.15107900e-04j, -3.17007960e-04-2.48333963e-04j],\n",
       "       [ 1.62292728e-05-2.16320090e-05j, -1.83350769e-05+2.44391986e-05j,\n",
       "         1.22979270e-04-1.63910061e-04j, -1.38937316e-04+1.85180869e-04j],\n",
       "       [ 1.47760754e-03-1.12880028e-03j,  3.10989731e-04-2.37832623e-04j,\n",
       "         1.10217953e-03-8.43723698e-04j,  2.31973713e-04-1.77768782e-04j],\n",
       "       [ 3.76916270e-04+3.34402654e-04j,  7.93115155e-05+7.03974501e-05j,\n",
       "         1.81784896e-04+1.61547766e-04j,  3.82516120e-05+3.40088050e-05j],\n",
       "       [ 3.33957683e-04+2.16833942e-04j,  2.49218399e-04+1.61545333e-04j,\n",
       "        -3.77342741e-04-2.44937221e-04j, -2.81594890e-04-1.82482590e-04j],\n",
       "       [-2.55178851e-04-2.17741906e-04j, -1.22882844e-04-1.05031493e-04j,\n",
       "         2.88251606e-04+2.45997584e-04j,  1.38809524e-04+1.18661148e-04j]])"
      ]
     },
     "execution_count": 23,
     "metadata": {},
     "output_type": "execute_result"
    }
   ],
   "source": [
    "integral2"
   ]
  },
  {
   "cell_type": "code",
   "execution_count": null,
   "id": "numerous-mistake",
   "metadata": {},
   "outputs": [],
   "source": []
  }
 ],
 "metadata": {
  "kernelspec": {
   "display_name": "Python 3",
   "language": "python",
   "name": "python3"
  },
  "language_info": {
   "codemirror_mode": {
    "name": "ipython",
    "version": 3
   },
   "file_extension": ".py",
   "mimetype": "text/x-python",
   "name": "python",
   "nbconvert_exporter": "python",
   "pygments_lexer": "ipython3",
   "version": "3.8.5"
  }
 },
 "nbformat": 4,
 "nbformat_minor": 5
}
