{
 "cells": [
  {
   "cell_type": "markdown",
   "id": "0",
   "metadata": {},
   "source": [
    "# Understanding the RIME formalism for visibility simulations\n",
    "\n",
    "In this notebook, we discuss the radio interferometer measurement equation and explain how it can be used to simulate the visibilities for a radio interferometer observation. We follow explanations and conventions from O. Smirnov. For more background information we recommend to read his \"Revisiting the radio interferometer measurement quation\" paper series, which provides an excelent introduction and overview. ([Smirnov, A&A, Volume 527, March 2011](https://www.aanda.org/articles/aa/abs/2011/03/aa16082-10/aa16082-10.html))\n",
    "\n",
    "Our software package $\\texttt{pyvisgen}$ is a Python based implementation of the [VISGEN tool](https://github.com/piyanatk/MAPS/tree/master/visgen) developed at Haystack Observatory. We implemented the complete matrix calculation framework in PyTorch to enable GPU support. In the following, an introduction to the basic functionality is given."
   ]
  },
  {
   "cell_type": "code",
   "execution_count": null,
   "id": "1",
   "metadata": {},
   "outputs": [],
   "source": [
    "import torch\n",
    "import numpy as np\n",
    "import matplotlib.pyplot as plt"
   ]
  },
  {
   "cell_type": "markdown",
   "id": "2",
   "metadata": {},
   "source": [
    "## Radio signals from brightnes distributions\n",
    "\n",
    "TODO: explain brightness distributions, radio signals, stokes, brightness matrix B (just basic, no polarization yet)\n",
    "\n",
    "\n",
    "defining FoV and pixel size"
   ]
  },
  {
   "cell_type": "code",
   "execution_count": null,
   "id": "3",
   "metadata": {},
   "outputs": [],
   "source": [
    "sky = torch.zeros((128, 128))\n",
    "sky[68, 68] = 0.75\n",
    "sky[45, 21] = 1.00\n",
    "sky[88, 73] = 1.12\n",
    "sky[11, 25] = 0.68\n",
    "sky[23, 34] = 1.04\n",
    "sky[83, 85] = 0.97\n",
    "\n",
    "fov = 10\n",
    "px_size = fov / sky.shape[0]\n",
    "\n",
    "fig, ax = plt.subplots(1)\n",
    "im1 = ax.imshow(\n",
    "    sky,\n",
    "    cmap=\"inferno\",\n",
    "    origin=\"lower\",\n",
    "    extent=[-5 * px_size, 5 * px_size, -5 * px_size, 5 * px_size],\n",
    ")\n",
    "ax.set_xlabel(\"rel. R.A. / asec\")\n",
    "ax.set_ylabel(\"rel. Dec. / asec\")\n",
    "cbar = fig.colorbar(im1, ax=ax, location=\"right\", shrink=1, pad=0.02)\n",
    "cbar.set_label(\"Flux density / Jy$\\cdot$px$^{-1}$\")\n",
    "ax.text(\n",
    "    -4.8 * px_size,\n",
    "    4 * px_size,\n",
    "    f\"FoV={fov}$\\,$asec\\n px={round(px_size, 2)}$\\,$asec\",\n",
    "    ha=\"left\",\n",
    "    size=11,\n",
    "    color=\"white\",\n",
    ")\n",
    "None"
   ]
  },
  {
   "cell_type": "code",
   "execution_count": null,
   "id": "4",
   "metadata": {},
   "outputs": [],
   "source": [
    "# Create Stokes vector for unpolarized emission\n",
    "I = torch.zeros((sky.shape[0], sky.shape[1], 4), dtype=torch.cdouble)\n",
    "I[..., 0] = sky  # Stokes I\n",
    "# I[...,1] = 0   Stokes Q\n",
    "# I[...,2] = 0   Stokes U\n",
    "# I[...,3] = 0   Stokes V\n",
    "\n",
    "# Create brightness matrix\n",
    "B = torch.zeros((sky.shape[0], sky.shape[1], 2, 2), dtype=torch.cdouble)\n",
    "B[:, :, 0, 0] = I[:, :, 0] + I[:, :, 1]\n",
    "B[:, :, 0, 1] = I[:, :, 2] + 1j * I[:, :, 3]\n",
    "B[:, :, 1, 0] = I[:, :, 2] - 1j * I[:, :, 3]\n",
    "B[:, :, 1, 1] = I[:, :, 0] - I[:, :, 1]\n",
    "\n",
    "fig, ((ax1, ax2), (ax3, ax4)) = plt.subplots(2, 2)\n",
    "im1 = ax1.imshow(B[..., 0, 0].real, cmap=\"inferno\", origin=\"lower\")\n",
    "im2 = ax2.imshow(B[..., 0, 1].real, cmap=\"inferno\", origin=\"lower\")\n",
    "im3 = ax3.imshow(B[..., 1, 0].real, cmap=\"inferno\", origin=\"lower\")\n",
    "im4 = ax4.imshow(B[..., 1, 1].real, cmap=\"inferno\", origin=\"lower\")\n",
    "\n",
    "ax1.text(5, 115, \"I + V\", ha=\"left\", size=11, color=\"white\")\n",
    "ax2.text(5, 115, \"Q + iU\", ha=\"left\", size=11, color=\"white\")\n",
    "ax3.text(5, 115, \"Q - iU\", ha=\"left\", size=11, color=\"white\")\n",
    "ax4.text(5, 115, \"I - V\", ha=\"left\", size=11, color=\"white\")\n",
    "\n",
    "ax1.axis(\"off\")\n",
    "ax2.axis(\"off\")\n",
    "ax3.axis(\"off\")\n",
    "ax4.axis(\"off\")\n",
    "fig.tight_layout()"
   ]
  },
  {
   "cell_type": "code",
   "execution_count": null,
   "id": "5",
   "metadata": {},
   "outputs": [],
   "source": []
  },
  {
   "cell_type": "code",
   "execution_count": null,
   "id": "6",
   "metadata": {},
   "outputs": [],
   "source": []
  },
  {
   "cell_type": "code",
   "execution_count": null,
   "id": "7",
   "metadata": {},
   "outputs": [],
   "source": []
  },
  {
   "cell_type": "code",
   "execution_count": null,
   "id": "8",
   "metadata": {},
   "outputs": [],
   "source": []
  },
  {
   "cell_type": "code",
   "execution_count": null,
   "id": "9",
   "metadata": {},
   "outputs": [],
   "source": []
  },
  {
   "cell_type": "code",
   "execution_count": null,
   "id": "10",
   "metadata": {},
   "outputs": [],
   "source": []
  },
  {
   "cell_type": "code",
   "execution_count": null,
   "id": "11",
   "metadata": {},
   "outputs": [],
   "source": []
  },
  {
   "cell_type": "markdown",
   "id": "12",
   "metadata": {},
   "source": [
    "## Radio interferometer layout and coordinate systems\n",
    "\n",
    "TODO: basics here, more insights in separate notebook?"
   ]
  },
  {
   "cell_type": "code",
   "execution_count": null,
   "id": "13",
   "metadata": {},
   "outputs": [],
   "source": []
  },
  {
   "cell_type": "markdown",
   "id": "14",
   "metadata": {},
   "source": [
    "## Visibility calculations"
   ]
  },
  {
   "cell_type": "code",
   "execution_count": null,
   "id": "15",
   "metadata": {},
   "outputs": [],
   "source": []
  },
  {
   "cell_type": "code",
   "execution_count": null,
   "id": "16",
   "metadata": {},
   "outputs": [],
   "source": []
  },
  {
   "cell_type": "code",
   "execution_count": null,
   "id": "17",
   "metadata": {},
   "outputs": [],
   "source": []
  },
  {
   "cell_type": "code",
   "execution_count": null,
   "id": "18",
   "metadata": {},
   "outputs": [],
   "source": []
  }
 ],
 "metadata": {
  "kernelspec": {
   "display_name": "Python 3 (ipykernel)",
   "language": "python",
   "name": "python3"
  },
  "language_info": {
   "codemirror_mode": {
    "name": "ipython",
    "version": 3
   },
   "file_extension": ".py",
   "mimetype": "text/x-python",
   "name": "python",
   "nbconvert_exporter": "python",
   "pygments_lexer": "ipython3",
   "version": "3.11.5"
  }
 },
 "nbformat": 4,
 "nbformat_minor": 5
}
