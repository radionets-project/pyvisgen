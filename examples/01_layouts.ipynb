{
 "cells": [
  {
   "cell_type": "code",
   "execution_count": 1,
   "id": "5b65f63b",
   "metadata": {},
   "outputs": [],
   "source": [
    "from pyvisgen.layouts.layouts import get_array_layout, Stations"
   ]
  },
  {
   "cell_type": "code",
   "execution_count": 2,
   "id": "dae31ddc",
   "metadata": {},
   "outputs": [],
   "source": [
    "vlba_layout = get_array_layout(\"vlba\")"
   ]
  },
  {
   "cell_type": "code",
   "execution_count": 5,
   "id": "48586eb1",
   "metadata": {},
   "outputs": [],
   "source": [
    "vla_layout = get_array_layout(\"vla\")"
   ]
  },
  {
   "cell_type": "code",
   "execution_count": 6,
   "id": "1813010a",
   "metadata": {},
   "outputs": [],
   "source": [
    "eht_layout = get_array_layout(\"eht\")"
   ]
  },
  {
   "cell_type": "code",
   "execution_count": null,
   "id": "1398748a",
   "metadata": {},
   "outputs": [],
   "source": []
  }
 ],
 "metadata": {
  "kernelspec": {
   "display_name": "Python 3 (ipykernel)",
   "language": "python",
   "name": "python3"
  },
  "language_info": {
   "codemirror_mode": {
    "name": "ipython",
    "version": 3
   },
   "file_extension": ".py",
   "mimetype": "text/x-python",
   "name": "python",
   "nbconvert_exporter": "python",
   "pygments_lexer": "ipython3",
   "version": "3.9.7"
  }
 },
 "nbformat": 4,
 "nbformat_minor": 5
}
