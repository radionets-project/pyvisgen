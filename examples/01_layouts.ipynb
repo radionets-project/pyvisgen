{
 "cells": [
  {
   "cell_type": "code",
   "execution_count": 1,
   "id": "5b65f63b",
   "metadata": {},
   "outputs": [],
   "source": [
    "from pyvisgen.layouts.layouts import get_array_layout, Stations"
   ]
  },
  {
   "cell_type": "code",
   "execution_count": 2,
   "id": "dae31ddc",
   "metadata": {},
   "outputs": [],
   "source": [
    "vlba_layout = get_array_layout(\"vlba\")"
   ]
  },
  {
   "cell_type": "code",
   "execution_count": 3,
   "id": "48586eb1",
   "metadata": {},
   "outputs": [],
   "source": [
    "vla_layout = get_array_layout(\"vla\")"
   ]
  },
  {
   "cell_type": "code",
   "execution_count": 4,
   "id": "1813010a",
   "metadata": {},
   "outputs": [],
   "source": [
    "eht_layout = get_array_layout(\"eht\")"
   ]
  },
  {
   "cell_type": "code",
   "execution_count": 5,
   "id": "1398748a",
   "metadata": {},
   "outputs": [],
   "source": [
    "from pyvisgen.simulation.utils import calc_ref_elev\n",
    "from datetime import datetime\n",
    "import pandas as pd\n",
    "import numpy as np\n",
    "import astropy.units as un\n",
    "from astropy.time import Time\n",
    "from astropy.coordinates import SkyCoord\n",
    "import matplotlib.pyplot as plt"
   ]
  },
  {
   "cell_type": "code",
   "execution_count": 17,
   "id": "ae966407",
   "metadata": {},
   "outputs": [
    {
     "data": {
      "text/plain": [
       "datetime.datetime(2021, 6, 22, 18, 0, 1)"
      ]
     },
     "execution_count": 17,
     "metadata": {},
     "output_type": "execute_result"
    }
   ],
   "source": [
    "start_time_l = datetime.strptime(\"01-01-2020 00:00:01\", \"%d-%m-%Y %H:%M:%S\")\n",
    "start_time_h = datetime.strptime(\"31-12-2021 23:59:59\", \"%d-%m-%Y %H:%M:%S\")\n",
    "start_times = pd.date_range(\n",
    "    start_time_l,\n",
    "    start_time_h,\n",
    "    freq=\"1h\",\n",
    ").strftime(\"%d-%m-%Y %H:%M:%S\")\n",
    "scan_start = np.random.choice(\n",
    "    [datetime.strptime(time, \"%d-%m-%Y %H:%M:%S\") for time in start_times]\n",
    ")\n",
    "scan_start"
   ]
  },
  {
   "cell_type": "code",
   "execution_count": 18,
   "id": "15c4d443",
   "metadata": {},
   "outputs": [
    {
     "data": {
      "text/plain": [
       "(39,)"
      ]
     },
     "execution_count": 18,
     "metadata": {},
     "output_type": "execute_result"
    }
   ],
   "source": [
    "start_time = Time(scan_start.isoformat(), format=\"isot\")\n",
    "interval = 3600\n",
    "num_scans = 3\n",
    "scan_duration = 360\n",
    "int_time = 30\n",
    "\n",
    "time_lst = [\n",
    "    start_time + interval * i * un.second + j * int_time * un.second\n",
    "    for i in range(num_scans)\n",
    "    for j in range(int(scan_duration / int_time) + 1)\n",
    "]\n",
    "# +1 because t_1 is the stop time of t_0\n",
    "# in order to save computing power we take one time more to complete interval\n",
    "time = Time(time_lst)\n",
    "time.shape"
   ]
  },
  {
   "cell_type": "code",
   "execution_count": 19,
   "id": "ae6e0fd1",
   "metadata": {},
   "outputs": [
    {
     "data": {
      "text/plain": [
       "[<matplotlib.lines.Line2D at 0x7fc0bcc36bb0>]"
      ]
     },
     "execution_count": 19,
     "metadata": {},
     "output_type": "execute_result"
    },
    {
     "data": {
      "image/png": "[encoded data removed]",
      "text/plain": [
       "<Figure size 864x576 with 1 Axes>"
      ]
     },
     "metadata": {
      "needs_background": "light"
     },
     "output_type": "display_data"
    }
   ],
   "source": [
    "plt.figure(figsize=(12,8))\n",
    "plt.plot(time.datetime, np.ones(time.shape), marker=\".\", linestyle=\"none\")"
   ]
  },
  {
   "cell_type": "code",
   "execution_count": 20,
   "id": "b164b0bc",
   "metadata": {},
   "outputs": [
    {
     "name": "stdout",
     "output_type": "stream",
     "text": [
      "[[1. 1. 1. 1. 1. 1. 1. 1. 1. 1.]\n",
      " [1. 1. 1. 1. 1. 1. 1. 1. 1. 1.]\n",
      " [1. 1. 1. 1. 1. 1. 1. 1. 1. 1.]\n",
      " [1. 1. 1. 1. 1. 1. 1. 1. 1. 1.]\n",
      " [1. 1. 1. 1. 1. 1. 1. 1. 1. 1.]\n",
      " [1. 1. 1. 1. 1. 1. 1. 1. 1. 1.]\n",
      " [1. 1. 1. 1. 1. 1. 1. 1. 1. 1.]\n",
      " [1. 1. 1. 1. 1. 1. 1. 1. 1. 1.]\n",
      " [1. 1. 1. 1. 1. 1. 1. 1. 1. 1.]\n",
      " [1. 1. 1. 1. 1. 1. 1. 1. 1. 1.]\n",
      " [1. 1. 1. 1. 1. 1. 1. 1. 1. 1.]\n",
      " [1. 1. 1. 1. 1. 1. 1. 1. 1. 1.]\n",
      " [1. 1. 1. 1. 1. 1. 1. 1. 1. 1.]\n",
      " [1. 1. 1. 1. 0. 1. 1. 1. 1. 1.]\n",
      " [1. 1. 1. 1. 0. 1. 1. 1. 1. 1.]\n",
      " [1. 1. 1. 1. 0. 1. 1. 1. 1. 1.]\n",
      " [1. 1. 1. 1. 0. 1. 1. 1. 1. 1.]\n",
      " [1. 1. 1. 1. 0. 1. 1. 1. 1. 1.]\n",
      " [1. 1. 1. 1. 0. 1. 1. 1. 1. 1.]\n",
      " [1. 1. 1. 1. 0. 1. 1. 1. 1. 1.]\n",
      " [1. 1. 1. 1. 0. 1. 1. 1. 1. 1.]\n",
      " [1. 1. 1. 1. 0. 1. 1. 1. 1. 1.]\n",
      " [1. 1. 1. 1. 0. 1. 1. 1. 1. 1.]\n",
      " [1. 1. 1. 1. 0. 1. 1. 1. 1. 1.]\n",
      " [1. 1. 1. 1. 0. 1. 1. 1. 1. 1.]\n",
      " [1. 1. 1. 1. 0. 1. 1. 1. 1. 1.]\n",
      " [1. 1. 1. 0. 0. 1. 1. 1. 1. 1.]\n",
      " [1. 1. 1. 0. 0. 1. 1. 1. 1. 1.]\n",
      " [1. 1. 1. 0. 0. 1. 1. 1. 1. 1.]\n",
      " [1. 1. 1. 0. 0. 1. 1. 1. 1. 1.]\n",
      " [1. 1. 1. 0. 0. 1. 1. 1. 1. 1.]\n",
      " [1. 1. 1. 0. 0. 1. 1. 1. 1. 1.]\n",
      " [1. 1. 1. 0. 0. 1. 1. 1. 1. 1.]\n",
      " [1. 1. 1. 0. 0. 1. 1. 1. 1. 1.]\n",
      " [1. 1. 1. 0. 0. 1. 1. 1. 1. 1.]\n",
      " [1. 1. 1. 0. 0. 1. 1. 1. 1. 1.]\n",
      " [1. 1. 1. 0. 0. 1. 1. 1. 1. 1.]\n",
      " [1. 1. 1. 0. 0. 1. 1. 1. 1. 1.]\n",
      " [1. 1. 1. 0. 0. 1. 1. 1. 1. 1.]]\n"
     ]
    }
   ],
   "source": [
    "src_crd = SkyCoord(\n",
    "    ra=240,\n",
    "    dec=50,\n",
    "    unit=(un.deg, un.deg),\n",
    ")\n",
    "\n",
    "array_layout = get_array_layout(\"vlba\")\n",
    "\n",
    "_, el_st_all = calc_ref_elev(src_crd, time, array_layout)\n",
    "\n",
    "el_min = 15\n",
    "el_max = 85\n",
    "\n",
    "valid = np.where((el_st_all >= el_min) & (el_st_all <= el_max), np.zeros(el_st_all.shape), 1)\n",
    "print(valid)\n",
    "telescopes = valid * (np.arange(10) + 1)"
   ]
  },
  {
   "cell_type": "code",
   "execution_count": 21,
   "id": "bf876195",
   "metadata": {},
   "outputs": [
    {
     "data": {
      "text/plain": [
       "Text(0.5, 0, 'Time')"
      ]
     },
     "execution_count": 21,
     "metadata": {},
     "output_type": "execute_result"
    },
    {
     "data": {
      "image/png": "[encoded data removed]",
      "text/plain": [
       "<Figure size 864x576 with 1 Axes>"
      ]
     },
     "metadata": {
      "needs_background": "light"
     },
     "output_type": "display_data"
    }
   ],
   "source": [
    "plt.figure(figsize=(12,8))\n",
    "plt.plot(time.datetime, telescopes, color=\"darkorange\", marker=\".\", linestyle=\"none\")\n",
    "\n",
    "plt.ylabel(\"Telescope\")\n",
    "plt.xlabel(\"Time\")"
   ]
  },
  {
   "cell_type": "code",
   "execution_count": null,
   "id": "f13d9598",
   "metadata": {},
   "outputs": [],
   "source": []
  },
  {
   "cell_type": "code",
   "execution_count": null,
   "id": "c955440f",
   "metadata": {},
   "outputs": [],
   "source": []
  },
  {
   "cell_type": "code",
   "execution_count": null,
   "id": "76bee522",
   "metadata": {},
   "outputs": [],
   "source": []
  },
  {
   "cell_type": "code",
   "execution_count": null,
   "id": "d837c212",
   "metadata": {},
   "outputs": [],
   "source": []
  }
 ],
 "metadata": {
  "kernelspec": {
   "display_name": "Python 3 (ipykernel)",
   "language": "python",
   "name": "python3"
  },
  "language_info": {
   "codemirror_mode": {
    "name": "ipython",
    "version": 3
   },
   "file_extension": ".py",
   "mimetype": "text/x-python",
   "name": "python",
   "nbconvert_exporter": "python",
   "pygments_lexer": "ipython3",
   "version": "3.9.7"
  }
 },
 "nbformat": 4,
 "nbformat_minor": 5
}
